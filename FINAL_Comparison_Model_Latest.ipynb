{
 "cells": [
  {
   "cell_type": "code",
   "execution_count": 1,
   "id": "feeab910",
   "metadata": {},
   "outputs": [],
   "source": [
    "import pandas as pd\n",
    "import numpy as np\n",
    "import operator as op\n",
    "\n",
    "#Preprocessing\n",
    "import re\n",
    "import nltk\n",
    "from nltk.stem import WordNetLemmatizer\n",
    "from nltk.tokenize import word_tokenize\n",
    "\n",
    "#Clustering\n",
    "from matplotlib import pyplot as plt\n",
    "%matplotlib inline\n",
    "from scipy.linalg import norm\n",
    "from scipy.spatial.distance import euclidean\n",
    "from sklearn.cluster import KMeans, BisectingKMeans\n",
    "from sklearn.feature_extraction.text import TfidfVectorizer\n",
    "from deep_translator import GoogleTranslator\n",
    "from sklearn import datasets\n",
    "\n",
    "#WordCloud\n",
    "from wordcloud import WordCloud\n",
    "from wordcloud import ImageColorGenerator\n",
    "from wordcloud import STOPWORDS\n",
    "\n",
    "#BiLSTM\n",
    "from sklearn.model_selection import train_test_split\n",
    "from tensorflow.keras.layers import Embedding\n",
    "from tensorflow.keras.preprocessing.sequence import pad_sequences\n",
    "from tensorflow.keras.models import Sequential\n",
    "from tensorflow.keras.preprocessing.text import one_hot\n",
    "from tensorflow.keras.layers import LSTM\n",
    "from tensorflow.keras.layers import Dense\n",
    "from tensorflow.keras.layers import Bidirectional\n",
    "from tensorflow.keras.layers import Dropout\n",
    "from keras.optimizers import SGD, Adam\n",
    "from tensorflow.keras.optimizers import Adam\n",
    "from tensorflow.keras.optimizers import Adamax\n",
    "import tensorflow as tf\n",
    "\n",
    "from sklearn.metrics import confusion_matrix\n",
    "from sklearn.metrics import classification_report\n",
    "import pingouin as pg"
   ]
  },
  {
   "cell_type": "markdown",
   "id": "63b9ad4c",
   "metadata": {},
   "source": [
    "# Loading of the Dataset in Google Drive"
   ]
  },
  {
   "cell_type": "code",
   "execution_count": 2,
   "id": "7f25c296",
   "metadata": {},
   "outputs": [
    {
     "data": {
      "text/html": [
       "<div>\n",
       "<style scoped>\n",
       "    .dataframe tbody tr th:only-of-type {\n",
       "        vertical-align: middle;\n",
       "    }\n",
       "\n",
       "    .dataframe tbody tr th {\n",
       "        vertical-align: top;\n",
       "    }\n",
       "\n",
       "    .dataframe thead th {\n",
       "        text-align: right;\n",
       "    }\n",
       "</style>\n",
       "<table border=\"1\" class=\"dataframe\">\n",
       "  <thead>\n",
       "    <tr style=\"text-align: right;\">\n",
       "      <th></th>\n",
       "      <th>Unnamed: 0</th>\n",
       "      <th>Time</th>\n",
       "      <th>User</th>\n",
       "      <th>Sentiment</th>\n",
       "      <th>Tweet</th>\n",
       "    </tr>\n",
       "  </thead>\n",
       "  <tbody>\n",
       "    <tr>\n",
       "      <th>0</th>\n",
       "      <td>0</td>\n",
       "      <td>2022-07-25 04:48:14+00:00</td>\n",
       "      <td>qverubin</td>\n",
       "      <td>Negative</td>\n",
       "      <td>@Converge_CSU @instagram tf is going on????</td>\n",
       "    </tr>\n",
       "    <tr>\n",
       "      <th>1</th>\n",
       "      <td>1</td>\n",
       "      <td>2022-07-25 04:46:05+00:00</td>\n",
       "      <td>dludvian</td>\n",
       "      <td>Negative</td>\n",
       "      <td>Fix your goddamn bullshit shitty crappy fuckin...</td>\n",
       "    </tr>\n",
       "    <tr>\n",
       "      <th>2</th>\n",
       "      <td>2</td>\n",
       "      <td>2022-07-25 04:36:12+00:00</td>\n",
       "      <td>CRANKiT2U</td>\n",
       "      <td>Negative</td>\n",
       "      <td>After more than 17hrs of reachingout and troub...</td>\n",
       "    </tr>\n",
       "    <tr>\n",
       "      <th>3</th>\n",
       "      <td>3</td>\n",
       "      <td>2022-07-25 04:33:02+00:00</td>\n",
       "      <td>lacson_go</td>\n",
       "      <td>Neutral</td>\n",
       "      <td>@Converge_CSU hello?</td>\n",
       "    </tr>\n",
       "    <tr>\n",
       "      <th>4</th>\n",
       "      <td>4</td>\n",
       "      <td>2022-07-25 04:30:07+00:00</td>\n",
       "      <td>pamelamazing13</td>\n",
       "      <td>Negative</td>\n",
       "      <td>@TimothyTam725 @Converge_CSU @ExperienceCNVRG ...</td>\n",
       "    </tr>\n",
       "    <tr>\n",
       "      <th>...</th>\n",
       "      <td>...</td>\n",
       "      <td>...</td>\n",
       "      <td>...</td>\n",
       "      <td>...</td>\n",
       "      <td>...</td>\n",
       "    </tr>\n",
       "    <tr>\n",
       "      <th>9985</th>\n",
       "      <td>9985</td>\n",
       "      <td>2022-08-06 10:59:28+00:00</td>\n",
       "      <td>ericccvlogs</td>\n",
       "      <td>Negative</td>\n",
       "      <td>@talk2GLOBE Even in private message ayaw niyo ...</td>\n",
       "    </tr>\n",
       "    <tr>\n",
       "      <th>9986</th>\n",
       "      <td>9986</td>\n",
       "      <td>2022-08-06 10:54:25+00:00</td>\n",
       "      <td>ericccvlogs</td>\n",
       "      <td>Negative</td>\n",
       "      <td>@talk2GLOBE Serbisyong TAE!!!</td>\n",
       "    </tr>\n",
       "    <tr>\n",
       "      <th>9987</th>\n",
       "      <td>9987</td>\n",
       "      <td>2022-08-06 10:53:58+00:00</td>\n",
       "      <td>ericccvlogs</td>\n",
       "      <td>Negative</td>\n",
       "      <td>@talk2GLOBE Serbisyong TAE!!!!</td>\n",
       "    </tr>\n",
       "    <tr>\n",
       "      <th>9988</th>\n",
       "      <td>9988</td>\n",
       "      <td>2022-08-06 10:48:34+00:00</td>\n",
       "      <td>kennethyau</td>\n",
       "      <td>Neutral</td>\n",
       "      <td>@talk2GLOBE Kindly check your DM. Thank you</td>\n",
       "    </tr>\n",
       "    <tr>\n",
       "      <th>9989</th>\n",
       "      <td>9989</td>\n",
       "      <td>2022-08-06 10:42:04+00:00</td>\n",
       "      <td>abiwanders</td>\n",
       "      <td>Negative</td>\n",
       "      <td>@talk2GLOBE UTANG NA LOOB PAKIBIGYAN NAMAN AKO...</td>\n",
       "    </tr>\n",
       "  </tbody>\n",
       "</table>\n",
       "<p>9990 rows × 5 columns</p>\n",
       "</div>"
      ],
      "text/plain": [
       "      Unnamed: 0                       Time            User Sentiment  \\\n",
       "0              0  2022-07-25 04:48:14+00:00        qverubin  Negative   \n",
       "1              1  2022-07-25 04:46:05+00:00        dludvian  Negative   \n",
       "2              2  2022-07-25 04:36:12+00:00       CRANKiT2U  Negative   \n",
       "3              3  2022-07-25 04:33:02+00:00       lacson_go   Neutral   \n",
       "4              4  2022-07-25 04:30:07+00:00  pamelamazing13  Negative   \n",
       "...          ...                        ...             ...       ...   \n",
       "9985        9985  2022-08-06 10:59:28+00:00     ericccvlogs  Negative   \n",
       "9986        9986  2022-08-06 10:54:25+00:00     ericccvlogs  Negative   \n",
       "9987        9987  2022-08-06 10:53:58+00:00     ericccvlogs  Negative   \n",
       "9988        9988  2022-08-06 10:48:34+00:00      kennethyau   Neutral   \n",
       "9989        9989  2022-08-06 10:42:04+00:00      abiwanders  Negative   \n",
       "\n",
       "                                                  Tweet  \n",
       "0           @Converge_CSU @instagram tf is going on????  \n",
       "1     Fix your goddamn bullshit shitty crappy fuckin...  \n",
       "2     After more than 17hrs of reachingout and troub...  \n",
       "3                                  @Converge_CSU hello?  \n",
       "4     @TimothyTam725 @Converge_CSU @ExperienceCNVRG ...  \n",
       "...                                                 ...  \n",
       "9985  @talk2GLOBE Even in private message ayaw niyo ...  \n",
       "9986                      @talk2GLOBE Serbisyong TAE!!!  \n",
       "9987                     @talk2GLOBE Serbisyong TAE!!!!  \n",
       "9988        @talk2GLOBE Kindly check your DM. Thank you  \n",
       "9989  @talk2GLOBE UTANG NA LOOB PAKIBIGYAN NAMAN AKO...  \n",
       "\n",
       "[9990 rows x 5 columns]"
      ]
     },
     "execution_count": 2,
     "metadata": {},
     "output_type": "execute_result"
    }
   ],
   "source": [
    "#Load the dataset csv file coming from gdrive\n",
    "url = 'https://drive.google.com/file/d/18ds8uNdxhSjb39jvWnepdstfFPv64ClH/view?usp=sharing'\n",
    "path = 'https://drive.google.com/uc?export=download&id=' + url.split('/')[-2]\n",
    "internet_dataset = pd.read_csv(path)\n",
    "internet_dataset"
   ]
  },
  {
   "cell_type": "code",
   "execution_count": 3,
   "id": "b1b8bd69",
   "metadata": {
    "scrolled": false
   },
   "outputs": [
    {
     "data": {
      "text/html": [
       "<div>\n",
       "<style scoped>\n",
       "    .dataframe tbody tr th:only-of-type {\n",
       "        vertical-align: middle;\n",
       "    }\n",
       "\n",
       "    .dataframe tbody tr th {\n",
       "        vertical-align: top;\n",
       "    }\n",
       "\n",
       "    .dataframe thead th {\n",
       "        text-align: right;\n",
       "    }\n",
       "</style>\n",
       "<table border=\"1\" class=\"dataframe\">\n",
       "  <thead>\n",
       "    <tr style=\"text-align: right;\">\n",
       "      <th></th>\n",
       "      <th>Sentiment</th>\n",
       "      <th>Tweet</th>\n",
       "    </tr>\n",
       "  </thead>\n",
       "  <tbody>\n",
       "    <tr>\n",
       "      <th>0</th>\n",
       "      <td>Negative</td>\n",
       "      <td>@Converge_CSU @instagram tf is going on????</td>\n",
       "    </tr>\n",
       "    <tr>\n",
       "      <th>1</th>\n",
       "      <td>Negative</td>\n",
       "      <td>Fix your goddamn bullshit shitty crappy fuckin...</td>\n",
       "    </tr>\n",
       "    <tr>\n",
       "      <th>2</th>\n",
       "      <td>Negative</td>\n",
       "      <td>After more than 17hrs of reachingout and troub...</td>\n",
       "    </tr>\n",
       "    <tr>\n",
       "      <th>3</th>\n",
       "      <td>Neutral</td>\n",
       "      <td>@Converge_CSU hello?</td>\n",
       "    </tr>\n",
       "    <tr>\n",
       "      <th>4</th>\n",
       "      <td>Negative</td>\n",
       "      <td>@TimothyTam725 @Converge_CSU @ExperienceCNVRG ...</td>\n",
       "    </tr>\n",
       "    <tr>\n",
       "      <th>...</th>\n",
       "      <td>...</td>\n",
       "      <td>...</td>\n",
       "    </tr>\n",
       "    <tr>\n",
       "      <th>9985</th>\n",
       "      <td>Negative</td>\n",
       "      <td>@talk2GLOBE Even in private message ayaw niyo ...</td>\n",
       "    </tr>\n",
       "    <tr>\n",
       "      <th>9986</th>\n",
       "      <td>Negative</td>\n",
       "      <td>@talk2GLOBE Serbisyong TAE!!!</td>\n",
       "    </tr>\n",
       "    <tr>\n",
       "      <th>9987</th>\n",
       "      <td>Negative</td>\n",
       "      <td>@talk2GLOBE Serbisyong TAE!!!!</td>\n",
       "    </tr>\n",
       "    <tr>\n",
       "      <th>9988</th>\n",
       "      <td>Neutral</td>\n",
       "      <td>@talk2GLOBE Kindly check your DM. Thank you</td>\n",
       "    </tr>\n",
       "    <tr>\n",
       "      <th>9989</th>\n",
       "      <td>Negative</td>\n",
       "      <td>@talk2GLOBE UTANG NA LOOB PAKIBIGYAN NAMAN AKO...</td>\n",
       "    </tr>\n",
       "  </tbody>\n",
       "</table>\n",
       "<p>9990 rows × 2 columns</p>\n",
       "</div>"
      ],
      "text/plain": [
       "     Sentiment                                              Tweet\n",
       "0     Negative        @Converge_CSU @instagram tf is going on????\n",
       "1     Negative  Fix your goddamn bullshit shitty crappy fuckin...\n",
       "2     Negative  After more than 17hrs of reachingout and troub...\n",
       "3      Neutral                               @Converge_CSU hello?\n",
       "4     Negative  @TimothyTam725 @Converge_CSU @ExperienceCNVRG ...\n",
       "...        ...                                                ...\n",
       "9985  Negative  @talk2GLOBE Even in private message ayaw niyo ...\n",
       "9986  Negative                      @talk2GLOBE Serbisyong TAE!!!\n",
       "9987  Negative                     @talk2GLOBE Serbisyong TAE!!!!\n",
       "9988   Neutral        @talk2GLOBE Kindly check your DM. Thank you\n",
       "9989  Negative  @talk2GLOBE UTANG NA LOOB PAKIBIGYAN NAMAN AKO...\n",
       "\n",
       "[9990 rows x 2 columns]"
      ]
     },
     "execution_count": 3,
     "metadata": {},
     "output_type": "execute_result"
    }
   ],
   "source": [
    "internet_dataset = internet_dataset[['Sentiment', 'Tweet']]\n",
    "internet_dataset"
   ]
  },
  {
   "cell_type": "markdown",
   "id": "e6482baa",
   "metadata": {},
   "source": [
    "# Preprocessing"
   ]
  },
  {
   "cell_type": "code",
   "execution_count": 4,
   "id": "3eb5f022",
   "metadata": {},
   "outputs": [
    {
     "name": "stderr",
     "output_type": "stream",
     "text": [
      "<ipython-input-4-f0cd1fb7b515>:10: SettingWithCopyWarning: \n",
      "A value is trying to be set on a copy of a slice from a DataFrame.\n",
      "Try using .loc[row_indexer,col_indexer] = value instead\n",
      "\n",
      "See the caveats in the documentation: https://pandas.pydata.org/pandas-docs/stable/user_guide/indexing.html#returning-a-view-versus-a-copy\n",
      "  internet_dataset['Tweet'] = internet_dataset['Tweet'].apply(remove_usernames_links)\n"
     ]
    }
   ],
   "source": [
    "#Remove Twitter Usernames and Special Characters in Tweets\n",
    "def remove_usernames_links(tweet):\n",
    "    #Twitter Names\n",
    "    tweet = re.sub('@[^\\s]+','',tweet)\n",
    "    tweet = re.sub('http[^\\s]+','',tweet)\n",
    "    #Special Characters\n",
    "    tweet = re.sub(r\"[^a-zA-Z0-9]+\", ' ', tweet)\n",
    "    return tweet\n",
    "\n",
    "internet_dataset['Tweet'] = internet_dataset['Tweet'].apply(remove_usernames_links)\n"
   ]
  },
  {
   "cell_type": "code",
   "execution_count": 5,
   "id": "4d916ea9",
   "metadata": {},
   "outputs": [
    {
     "name": "stderr",
     "output_type": "stream",
     "text": [
      "<ipython-input-5-4148ee898ca2>:2: SettingWithCopyWarning: \n",
      "A value is trying to be set on a copy of a slice from a DataFrame.\n",
      "Try using .loc[row_indexer,col_indexer] = value instead\n",
      "\n",
      "See the caveats in the documentation: https://pandas.pydata.org/pandas-docs/stable/user_guide/indexing.html#returning-a-view-versus-a-copy\n",
      "  internet_dataset['Tweet'] = internet_dataset['Tweet'].str.lower()\n"
     ]
    },
    {
     "data": {
      "text/html": [
       "<div>\n",
       "<style scoped>\n",
       "    .dataframe tbody tr th:only-of-type {\n",
       "        vertical-align: middle;\n",
       "    }\n",
       "\n",
       "    .dataframe tbody tr th {\n",
       "        vertical-align: top;\n",
       "    }\n",
       "\n",
       "    .dataframe thead th {\n",
       "        text-align: right;\n",
       "    }\n",
       "</style>\n",
       "<table border=\"1\" class=\"dataframe\">\n",
       "  <thead>\n",
       "    <tr style=\"text-align: right;\">\n",
       "      <th></th>\n",
       "      <th>Sentiment</th>\n",
       "      <th>Tweet</th>\n",
       "    </tr>\n",
       "  </thead>\n",
       "  <tbody>\n",
       "    <tr>\n",
       "      <th>0</th>\n",
       "      <td>Negative</td>\n",
       "      <td>tf is going on</td>\n",
       "    </tr>\n",
       "    <tr>\n",
       "      <th>1</th>\n",
       "      <td>Negative</td>\n",
       "      <td>fix your goddamn bullshit shitty crappy fuckin...</td>\n",
       "    </tr>\n",
       "    <tr>\n",
       "      <th>2</th>\n",
       "      <td>Negative</td>\n",
       "      <td>after more than 17hrs of reachingout and troub...</td>\n",
       "    </tr>\n",
       "    <tr>\n",
       "      <th>3</th>\n",
       "      <td>Neutral</td>\n",
       "      <td>hello</td>\n",
       "    </tr>\n",
       "    <tr>\n",
       "      <th>4</th>\n",
       "      <td>Negative</td>\n",
       "      <td>i will definitely do this and will ask for my...</td>\n",
       "    </tr>\n",
       "    <tr>\n",
       "      <th>...</th>\n",
       "      <td>...</td>\n",
       "      <td>...</td>\n",
       "    </tr>\n",
       "    <tr>\n",
       "      <th>9985</th>\n",
       "      <td>Negative</td>\n",
       "      <td>even in private message ayaw niyo magresponse...</td>\n",
       "    </tr>\n",
       "    <tr>\n",
       "      <th>9986</th>\n",
       "      <td>Negative</td>\n",
       "      <td>serbisyong tae</td>\n",
       "    </tr>\n",
       "    <tr>\n",
       "      <th>9987</th>\n",
       "      <td>Negative</td>\n",
       "      <td>serbisyong tae</td>\n",
       "    </tr>\n",
       "    <tr>\n",
       "      <th>9988</th>\n",
       "      <td>Neutral</td>\n",
       "      <td>kindly check your dm thank you</td>\n",
       "    </tr>\n",
       "    <tr>\n",
       "      <th>9989</th>\n",
       "      <td>Negative</td>\n",
       "      <td>utang na loob pakibigyan naman ako ng maayos ...</td>\n",
       "    </tr>\n",
       "  </tbody>\n",
       "</table>\n",
       "<p>9990 rows × 2 columns</p>\n",
       "</div>"
      ],
      "text/plain": [
       "     Sentiment                                              Tweet\n",
       "0     Negative                                    tf is going on \n",
       "1     Negative  fix your goddamn bullshit shitty crappy fuckin...\n",
       "2     Negative  after more than 17hrs of reachingout and troub...\n",
       "3      Neutral                                             hello \n",
       "4     Negative   i will definitely do this and will ask for my...\n",
       "...        ...                                                ...\n",
       "9985  Negative   even in private message ayaw niyo magresponse...\n",
       "9986  Negative                                    serbisyong tae \n",
       "9987  Negative                                    serbisyong tae \n",
       "9988   Neutral                     kindly check your dm thank you\n",
       "9989  Negative   utang na loob pakibigyan naman ako ng maayos ...\n",
       "\n",
       "[9990 rows x 2 columns]"
      ]
     },
     "execution_count": 5,
     "metadata": {},
     "output_type": "execute_result"
    }
   ],
   "source": [
    "#Lowercase Tweets\n",
    "internet_dataset['Tweet'] = internet_dataset['Tweet'].str.lower()\n",
    "internet_dataset"
   ]
  },
  {
   "cell_type": "code",
   "execution_count": 6,
   "id": "0abee9cf",
   "metadata": {},
   "outputs": [
    {
     "name": "stderr",
     "output_type": "stream",
     "text": [
      "<ipython-input-6-8721ea5c7dca>:2: FutureWarning: The default value of regex will change from True to False in a future version.\n",
      "  internet_dataset['Tweet'] = internet_dataset['Tweet'].str.replace('\\d+', '')\n",
      "<ipython-input-6-8721ea5c7dca>:2: SettingWithCopyWarning: \n",
      "A value is trying to be set on a copy of a slice from a DataFrame.\n",
      "Try using .loc[row_indexer,col_indexer] = value instead\n",
      "\n",
      "See the caveats in the documentation: https://pandas.pydata.org/pandas-docs/stable/user_guide/indexing.html#returning-a-view-versus-a-copy\n",
      "  internet_dataset['Tweet'] = internet_dataset['Tweet'].str.replace('\\d+', '')\n"
     ]
    },
    {
     "data": {
      "text/html": [
       "<div>\n",
       "<style scoped>\n",
       "    .dataframe tbody tr th:only-of-type {\n",
       "        vertical-align: middle;\n",
       "    }\n",
       "\n",
       "    .dataframe tbody tr th {\n",
       "        vertical-align: top;\n",
       "    }\n",
       "\n",
       "    .dataframe thead th {\n",
       "        text-align: right;\n",
       "    }\n",
       "</style>\n",
       "<table border=\"1\" class=\"dataframe\">\n",
       "  <thead>\n",
       "    <tr style=\"text-align: right;\">\n",
       "      <th></th>\n",
       "      <th>Sentiment</th>\n",
       "      <th>Tweet</th>\n",
       "    </tr>\n",
       "  </thead>\n",
       "  <tbody>\n",
       "    <tr>\n",
       "      <th>0</th>\n",
       "      <td>Negative</td>\n",
       "      <td>tf is going on</td>\n",
       "    </tr>\n",
       "    <tr>\n",
       "      <th>1</th>\n",
       "      <td>Negative</td>\n",
       "      <td>fix your goddamn bullshit shitty crappy fuckin...</td>\n",
       "    </tr>\n",
       "    <tr>\n",
       "      <th>2</th>\n",
       "      <td>Negative</td>\n",
       "      <td>after more than hrs of reachingout and trouble...</td>\n",
       "    </tr>\n",
       "    <tr>\n",
       "      <th>3</th>\n",
       "      <td>Neutral</td>\n",
       "      <td>hello</td>\n",
       "    </tr>\n",
       "    <tr>\n",
       "      <th>4</th>\n",
       "      <td>Negative</td>\n",
       "      <td>i will definitely do this and will ask for my...</td>\n",
       "    </tr>\n",
       "    <tr>\n",
       "      <th>...</th>\n",
       "      <td>...</td>\n",
       "      <td>...</td>\n",
       "    </tr>\n",
       "    <tr>\n",
       "      <th>9985</th>\n",
       "      <td>Negative</td>\n",
       "      <td>even in private message ayaw niyo magresponse...</td>\n",
       "    </tr>\n",
       "    <tr>\n",
       "      <th>9986</th>\n",
       "      <td>Negative</td>\n",
       "      <td>serbisyong tae</td>\n",
       "    </tr>\n",
       "    <tr>\n",
       "      <th>9987</th>\n",
       "      <td>Negative</td>\n",
       "      <td>serbisyong tae</td>\n",
       "    </tr>\n",
       "    <tr>\n",
       "      <th>9988</th>\n",
       "      <td>Neutral</td>\n",
       "      <td>kindly check your dm thank you</td>\n",
       "    </tr>\n",
       "    <tr>\n",
       "      <th>9989</th>\n",
       "      <td>Negative</td>\n",
       "      <td>utang na loob pakibigyan naman ako ng maayos ...</td>\n",
       "    </tr>\n",
       "  </tbody>\n",
       "</table>\n",
       "<p>9990 rows × 2 columns</p>\n",
       "</div>"
      ],
      "text/plain": [
       "     Sentiment                                              Tweet\n",
       "0     Negative                                    tf is going on \n",
       "1     Negative  fix your goddamn bullshit shitty crappy fuckin...\n",
       "2     Negative  after more than hrs of reachingout and trouble...\n",
       "3      Neutral                                             hello \n",
       "4     Negative   i will definitely do this and will ask for my...\n",
       "...        ...                                                ...\n",
       "9985  Negative   even in private message ayaw niyo magresponse...\n",
       "9986  Negative                                    serbisyong tae \n",
       "9987  Negative                                    serbisyong tae \n",
       "9988   Neutral                     kindly check your dm thank you\n",
       "9989  Negative   utang na loob pakibigyan naman ako ng maayos ...\n",
       "\n",
       "[9990 rows x 2 columns]"
      ]
     },
     "execution_count": 6,
     "metadata": {},
     "output_type": "execute_result"
    }
   ],
   "source": [
    "#Remove Numbers in Tweets\n",
    "internet_dataset['Tweet'] = internet_dataset['Tweet'].str.replace('\\d+', '')\n",
    "internet_dataset"
   ]
  },
  {
   "cell_type": "code",
   "execution_count": 7,
   "id": "31c00d87",
   "metadata": {},
   "outputs": [],
   "source": [
    "#Custom Stopwords\n",
    "stopwords = ['ourselves', 'hers', 'between', 'yourself', 'but', 'again', 'there', 'about', \n",
    "             'once', 'during', 'out', 'very', 'having', 'with', 'they', 'own', 'an', 'be', \n",
    "             'some', 'for', 'do', 'its', 'yours', 'such', 'into', 'of', 'most', 'itself', 'other', \n",
    "             'off', 'is', 's', 'am', 'or', 'who', 'as', 'from', 'him', 'each', 'the', 'themselves', \n",
    "             'until', 'below', 'are', 'we', 'these', 'your', 'his', 'through', 'nor', 'me', 'were', \n",
    "             'her', 'more', 'himself', 'this', 'should', 'our', 'their', 'while', 'above', 'both', \n",
    "             'up', 'to', 'ours', 'had', 'she', 'all',  'when', 'at', 'any', 'before', 'them', 'same', \n",
    "             'and', 'been', 'have', 'in', 'will', 'on', 'does', 'yourselves', 'then', 'that', \n",
    "             'because', 'what', 'over', 'why', 'so', 'can', 'did', 'now', 'under', 'he', 'you', \n",
    "             'herself', 'has', 'just', 'where', 'too', 'only', 'myself', 'which', 'those', 'i', \n",
    "             'after', 'few', 'whom', 'being', 'if', 'theirs', 'my', 'against', 'a', 'by', 'doing', \n",
    "             'it', 'how', 'further', 'was', 'here', 'than', 'hello', 'hi', 'please', 'pls', 'daw', \n",
    "             'namang', 're', 'they', 'lang', 'namin', 'kase', 'kaming', 'anu', 'rin', 'din', 'raw', \n",
    "             'pano', 'may', 'tas', 'anong', 'ako', 'sa', 'akin', 'ko', 'aking', 'sarili', 'kami', \n",
    "             'atin', 'ang', 'aming', 'amin', 'ating', 'ka', 'iyong', 'iyo', 'inyong', 'siya', 'kanya', \n",
    "             'mismo', 'ito', 'nito', 'kanyang', 'sila', 'nila', 'kanila', 'kanilang', 'kung', 'ano', \n",
    "             'alin', 'sino', 'kanino', 'na', 'mga', 'iyon', 'am', 'ay', 'maging', 'naging', 'mayroon', \n",
    "             'may', 'nagkaroon', 'pagkakaroon', 'gumawa', 'ginagawa', 'ginawa', 'paggawa', 'ibig', \n",
    "             'dapat', 'maaari', 'marapat', 'kong', 'ikaw', 'tayo', 'namin', 'gusto', 'nais', 'niyang', \n",
    "             'nilang', 'niya', 'ginawang', 'gagawin', 'maaaring', 'sabihin', 'narito', 'kapag', 'ni', \n",
    "             'nasaan', 'bakit', 'paano', 'kailangan', 'katiyakan', 'isang', 'at', 'pero', 'o', 'dahil', \n",
    "             'bilang', 'hanggang', 'habang', 'ng', 'pamamagitan', 'para', 'tungkol', 'laban', 'pagitan', \n",
    "             'panahon', 'bago', 'pagkatapos', 'itaas', 'ibaba', 'mula', 'pataas', 'pababa', 'palabas', \n",
    "             'ibabaw', 'ilalim', 'muli', 'pa', 'minsan', 'dito', 'doon', 'saan', 'lahat', 'anumang', \n",
    "             'kapwa', 'bawat', 'ilan', 'karamihan', 'iba', 'tulad', 'lamang', 'pareho', 'kaya', 'kaysa', \n",
    "             'masyado', 'napaka', 'isa', 'bababa', 'kulang', 'marami', 'ngayon', 'kailanman', 'sabi', \n",
    "             'nabanggit', 'din', 'kumuha', 'pumunta', 'pumupunta', 'ilagay', 'makita', 'nakita', 'katulad', \n",
    "             'mahusay', 'likod', 'kahit', 'paraan', 'noon', 'gayunman', 'dalawa', 'tatlo', 'apat', 'lima', \n",
    "             'una', 'pangalawa', 'po', 'na', 'ah', 'pi']"
   ]
  },
  {
   "cell_type": "code",
   "execution_count": 8,
   "id": "03df705e",
   "metadata": {},
   "outputs": [
    {
     "name": "stderr",
     "output_type": "stream",
     "text": [
      "<ipython-input-8-5b9adc8bfc85>:2: SettingWithCopyWarning: \n",
      "A value is trying to be set on a copy of a slice from a DataFrame.\n",
      "Try using .loc[row_indexer,col_indexer] = value instead\n",
      "\n",
      "See the caveats in the documentation: https://pandas.pydata.org/pandas-docs/stable/user_guide/indexing.html#returning-a-view-versus-a-copy\n",
      "  internet_dataset['Tweet'] = internet_dataset['Tweet'].apply(lambda x: ' '.join([word for word in x.split() if word not in (stopwords)]))\n"
     ]
    },
    {
     "data": {
      "text/html": [
       "<div>\n",
       "<style scoped>\n",
       "    .dataframe tbody tr th:only-of-type {\n",
       "        vertical-align: middle;\n",
       "    }\n",
       "\n",
       "    .dataframe tbody tr th {\n",
       "        vertical-align: top;\n",
       "    }\n",
       "\n",
       "    .dataframe thead th {\n",
       "        text-align: right;\n",
       "    }\n",
       "</style>\n",
       "<table border=\"1\" class=\"dataframe\">\n",
       "  <thead>\n",
       "    <tr style=\"text-align: right;\">\n",
       "      <th></th>\n",
       "      <th>Sentiment</th>\n",
       "      <th>Tweet</th>\n",
       "    </tr>\n",
       "  </thead>\n",
       "  <tbody>\n",
       "    <tr>\n",
       "      <th>0</th>\n",
       "      <td>Negative</td>\n",
       "      <td>tf going</td>\n",
       "    </tr>\n",
       "    <tr>\n",
       "      <th>1</th>\n",
       "      <td>Negative</td>\n",
       "      <td>fix goddamn bullshit shitty crappy fucking bul...</td>\n",
       "    </tr>\n",
       "    <tr>\n",
       "      <th>2</th>\n",
       "      <td>Negative</td>\n",
       "      <td>hrs reachingout troubleshooting possible ways ...</td>\n",
       "    </tr>\n",
       "    <tr>\n",
       "      <th>3</th>\n",
       "      <td>Neutral</td>\n",
       "      <td></td>\n",
       "    </tr>\n",
       "    <tr>\n",
       "      <th>4</th>\n",
       "      <td>Negative</td>\n",
       "      <td>definitely ask family friends report</td>\n",
       "    </tr>\n",
       "    <tr>\n",
       "      <th>...</th>\n",
       "      <td>...</td>\n",
       "      <td>...</td>\n",
       "    </tr>\n",
       "    <tr>\n",
       "      <th>9985</th>\n",
       "      <td>Negative</td>\n",
       "      <td>even private message ayaw niyo magresponse kla...</td>\n",
       "    </tr>\n",
       "    <tr>\n",
       "      <th>9986</th>\n",
       "      <td>Negative</td>\n",
       "      <td>serbisyong tae</td>\n",
       "    </tr>\n",
       "    <tr>\n",
       "      <th>9987</th>\n",
       "      <td>Negative</td>\n",
       "      <td>serbisyong tae</td>\n",
       "    </tr>\n",
       "    <tr>\n",
       "      <th>9988</th>\n",
       "      <td>Neutral</td>\n",
       "      <td>kindly check dm thank</td>\n",
       "    </tr>\n",
       "    <tr>\n",
       "      <th>9989</th>\n",
       "      <td>Negative</td>\n",
       "      <td>utang loob pakibigyan naman maayos ayos agent ...</td>\n",
       "    </tr>\n",
       "  </tbody>\n",
       "</table>\n",
       "<p>9990 rows × 2 columns</p>\n",
       "</div>"
      ],
      "text/plain": [
       "     Sentiment                                              Tweet\n",
       "0     Negative                                           tf going\n",
       "1     Negative  fix goddamn bullshit shitty crappy fucking bul...\n",
       "2     Negative  hrs reachingout troubleshooting possible ways ...\n",
       "3      Neutral                                                   \n",
       "4     Negative               definitely ask family friends report\n",
       "...        ...                                                ...\n",
       "9985  Negative  even private message ayaw niyo magresponse kla...\n",
       "9986  Negative                                     serbisyong tae\n",
       "9987  Negative                                     serbisyong tae\n",
       "9988   Neutral                              kindly check dm thank\n",
       "9989  Negative  utang loob pakibigyan naman maayos ayos agent ...\n",
       "\n",
       "[9990 rows x 2 columns]"
      ]
     },
     "execution_count": 8,
     "metadata": {},
     "output_type": "execute_result"
    }
   ],
   "source": [
    "#Removal of Stopwords\n",
    "internet_dataset['Tweet'] = internet_dataset['Tweet'].apply(lambda x: ' '.join([word for word in x.split() if word not in (stopwords)]))\n",
    "internet_dataset"
   ]
  },
  {
   "cell_type": "code",
   "execution_count": 9,
   "id": "3ed5ba2d",
   "metadata": {},
   "outputs": [
    {
     "name": "stderr",
     "output_type": "stream",
     "text": [
      "<ipython-input-9-fb89e4a6d685>:2: SettingWithCopyWarning: \n",
      "A value is trying to be set on a copy of a slice from a DataFrame.\n",
      "Try using .loc[row_indexer,col_indexer] = value instead\n",
      "\n",
      "See the caveats in the documentation: https://pandas.pydata.org/pandas-docs/stable/user_guide/indexing.html#returning-a-view-versus-a-copy\n",
      "  internet_dataset['Tokenize'] = internet_dataset['Tweet'].apply(word_tokenize)\n"
     ]
    }
   ],
   "source": [
    "#Tokenize Tweets\n",
    "internet_dataset['Tokenize'] = internet_dataset['Tweet'].apply(word_tokenize) "
   ]
  },
  {
   "cell_type": "code",
   "execution_count": 10,
   "id": "b1d98769",
   "metadata": {},
   "outputs": [],
   "source": [
    "w_tokenizer = nltk.tokenize.WhitespaceTokenizer()\n",
    "lemmatizer = nltk.WordNetLemmatizer()\n",
    "\n",
    "#Lemmatization\n",
    "def lemmatize_text(Tweet):\n",
    "     return [lemmatizer.lemmatize(w) for w in w_tokenizer.tokenize(Tweet)]"
   ]
  },
  {
   "cell_type": "code",
   "execution_count": 11,
   "id": "43202993",
   "metadata": {},
   "outputs": [
    {
     "name": "stderr",
     "output_type": "stream",
     "text": [
      "<ipython-input-11-21e97b6378e4>:1: SettingWithCopyWarning: \n",
      "A value is trying to be set on a copy of a slice from a DataFrame.\n",
      "Try using .loc[row_indexer,col_indexer] = value instead\n",
      "\n",
      "See the caveats in the documentation: https://pandas.pydata.org/pandas-docs/stable/user_guide/indexing.html#returning-a-view-versus-a-copy\n",
      "  internet_dataset['Lemmatize'] = internet_dataset['Tweet'].apply(lemmatize_text)\n"
     ]
    }
   ],
   "source": [
    "internet_dataset['Lemmatize'] = internet_dataset['Tweet'].apply(lemmatize_text)"
   ]
  },
  {
   "cell_type": "code",
   "execution_count": 12,
   "id": "a1d8a628",
   "metadata": {},
   "outputs": [
    {
     "data": {
      "text/html": [
       "<div>\n",
       "<style scoped>\n",
       "    .dataframe tbody tr th:only-of-type {\n",
       "        vertical-align: middle;\n",
       "    }\n",
       "\n",
       "    .dataframe tbody tr th {\n",
       "        vertical-align: top;\n",
       "    }\n",
       "\n",
       "    .dataframe thead th {\n",
       "        text-align: right;\n",
       "    }\n",
       "</style>\n",
       "<table border=\"1\" class=\"dataframe\">\n",
       "  <thead>\n",
       "    <tr style=\"text-align: right;\">\n",
       "      <th></th>\n",
       "      <th>Sentiment</th>\n",
       "      <th>Tweet</th>\n",
       "      <th>Tokenize</th>\n",
       "      <th>Lemmatize</th>\n",
       "    </tr>\n",
       "  </thead>\n",
       "  <tbody>\n",
       "    <tr>\n",
       "      <th>0</th>\n",
       "      <td>Negative</td>\n",
       "      <td>tf going</td>\n",
       "      <td>[tf, going]</td>\n",
       "      <td>[tf, going]</td>\n",
       "    </tr>\n",
       "    <tr>\n",
       "      <th>1</th>\n",
       "      <td>Negative</td>\n",
       "      <td>fix goddamn bullshit shitty crappy fucking bul...</td>\n",
       "      <td>[fix, goddamn, bullshit, shitty, crappy, fucki...</td>\n",
       "      <td>[fix, goddamn, bullshit, shitty, crappy, fucki...</td>\n",
       "    </tr>\n",
       "    <tr>\n",
       "      <th>2</th>\n",
       "      <td>Negative</td>\n",
       "      <td>hrs reachingout troubleshooting possible ways ...</td>\n",
       "      <td>[hrs, reachingout, troubleshooting, possible, ...</td>\n",
       "      <td>[hr, reachingout, troubleshooting, possible, w...</td>\n",
       "    </tr>\n",
       "    <tr>\n",
       "      <th>3</th>\n",
       "      <td>Neutral</td>\n",
       "      <td></td>\n",
       "      <td>[]</td>\n",
       "      <td>[]</td>\n",
       "    </tr>\n",
       "    <tr>\n",
       "      <th>4</th>\n",
       "      <td>Negative</td>\n",
       "      <td>definitely ask family friends report</td>\n",
       "      <td>[definitely, ask, family, friends, report]</td>\n",
       "      <td>[definitely, ask, family, friend, report]</td>\n",
       "    </tr>\n",
       "    <tr>\n",
       "      <th>...</th>\n",
       "      <td>...</td>\n",
       "      <td>...</td>\n",
       "      <td>...</td>\n",
       "      <td>...</td>\n",
       "    </tr>\n",
       "    <tr>\n",
       "      <th>9985</th>\n",
       "      <td>Negative</td>\n",
       "      <td>even private message ayaw niyo magresponse kla...</td>\n",
       "      <td>[even, private, message, ayaw, niyo, magrespon...</td>\n",
       "      <td>[even, private, message, ayaw, niyo, magrespon...</td>\n",
       "    </tr>\n",
       "    <tr>\n",
       "      <th>9986</th>\n",
       "      <td>Negative</td>\n",
       "      <td>serbisyong tae</td>\n",
       "      <td>[serbisyong, tae]</td>\n",
       "      <td>[serbisyong, tae]</td>\n",
       "    </tr>\n",
       "    <tr>\n",
       "      <th>9987</th>\n",
       "      <td>Negative</td>\n",
       "      <td>serbisyong tae</td>\n",
       "      <td>[serbisyong, tae]</td>\n",
       "      <td>[serbisyong, tae]</td>\n",
       "    </tr>\n",
       "    <tr>\n",
       "      <th>9988</th>\n",
       "      <td>Neutral</td>\n",
       "      <td>kindly check dm thank</td>\n",
       "      <td>[kindly, check, dm, thank]</td>\n",
       "      <td>[kindly, check, dm, thank]</td>\n",
       "    </tr>\n",
       "    <tr>\n",
       "      <th>9989</th>\n",
       "      <td>Negative</td>\n",
       "      <td>utang loob pakibigyan naman maayos ayos agent ...</td>\n",
       "      <td>[utang, loob, pakibigyan, naman, maayos, ayos,...</td>\n",
       "      <td>[utang, loob, pakibigyan, naman, maayos, ayos,...</td>\n",
       "    </tr>\n",
       "  </tbody>\n",
       "</table>\n",
       "<p>9990 rows × 4 columns</p>\n",
       "</div>"
      ],
      "text/plain": [
       "     Sentiment                                              Tweet  \\\n",
       "0     Negative                                           tf going   \n",
       "1     Negative  fix goddamn bullshit shitty crappy fucking bul...   \n",
       "2     Negative  hrs reachingout troubleshooting possible ways ...   \n",
       "3      Neutral                                                      \n",
       "4     Negative               definitely ask family friends report   \n",
       "...        ...                                                ...   \n",
       "9985  Negative  even private message ayaw niyo magresponse kla...   \n",
       "9986  Negative                                     serbisyong tae   \n",
       "9987  Negative                                     serbisyong tae   \n",
       "9988   Neutral                              kindly check dm thank   \n",
       "9989  Negative  utang loob pakibigyan naman maayos ayos agent ...   \n",
       "\n",
       "                                               Tokenize  \\\n",
       "0                                           [tf, going]   \n",
       "1     [fix, goddamn, bullshit, shitty, crappy, fucki...   \n",
       "2     [hrs, reachingout, troubleshooting, possible, ...   \n",
       "3                                                    []   \n",
       "4            [definitely, ask, family, friends, report]   \n",
       "...                                                 ...   \n",
       "9985  [even, private, message, ayaw, niyo, magrespon...   \n",
       "9986                                  [serbisyong, tae]   \n",
       "9987                                  [serbisyong, tae]   \n",
       "9988                         [kindly, check, dm, thank]   \n",
       "9989  [utang, loob, pakibigyan, naman, maayos, ayos,...   \n",
       "\n",
       "                                              Lemmatize  \n",
       "0                                           [tf, going]  \n",
       "1     [fix, goddamn, bullshit, shitty, crappy, fucki...  \n",
       "2     [hr, reachingout, troubleshooting, possible, w...  \n",
       "3                                                    []  \n",
       "4             [definitely, ask, family, friend, report]  \n",
       "...                                                 ...  \n",
       "9985  [even, private, message, ayaw, niyo, magrespon...  \n",
       "9986                                  [serbisyong, tae]  \n",
       "9987                                  [serbisyong, tae]  \n",
       "9988                         [kindly, check, dm, thank]  \n",
       "9989  [utang, loob, pakibigyan, naman, maayos, ayos,...  \n",
       "\n",
       "[9990 rows x 4 columns]"
      ]
     },
     "execution_count": 12,
     "metadata": {},
     "output_type": "execute_result"
    }
   ],
   "source": [
    "internet_dataset"
   ]
  },
  {
   "cell_type": "code",
   "execution_count": 13,
   "id": "6faef156",
   "metadata": {},
   "outputs": [
    {
     "name": "stderr",
     "output_type": "stream",
     "text": [
      "<ipython-input-13-927a6ac7a0b9>:2: SettingWithCopyWarning: \n",
      "A value is trying to be set on a copy of a slice from a DataFrame.\n",
      "Try using .loc[row_indexer,col_indexer] = value instead\n",
      "\n",
      "See the caveats in the documentation: https://pandas.pydata.org/pandas-docs/stable/user_guide/indexing.html#returning-a-view-versus-a-copy\n",
      "  internet_dataset['Sentiment'] = internet_dataset['Sentiment'].replace(['Negative'], 0)\n",
      "<ipython-input-13-927a6ac7a0b9>:3: SettingWithCopyWarning: \n",
      "A value is trying to be set on a copy of a slice from a DataFrame.\n",
      "Try using .loc[row_indexer,col_indexer] = value instead\n",
      "\n",
      "See the caveats in the documentation: https://pandas.pydata.org/pandas-docs/stable/user_guide/indexing.html#returning-a-view-versus-a-copy\n",
      "  internet_dataset['Sentiment'] = internet_dataset['Sentiment'].replace(['Neutral'], 1)\n",
      "<ipython-input-13-927a6ac7a0b9>:4: SettingWithCopyWarning: \n",
      "A value is trying to be set on a copy of a slice from a DataFrame.\n",
      "Try using .loc[row_indexer,col_indexer] = value instead\n",
      "\n",
      "See the caveats in the documentation: https://pandas.pydata.org/pandas-docs/stable/user_guide/indexing.html#returning-a-view-versus-a-copy\n",
      "  internet_dataset['Sentiment'] = internet_dataset['Sentiment'].replace(['Positive'], 2)\n"
     ]
    }
   ],
   "source": [
    "#Replace Labels for Negative, Neutral, Positive to [0, 1, 2]\n",
    "internet_dataset['Sentiment'] = internet_dataset['Sentiment'].replace(['Negative'], 0)\n",
    "internet_dataset['Sentiment'] = internet_dataset['Sentiment'].replace(['Neutral'], 1)\n",
    "internet_dataset['Sentiment'] = internet_dataset['Sentiment'].replace(['Positive'], 2)"
   ]
  },
  {
   "cell_type": "code",
   "execution_count": 14,
   "id": "7a478699",
   "metadata": {},
   "outputs": [
    {
     "data": {
      "text/html": [
       "<div>\n",
       "<style scoped>\n",
       "    .dataframe tbody tr th:only-of-type {\n",
       "        vertical-align: middle;\n",
       "    }\n",
       "\n",
       "    .dataframe tbody tr th {\n",
       "        vertical-align: top;\n",
       "    }\n",
       "\n",
       "    .dataframe thead th {\n",
       "        text-align: right;\n",
       "    }\n",
       "</style>\n",
       "<table border=\"1\" class=\"dataframe\">\n",
       "  <thead>\n",
       "    <tr style=\"text-align: right;\">\n",
       "      <th></th>\n",
       "      <th>Sentiment</th>\n",
       "      <th>Tweet</th>\n",
       "      <th>Tokenize</th>\n",
       "      <th>Lemmatize</th>\n",
       "    </tr>\n",
       "  </thead>\n",
       "  <tbody>\n",
       "    <tr>\n",
       "      <th>0</th>\n",
       "      <td>0</td>\n",
       "      <td>tf going</td>\n",
       "      <td>[tf, going]</td>\n",
       "      <td>[tf, going]</td>\n",
       "    </tr>\n",
       "    <tr>\n",
       "      <th>1</th>\n",
       "      <td>0</td>\n",
       "      <td>fix goddamn bullshit shitty crappy fucking bul...</td>\n",
       "      <td>[fix, goddamn, bullshit, shitty, crappy, fucki...</td>\n",
       "      <td>[fix, goddamn, bullshit, shitty, crappy, fucki...</td>\n",
       "    </tr>\n",
       "    <tr>\n",
       "      <th>2</th>\n",
       "      <td>0</td>\n",
       "      <td>hrs reachingout troubleshooting possible ways ...</td>\n",
       "      <td>[hrs, reachingout, troubleshooting, possible, ...</td>\n",
       "      <td>[hr, reachingout, troubleshooting, possible, w...</td>\n",
       "    </tr>\n",
       "    <tr>\n",
       "      <th>3</th>\n",
       "      <td>1</td>\n",
       "      <td>NaN</td>\n",
       "      <td>[]</td>\n",
       "      <td>[]</td>\n",
       "    </tr>\n",
       "    <tr>\n",
       "      <th>4</th>\n",
       "      <td>0</td>\n",
       "      <td>definitely ask family friends report</td>\n",
       "      <td>[definitely, ask, family, friends, report]</td>\n",
       "      <td>[definitely, ask, family, friend, report]</td>\n",
       "    </tr>\n",
       "    <tr>\n",
       "      <th>...</th>\n",
       "      <td>...</td>\n",
       "      <td>...</td>\n",
       "      <td>...</td>\n",
       "      <td>...</td>\n",
       "    </tr>\n",
       "    <tr>\n",
       "      <th>9985</th>\n",
       "      <td>0</td>\n",
       "      <td>even private message ayaw niyo magresponse kla...</td>\n",
       "      <td>[even, private, message, ayaw, niyo, magrespon...</td>\n",
       "      <td>[even, private, message, ayaw, niyo, magrespon...</td>\n",
       "    </tr>\n",
       "    <tr>\n",
       "      <th>9986</th>\n",
       "      <td>0</td>\n",
       "      <td>serbisyong tae</td>\n",
       "      <td>[serbisyong, tae]</td>\n",
       "      <td>[serbisyong, tae]</td>\n",
       "    </tr>\n",
       "    <tr>\n",
       "      <th>9987</th>\n",
       "      <td>0</td>\n",
       "      <td>serbisyong tae</td>\n",
       "      <td>[serbisyong, tae]</td>\n",
       "      <td>[serbisyong, tae]</td>\n",
       "    </tr>\n",
       "    <tr>\n",
       "      <th>9988</th>\n",
       "      <td>1</td>\n",
       "      <td>kindly check dm thank</td>\n",
       "      <td>[kindly, check, dm, thank]</td>\n",
       "      <td>[kindly, check, dm, thank]</td>\n",
       "    </tr>\n",
       "    <tr>\n",
       "      <th>9989</th>\n",
       "      <td>0</td>\n",
       "      <td>utang loob pakibigyan naman maayos ayos agent ...</td>\n",
       "      <td>[utang, loob, pakibigyan, naman, maayos, ayos,...</td>\n",
       "      <td>[utang, loob, pakibigyan, naman, maayos, ayos,...</td>\n",
       "    </tr>\n",
       "  </tbody>\n",
       "</table>\n",
       "<p>9990 rows × 4 columns</p>\n",
       "</div>"
      ],
      "text/plain": [
       "      Sentiment                                              Tweet  \\\n",
       "0             0                                           tf going   \n",
       "1             0  fix goddamn bullshit shitty crappy fucking bul...   \n",
       "2             0  hrs reachingout troubleshooting possible ways ...   \n",
       "3             1                                                NaN   \n",
       "4             0               definitely ask family friends report   \n",
       "...         ...                                                ...   \n",
       "9985          0  even private message ayaw niyo magresponse kla...   \n",
       "9986          0                                     serbisyong tae   \n",
       "9987          0                                     serbisyong tae   \n",
       "9988          1                              kindly check dm thank   \n",
       "9989          0  utang loob pakibigyan naman maayos ayos agent ...   \n",
       "\n",
       "                                               Tokenize  \\\n",
       "0                                           [tf, going]   \n",
       "1     [fix, goddamn, bullshit, shitty, crappy, fucki...   \n",
       "2     [hrs, reachingout, troubleshooting, possible, ...   \n",
       "3                                                    []   \n",
       "4            [definitely, ask, family, friends, report]   \n",
       "...                                                 ...   \n",
       "9985  [even, private, message, ayaw, niyo, magrespon...   \n",
       "9986                                  [serbisyong, tae]   \n",
       "9987                                  [serbisyong, tae]   \n",
       "9988                         [kindly, check, dm, thank]   \n",
       "9989  [utang, loob, pakibigyan, naman, maayos, ayos,...   \n",
       "\n",
       "                                              Lemmatize  \n",
       "0                                           [tf, going]  \n",
       "1     [fix, goddamn, bullshit, shitty, crappy, fucki...  \n",
       "2     [hr, reachingout, troubleshooting, possible, w...  \n",
       "3                                                    []  \n",
       "4             [definitely, ask, family, friend, report]  \n",
       "...                                                 ...  \n",
       "9985  [even, private, message, ayaw, niyo, magrespon...  \n",
       "9986                                  [serbisyong, tae]  \n",
       "9987                                  [serbisyong, tae]  \n",
       "9988                         [kindly, check, dm, thank]  \n",
       "9989  [utang, loob, pakibigyan, naman, maayos, ayos,...  \n",
       "\n",
       "[9990 rows x 4 columns]"
      ]
     },
     "execution_count": 14,
     "metadata": {},
     "output_type": "execute_result"
    }
   ],
   "source": [
    "#Transform empty string to NAN\n",
    "internet_dataset = internet_dataset.replace(r'^\\s*$', np.nan, regex=True)\n",
    "internet_dataset"
   ]
  },
  {
   "cell_type": "code",
   "execution_count": 15,
   "id": "6747410b",
   "metadata": {},
   "outputs": [
    {
     "data": {
      "text/html": [
       "<div>\n",
       "<style scoped>\n",
       "    .dataframe tbody tr th:only-of-type {\n",
       "        vertical-align: middle;\n",
       "    }\n",
       "\n",
       "    .dataframe tbody tr th {\n",
       "        vertical-align: top;\n",
       "    }\n",
       "\n",
       "    .dataframe thead th {\n",
       "        text-align: right;\n",
       "    }\n",
       "</style>\n",
       "<table border=\"1\" class=\"dataframe\">\n",
       "  <thead>\n",
       "    <tr style=\"text-align: right;\">\n",
       "      <th></th>\n",
       "      <th>Sentiment</th>\n",
       "      <th>Tweet</th>\n",
       "      <th>Tokenize</th>\n",
       "      <th>Lemmatize</th>\n",
       "    </tr>\n",
       "  </thead>\n",
       "  <tbody>\n",
       "    <tr>\n",
       "      <th>0</th>\n",
       "      <td>0</td>\n",
       "      <td>tf going</td>\n",
       "      <td>[tf, going]</td>\n",
       "      <td>[tf, going]</td>\n",
       "    </tr>\n",
       "    <tr>\n",
       "      <th>1</th>\n",
       "      <td>0</td>\n",
       "      <td>fix goddamn bullshit shitty crappy fucking bul...</td>\n",
       "      <td>[fix, goddamn, bullshit, shitty, crappy, fucki...</td>\n",
       "      <td>[fix, goddamn, bullshit, shitty, crappy, fucki...</td>\n",
       "    </tr>\n",
       "    <tr>\n",
       "      <th>2</th>\n",
       "      <td>0</td>\n",
       "      <td>hrs reachingout troubleshooting possible ways ...</td>\n",
       "      <td>[hrs, reachingout, troubleshooting, possible, ...</td>\n",
       "      <td>[hr, reachingout, troubleshooting, possible, w...</td>\n",
       "    </tr>\n",
       "    <tr>\n",
       "      <th>4</th>\n",
       "      <td>0</td>\n",
       "      <td>definitely ask family friends report</td>\n",
       "      <td>[definitely, ask, family, friends, report]</td>\n",
       "      <td>[definitely, ask, family, friend, report]</td>\n",
       "    </tr>\n",
       "    <tr>\n",
       "      <th>5</th>\n",
       "      <td>1</td>\n",
       "      <td>work haha</td>\n",
       "      <td>[work, haha]</td>\n",
       "      <td>[work, haha]</td>\n",
       "    </tr>\n",
       "    <tr>\n",
       "      <th>...</th>\n",
       "      <td>...</td>\n",
       "      <td>...</td>\n",
       "      <td>...</td>\n",
       "      <td>...</td>\n",
       "    </tr>\n",
       "    <tr>\n",
       "      <th>9985</th>\n",
       "      <td>0</td>\n",
       "      <td>even private message ayaw niyo magresponse kla...</td>\n",
       "      <td>[even, private, message, ayaw, niyo, magrespon...</td>\n",
       "      <td>[even, private, message, ayaw, niyo, magrespon...</td>\n",
       "    </tr>\n",
       "    <tr>\n",
       "      <th>9986</th>\n",
       "      <td>0</td>\n",
       "      <td>serbisyong tae</td>\n",
       "      <td>[serbisyong, tae]</td>\n",
       "      <td>[serbisyong, tae]</td>\n",
       "    </tr>\n",
       "    <tr>\n",
       "      <th>9987</th>\n",
       "      <td>0</td>\n",
       "      <td>serbisyong tae</td>\n",
       "      <td>[serbisyong, tae]</td>\n",
       "      <td>[serbisyong, tae]</td>\n",
       "    </tr>\n",
       "    <tr>\n",
       "      <th>9988</th>\n",
       "      <td>1</td>\n",
       "      <td>kindly check dm thank</td>\n",
       "      <td>[kindly, check, dm, thank]</td>\n",
       "      <td>[kindly, check, dm, thank]</td>\n",
       "    </tr>\n",
       "    <tr>\n",
       "      <th>9989</th>\n",
       "      <td>0</td>\n",
       "      <td>utang loob pakibigyan naman maayos ayos agent ...</td>\n",
       "      <td>[utang, loob, pakibigyan, naman, maayos, ayos,...</td>\n",
       "      <td>[utang, loob, pakibigyan, naman, maayos, ayos,...</td>\n",
       "    </tr>\n",
       "  </tbody>\n",
       "</table>\n",
       "<p>9879 rows × 4 columns</p>\n",
       "</div>"
      ],
      "text/plain": [
       "      Sentiment                                              Tweet  \\\n",
       "0             0                                           tf going   \n",
       "1             0  fix goddamn bullshit shitty crappy fucking bul...   \n",
       "2             0  hrs reachingout troubleshooting possible ways ...   \n",
       "4             0               definitely ask family friends report   \n",
       "5             1                                          work haha   \n",
       "...         ...                                                ...   \n",
       "9985          0  even private message ayaw niyo magresponse kla...   \n",
       "9986          0                                     serbisyong tae   \n",
       "9987          0                                     serbisyong tae   \n",
       "9988          1                              kindly check dm thank   \n",
       "9989          0  utang loob pakibigyan naman maayos ayos agent ...   \n",
       "\n",
       "                                               Tokenize  \\\n",
       "0                                           [tf, going]   \n",
       "1     [fix, goddamn, bullshit, shitty, crappy, fucki...   \n",
       "2     [hrs, reachingout, troubleshooting, possible, ...   \n",
       "4            [definitely, ask, family, friends, report]   \n",
       "5                                          [work, haha]   \n",
       "...                                                 ...   \n",
       "9985  [even, private, message, ayaw, niyo, magrespon...   \n",
       "9986                                  [serbisyong, tae]   \n",
       "9987                                  [serbisyong, tae]   \n",
       "9988                         [kindly, check, dm, thank]   \n",
       "9989  [utang, loob, pakibigyan, naman, maayos, ayos,...   \n",
       "\n",
       "                                              Lemmatize  \n",
       "0                                           [tf, going]  \n",
       "1     [fix, goddamn, bullshit, shitty, crappy, fucki...  \n",
       "2     [hr, reachingout, troubleshooting, possible, w...  \n",
       "4             [definitely, ask, family, friend, report]  \n",
       "5                                          [work, haha]  \n",
       "...                                                 ...  \n",
       "9985  [even, private, message, ayaw, niyo, magrespon...  \n",
       "9986                                  [serbisyong, tae]  \n",
       "9987                                  [serbisyong, tae]  \n",
       "9988                         [kindly, check, dm, thank]  \n",
       "9989  [utang, loob, pakibigyan, naman, maayos, ayos,...  \n",
       "\n",
       "[9879 rows x 4 columns]"
      ]
     },
     "execution_count": 15,
     "metadata": {},
     "output_type": "execute_result"
    }
   ],
   "source": [
    "#Drop NAN values\n",
    "internet_dataset = internet_dataset.dropna()\n",
    "internet_dataset"
   ]
  },
  {
   "cell_type": "code",
   "execution_count": 16,
   "id": "1a2cbda1",
   "metadata": {},
   "outputs": [
    {
     "name": "stderr",
     "output_type": "stream",
     "text": [
      "<ipython-input-16-0a1dc002eee3>:2: SettingWithCopyWarning: \n",
      "A value is trying to be set on a copy of a slice from a DataFrame.\n",
      "Try using .loc[row_indexer,col_indexer] = value instead\n",
      "\n",
      "See the caveats in the documentation: https://pandas.pydata.org/pandas-docs/stable/user_guide/indexing.html#returning-a-view-versus-a-copy\n",
      "  internet_dataset['Tweet'] = internet_dataset['Tweet'].drop_duplicates()\n"
     ]
    },
    {
     "data": {
      "text/html": [
       "<div>\n",
       "<style scoped>\n",
       "    .dataframe tbody tr th:only-of-type {\n",
       "        vertical-align: middle;\n",
       "    }\n",
       "\n",
       "    .dataframe tbody tr th {\n",
       "        vertical-align: top;\n",
       "    }\n",
       "\n",
       "    .dataframe thead th {\n",
       "        text-align: right;\n",
       "    }\n",
       "</style>\n",
       "<table border=\"1\" class=\"dataframe\">\n",
       "  <thead>\n",
       "    <tr style=\"text-align: right;\">\n",
       "      <th></th>\n",
       "      <th>Sentiment</th>\n",
       "      <th>Tweet</th>\n",
       "      <th>Tokenize</th>\n",
       "      <th>Lemmatize</th>\n",
       "    </tr>\n",
       "  </thead>\n",
       "  <tbody>\n",
       "    <tr>\n",
       "      <th>0</th>\n",
       "      <td>0</td>\n",
       "      <td>tf going</td>\n",
       "      <td>[tf, going]</td>\n",
       "      <td>[tf, going]</td>\n",
       "    </tr>\n",
       "    <tr>\n",
       "      <th>1</th>\n",
       "      <td>0</td>\n",
       "      <td>fix goddamn bullshit shitty crappy fucking bul...</td>\n",
       "      <td>[fix, goddamn, bullshit, shitty, crappy, fucki...</td>\n",
       "      <td>[fix, goddamn, bullshit, shitty, crappy, fucki...</td>\n",
       "    </tr>\n",
       "    <tr>\n",
       "      <th>2</th>\n",
       "      <td>0</td>\n",
       "      <td>hrs reachingout troubleshooting possible ways ...</td>\n",
       "      <td>[hrs, reachingout, troubleshooting, possible, ...</td>\n",
       "      <td>[hr, reachingout, troubleshooting, possible, w...</td>\n",
       "    </tr>\n",
       "    <tr>\n",
       "      <th>4</th>\n",
       "      <td>0</td>\n",
       "      <td>definitely ask family friends report</td>\n",
       "      <td>[definitely, ask, family, friends, report]</td>\n",
       "      <td>[definitely, ask, family, friend, report]</td>\n",
       "    </tr>\n",
       "    <tr>\n",
       "      <th>5</th>\n",
       "      <td>1</td>\n",
       "      <td>work haha</td>\n",
       "      <td>[work, haha]</td>\n",
       "      <td>[work, haha]</td>\n",
       "    </tr>\n",
       "    <tr>\n",
       "      <th>...</th>\n",
       "      <td>...</td>\n",
       "      <td>...</td>\n",
       "      <td>...</td>\n",
       "      <td>...</td>\n",
       "    </tr>\n",
       "    <tr>\n",
       "      <th>9985</th>\n",
       "      <td>0</td>\n",
       "      <td>even private message ayaw niyo magresponse kla...</td>\n",
       "      <td>[even, private, message, ayaw, niyo, magrespon...</td>\n",
       "      <td>[even, private, message, ayaw, niyo, magrespon...</td>\n",
       "    </tr>\n",
       "    <tr>\n",
       "      <th>9986</th>\n",
       "      <td>0</td>\n",
       "      <td>serbisyong tae</td>\n",
       "      <td>[serbisyong, tae]</td>\n",
       "      <td>[serbisyong, tae]</td>\n",
       "    </tr>\n",
       "    <tr>\n",
       "      <th>9987</th>\n",
       "      <td>0</td>\n",
       "      <td>NaN</td>\n",
       "      <td>[serbisyong, tae]</td>\n",
       "      <td>[serbisyong, tae]</td>\n",
       "    </tr>\n",
       "    <tr>\n",
       "      <th>9988</th>\n",
       "      <td>1</td>\n",
       "      <td>kindly check dm thank</td>\n",
       "      <td>[kindly, check, dm, thank]</td>\n",
       "      <td>[kindly, check, dm, thank]</td>\n",
       "    </tr>\n",
       "    <tr>\n",
       "      <th>9989</th>\n",
       "      <td>0</td>\n",
       "      <td>utang loob pakibigyan naman maayos ayos agent ...</td>\n",
       "      <td>[utang, loob, pakibigyan, naman, maayos, ayos,...</td>\n",
       "      <td>[utang, loob, pakibigyan, naman, maayos, ayos,...</td>\n",
       "    </tr>\n",
       "  </tbody>\n",
       "</table>\n",
       "<p>9879 rows × 4 columns</p>\n",
       "</div>"
      ],
      "text/plain": [
       "      Sentiment                                              Tweet  \\\n",
       "0             0                                           tf going   \n",
       "1             0  fix goddamn bullshit shitty crappy fucking bul...   \n",
       "2             0  hrs reachingout troubleshooting possible ways ...   \n",
       "4             0               definitely ask family friends report   \n",
       "5             1                                          work haha   \n",
       "...         ...                                                ...   \n",
       "9985          0  even private message ayaw niyo magresponse kla...   \n",
       "9986          0                                     serbisyong tae   \n",
       "9987          0                                                NaN   \n",
       "9988          1                              kindly check dm thank   \n",
       "9989          0  utang loob pakibigyan naman maayos ayos agent ...   \n",
       "\n",
       "                                               Tokenize  \\\n",
       "0                                           [tf, going]   \n",
       "1     [fix, goddamn, bullshit, shitty, crappy, fucki...   \n",
       "2     [hrs, reachingout, troubleshooting, possible, ...   \n",
       "4            [definitely, ask, family, friends, report]   \n",
       "5                                          [work, haha]   \n",
       "...                                                 ...   \n",
       "9985  [even, private, message, ayaw, niyo, magrespon...   \n",
       "9986                                  [serbisyong, tae]   \n",
       "9987                                  [serbisyong, tae]   \n",
       "9988                         [kindly, check, dm, thank]   \n",
       "9989  [utang, loob, pakibigyan, naman, maayos, ayos,...   \n",
       "\n",
       "                                              Lemmatize  \n",
       "0                                           [tf, going]  \n",
       "1     [fix, goddamn, bullshit, shitty, crappy, fucki...  \n",
       "2     [hr, reachingout, troubleshooting, possible, w...  \n",
       "4             [definitely, ask, family, friend, report]  \n",
       "5                                          [work, haha]  \n",
       "...                                                 ...  \n",
       "9985  [even, private, message, ayaw, niyo, magrespon...  \n",
       "9986                                  [serbisyong, tae]  \n",
       "9987                                  [serbisyong, tae]  \n",
       "9988                         [kindly, check, dm, thank]  \n",
       "9989  [utang, loob, pakibigyan, naman, maayos, ayos,...  \n",
       "\n",
       "[9879 rows x 4 columns]"
      ]
     },
     "execution_count": 16,
     "metadata": {},
     "output_type": "execute_result"
    }
   ],
   "source": [
    "#Drop Tweet Duplicates\n",
    "internet_dataset['Tweet'] = internet_dataset['Tweet'].drop_duplicates()\n",
    "internet_dataset"
   ]
  },
  {
   "cell_type": "code",
   "execution_count": 17,
   "id": "4db453d0",
   "metadata": {},
   "outputs": [
    {
     "data": {
      "text/html": [
       "<div>\n",
       "<style scoped>\n",
       "    .dataframe tbody tr th:only-of-type {\n",
       "        vertical-align: middle;\n",
       "    }\n",
       "\n",
       "    .dataframe tbody tr th {\n",
       "        vertical-align: top;\n",
       "    }\n",
       "\n",
       "    .dataframe thead th {\n",
       "        text-align: right;\n",
       "    }\n",
       "</style>\n",
       "<table border=\"1\" class=\"dataframe\">\n",
       "  <thead>\n",
       "    <tr style=\"text-align: right;\">\n",
       "      <th></th>\n",
       "      <th>Sentiment</th>\n",
       "      <th>Tweet</th>\n",
       "      <th>Tokenize</th>\n",
       "      <th>Lemmatize</th>\n",
       "    </tr>\n",
       "  </thead>\n",
       "  <tbody>\n",
       "    <tr>\n",
       "      <th>0</th>\n",
       "      <td>0</td>\n",
       "      <td>tf going</td>\n",
       "      <td>[tf, going]</td>\n",
       "      <td>[tf, going]</td>\n",
       "    </tr>\n",
       "    <tr>\n",
       "      <th>1</th>\n",
       "      <td>0</td>\n",
       "      <td>fix goddamn bullshit shitty crappy fucking bul...</td>\n",
       "      <td>[fix, goddamn, bullshit, shitty, crappy, fucki...</td>\n",
       "      <td>[fix, goddamn, bullshit, shitty, crappy, fucki...</td>\n",
       "    </tr>\n",
       "    <tr>\n",
       "      <th>2</th>\n",
       "      <td>0</td>\n",
       "      <td>hrs reachingout troubleshooting possible ways ...</td>\n",
       "      <td>[hrs, reachingout, troubleshooting, possible, ...</td>\n",
       "      <td>[hr, reachingout, troubleshooting, possible, w...</td>\n",
       "    </tr>\n",
       "    <tr>\n",
       "      <th>4</th>\n",
       "      <td>0</td>\n",
       "      <td>definitely ask family friends report</td>\n",
       "      <td>[definitely, ask, family, friends, report]</td>\n",
       "      <td>[definitely, ask, family, friend, report]</td>\n",
       "    </tr>\n",
       "    <tr>\n",
       "      <th>5</th>\n",
       "      <td>1</td>\n",
       "      <td>work haha</td>\n",
       "      <td>[work, haha]</td>\n",
       "      <td>[work, haha]</td>\n",
       "    </tr>\n",
       "    <tr>\n",
       "      <th>...</th>\n",
       "      <td>...</td>\n",
       "      <td>...</td>\n",
       "      <td>...</td>\n",
       "      <td>...</td>\n",
       "    </tr>\n",
       "    <tr>\n",
       "      <th>9984</th>\n",
       "      <td>1</td>\n",
       "      <td>need help already dm</td>\n",
       "      <td>[need, help, already, dm]</td>\n",
       "      <td>[need, help, already, dm]</td>\n",
       "    </tr>\n",
       "    <tr>\n",
       "      <th>9985</th>\n",
       "      <td>0</td>\n",
       "      <td>even private message ayaw niyo magresponse kla...</td>\n",
       "      <td>[even, private, message, ayaw, niyo, magrespon...</td>\n",
       "      <td>[even, private, message, ayaw, niyo, magrespon...</td>\n",
       "    </tr>\n",
       "    <tr>\n",
       "      <th>9986</th>\n",
       "      <td>0</td>\n",
       "      <td>serbisyong tae</td>\n",
       "      <td>[serbisyong, tae]</td>\n",
       "      <td>[serbisyong, tae]</td>\n",
       "    </tr>\n",
       "    <tr>\n",
       "      <th>9988</th>\n",
       "      <td>1</td>\n",
       "      <td>kindly check dm thank</td>\n",
       "      <td>[kindly, check, dm, thank]</td>\n",
       "      <td>[kindly, check, dm, thank]</td>\n",
       "    </tr>\n",
       "    <tr>\n",
       "      <th>9989</th>\n",
       "      <td>0</td>\n",
       "      <td>utang loob pakibigyan naman maayos ayos agent ...</td>\n",
       "      <td>[utang, loob, pakibigyan, naman, maayos, ayos,...</td>\n",
       "      <td>[utang, loob, pakibigyan, naman, maayos, ayos,...</td>\n",
       "    </tr>\n",
       "  </tbody>\n",
       "</table>\n",
       "<p>8834 rows × 4 columns</p>\n",
       "</div>"
      ],
      "text/plain": [
       "      Sentiment                                              Tweet  \\\n",
       "0             0                                           tf going   \n",
       "1             0  fix goddamn bullshit shitty crappy fucking bul...   \n",
       "2             0  hrs reachingout troubleshooting possible ways ...   \n",
       "4             0               definitely ask family friends report   \n",
       "5             1                                          work haha   \n",
       "...         ...                                                ...   \n",
       "9984          1                               need help already dm   \n",
       "9985          0  even private message ayaw niyo magresponse kla...   \n",
       "9986          0                                     serbisyong tae   \n",
       "9988          1                              kindly check dm thank   \n",
       "9989          0  utang loob pakibigyan naman maayos ayos agent ...   \n",
       "\n",
       "                                               Tokenize  \\\n",
       "0                                           [tf, going]   \n",
       "1     [fix, goddamn, bullshit, shitty, crappy, fucki...   \n",
       "2     [hrs, reachingout, troubleshooting, possible, ...   \n",
       "4            [definitely, ask, family, friends, report]   \n",
       "5                                          [work, haha]   \n",
       "...                                                 ...   \n",
       "9984                          [need, help, already, dm]   \n",
       "9985  [even, private, message, ayaw, niyo, magrespon...   \n",
       "9986                                  [serbisyong, tae]   \n",
       "9988                         [kindly, check, dm, thank]   \n",
       "9989  [utang, loob, pakibigyan, naman, maayos, ayos,...   \n",
       "\n",
       "                                              Lemmatize  \n",
       "0                                           [tf, going]  \n",
       "1     [fix, goddamn, bullshit, shitty, crappy, fucki...  \n",
       "2     [hr, reachingout, troubleshooting, possible, w...  \n",
       "4             [definitely, ask, family, friend, report]  \n",
       "5                                          [work, haha]  \n",
       "...                                                 ...  \n",
       "9984                          [need, help, already, dm]  \n",
       "9985  [even, private, message, ayaw, niyo, magrespon...  \n",
       "9986                                  [serbisyong, tae]  \n",
       "9988                         [kindly, check, dm, thank]  \n",
       "9989  [utang, loob, pakibigyan, naman, maayos, ayos,...  \n",
       "\n",
       "[8834 rows x 4 columns]"
      ]
     },
     "execution_count": 17,
     "metadata": {},
     "output_type": "execute_result"
    }
   ],
   "source": [
    "#Drop NAN values\n",
    "internet_dataset = internet_dataset.dropna()\n",
    "internet_dataset"
   ]
  },
  {
   "cell_type": "code",
   "execution_count": 18,
   "id": "571af1f3",
   "metadata": {},
   "outputs": [
    {
     "data": {
      "text/html": [
       "<div>\n",
       "<style scoped>\n",
       "    .dataframe tbody tr th:only-of-type {\n",
       "        vertical-align: middle;\n",
       "    }\n",
       "\n",
       "    .dataframe tbody tr th {\n",
       "        vertical-align: top;\n",
       "    }\n",
       "\n",
       "    .dataframe thead th {\n",
       "        text-align: right;\n",
       "    }\n",
       "</style>\n",
       "<table border=\"1\" class=\"dataframe\">\n",
       "  <thead>\n",
       "    <tr style=\"text-align: right;\">\n",
       "      <th></th>\n",
       "      <th>Sentiment</th>\n",
       "      <th>Tweet</th>\n",
       "      <th>Tokenize</th>\n",
       "      <th>Lemmatize</th>\n",
       "    </tr>\n",
       "  </thead>\n",
       "  <tbody>\n",
       "    <tr>\n",
       "      <th>0</th>\n",
       "      <td>0</td>\n",
       "      <td>tf going</td>\n",
       "      <td>[tf, going]</td>\n",
       "      <td>[tf, going]</td>\n",
       "    </tr>\n",
       "    <tr>\n",
       "      <th>1</th>\n",
       "      <td>0</td>\n",
       "      <td>fix goddamn bullshit shitty crappy fucking bul...</td>\n",
       "      <td>[fix, goddamn, bullshit, shitty, crappy, fucki...</td>\n",
       "      <td>[fix, goddamn, bullshit, shitty, crappy, fucki...</td>\n",
       "    </tr>\n",
       "    <tr>\n",
       "      <th>2</th>\n",
       "      <td>0</td>\n",
       "      <td>hrs reachingout troubleshooting possible ways ...</td>\n",
       "      <td>[hrs, reachingout, troubleshooting, possible, ...</td>\n",
       "      <td>[hr, reachingout, troubleshooting, possible, w...</td>\n",
       "    </tr>\n",
       "    <tr>\n",
       "      <th>3</th>\n",
       "      <td>0</td>\n",
       "      <td>definitely ask family friends report</td>\n",
       "      <td>[definitely, ask, family, friends, report]</td>\n",
       "      <td>[definitely, ask, family, friend, report]</td>\n",
       "    </tr>\n",
       "    <tr>\n",
       "      <th>4</th>\n",
       "      <td>1</td>\n",
       "      <td>work haha</td>\n",
       "      <td>[work, haha]</td>\n",
       "      <td>[work, haha]</td>\n",
       "    </tr>\n",
       "    <tr>\n",
       "      <th>...</th>\n",
       "      <td>...</td>\n",
       "      <td>...</td>\n",
       "      <td>...</td>\n",
       "      <td>...</td>\n",
       "    </tr>\n",
       "    <tr>\n",
       "      <th>8829</th>\n",
       "      <td>1</td>\n",
       "      <td>need help already dm</td>\n",
       "      <td>[need, help, already, dm]</td>\n",
       "      <td>[need, help, already, dm]</td>\n",
       "    </tr>\n",
       "    <tr>\n",
       "      <th>8830</th>\n",
       "      <td>0</td>\n",
       "      <td>even private message ayaw niyo magresponse kla...</td>\n",
       "      <td>[even, private, message, ayaw, niyo, magrespon...</td>\n",
       "      <td>[even, private, message, ayaw, niyo, magrespon...</td>\n",
       "    </tr>\n",
       "    <tr>\n",
       "      <th>8831</th>\n",
       "      <td>0</td>\n",
       "      <td>serbisyong tae</td>\n",
       "      <td>[serbisyong, tae]</td>\n",
       "      <td>[serbisyong, tae]</td>\n",
       "    </tr>\n",
       "    <tr>\n",
       "      <th>8832</th>\n",
       "      <td>1</td>\n",
       "      <td>kindly check dm thank</td>\n",
       "      <td>[kindly, check, dm, thank]</td>\n",
       "      <td>[kindly, check, dm, thank]</td>\n",
       "    </tr>\n",
       "    <tr>\n",
       "      <th>8833</th>\n",
       "      <td>0</td>\n",
       "      <td>utang loob pakibigyan naman maayos ayos agent ...</td>\n",
       "      <td>[utang, loob, pakibigyan, naman, maayos, ayos,...</td>\n",
       "      <td>[utang, loob, pakibigyan, naman, maayos, ayos,...</td>\n",
       "    </tr>\n",
       "  </tbody>\n",
       "</table>\n",
       "<p>8834 rows × 4 columns</p>\n",
       "</div>"
      ],
      "text/plain": [
       "      Sentiment                                              Tweet  \\\n",
       "0             0                                           tf going   \n",
       "1             0  fix goddamn bullshit shitty crappy fucking bul...   \n",
       "2             0  hrs reachingout troubleshooting possible ways ...   \n",
       "3             0               definitely ask family friends report   \n",
       "4             1                                          work haha   \n",
       "...         ...                                                ...   \n",
       "8829          1                               need help already dm   \n",
       "8830          0  even private message ayaw niyo magresponse kla...   \n",
       "8831          0                                     serbisyong tae   \n",
       "8832          1                              kindly check dm thank   \n",
       "8833          0  utang loob pakibigyan naman maayos ayos agent ...   \n",
       "\n",
       "                                               Tokenize  \\\n",
       "0                                           [tf, going]   \n",
       "1     [fix, goddamn, bullshit, shitty, crappy, fucki...   \n",
       "2     [hrs, reachingout, troubleshooting, possible, ...   \n",
       "3            [definitely, ask, family, friends, report]   \n",
       "4                                          [work, haha]   \n",
       "...                                                 ...   \n",
       "8829                          [need, help, already, dm]   \n",
       "8830  [even, private, message, ayaw, niyo, magrespon...   \n",
       "8831                                  [serbisyong, tae]   \n",
       "8832                         [kindly, check, dm, thank]   \n",
       "8833  [utang, loob, pakibigyan, naman, maayos, ayos,...   \n",
       "\n",
       "                                              Lemmatize  \n",
       "0                                           [tf, going]  \n",
       "1     [fix, goddamn, bullshit, shitty, crappy, fucki...  \n",
       "2     [hr, reachingout, troubleshooting, possible, w...  \n",
       "3             [definitely, ask, family, friend, report]  \n",
       "4                                          [work, haha]  \n",
       "...                                                 ...  \n",
       "8829                          [need, help, already, dm]  \n",
       "8830  [even, private, message, ayaw, niyo, magrespon...  \n",
       "8831                                  [serbisyong, tae]  \n",
       "8832                         [kindly, check, dm, thank]  \n",
       "8833  [utang, loob, pakibigyan, naman, maayos, ayos,...  \n",
       "\n",
       "[8834 rows x 4 columns]"
      ]
     },
     "execution_count": 18,
     "metadata": {},
     "output_type": "execute_result"
    }
   ],
   "source": [
    "internet_dataset = internet_dataset.reset_index(drop=True)\n",
    "internet_dataset"
   ]
  },
  {
   "cell_type": "code",
   "execution_count": 19,
   "id": "c3a3bb9a",
   "metadata": {},
   "outputs": [],
   "source": [
    "# from langdetect import detect\n",
    "# internet_dataset['Lang'] = internet_dataset['Tweet'].apply(detect)"
   ]
  },
  {
   "cell_type": "code",
   "execution_count": 20,
   "id": "f2c56352",
   "metadata": {},
   "outputs": [
    {
     "data": {
      "text/html": [
       "<div>\n",
       "<style scoped>\n",
       "    .dataframe tbody tr th:only-of-type {\n",
       "        vertical-align: middle;\n",
       "    }\n",
       "\n",
       "    .dataframe tbody tr th {\n",
       "        vertical-align: top;\n",
       "    }\n",
       "\n",
       "    .dataframe thead th {\n",
       "        text-align: right;\n",
       "    }\n",
       "</style>\n",
       "<table border=\"1\" class=\"dataframe\">\n",
       "  <thead>\n",
       "    <tr style=\"text-align: right;\">\n",
       "      <th></th>\n",
       "      <th>Sentiment</th>\n",
       "      <th>Tweet</th>\n",
       "      <th>Tokenize</th>\n",
       "      <th>Lemmatize</th>\n",
       "    </tr>\n",
       "  </thead>\n",
       "  <tbody>\n",
       "    <tr>\n",
       "      <th>0</th>\n",
       "      <td>0</td>\n",
       "      <td>tf going</td>\n",
       "      <td>[tf, going]</td>\n",
       "      <td>[tf, going]</td>\n",
       "    </tr>\n",
       "    <tr>\n",
       "      <th>1</th>\n",
       "      <td>0</td>\n",
       "      <td>fix goddamn bullshit shitty crappy fucking bul...</td>\n",
       "      <td>[fix, goddamn, bullshit, shitty, crappy, fucki...</td>\n",
       "      <td>[fix, goddamn, bullshit, shitty, crappy, fucki...</td>\n",
       "    </tr>\n",
       "    <tr>\n",
       "      <th>2</th>\n",
       "      <td>0</td>\n",
       "      <td>hrs reachingout troubleshooting possible ways ...</td>\n",
       "      <td>[hrs, reachingout, troubleshooting, possible, ...</td>\n",
       "      <td>[hr, reachingout, troubleshooting, possible, w...</td>\n",
       "    </tr>\n",
       "    <tr>\n",
       "      <th>3</th>\n",
       "      <td>0</td>\n",
       "      <td>definitely ask family friends report</td>\n",
       "      <td>[definitely, ask, family, friends, report]</td>\n",
       "      <td>[definitely, ask, family, friend, report]</td>\n",
       "    </tr>\n",
       "    <tr>\n",
       "      <th>4</th>\n",
       "      <td>1</td>\n",
       "      <td>work haha</td>\n",
       "      <td>[work, haha]</td>\n",
       "      <td>[work, haha]</td>\n",
       "    </tr>\n",
       "    <tr>\n",
       "      <th>...</th>\n",
       "      <td>...</td>\n",
       "      <td>...</td>\n",
       "      <td>...</td>\n",
       "      <td>...</td>\n",
       "    </tr>\n",
       "    <tr>\n",
       "      <th>8829</th>\n",
       "      <td>1</td>\n",
       "      <td>need help already dm</td>\n",
       "      <td>[need, help, already, dm]</td>\n",
       "      <td>[need, help, already, dm]</td>\n",
       "    </tr>\n",
       "    <tr>\n",
       "      <th>8830</th>\n",
       "      <td>0</td>\n",
       "      <td>even private message ayaw niyo magresponse kla...</td>\n",
       "      <td>[even, private, message, ayaw, niyo, magrespon...</td>\n",
       "      <td>[even, private, message, ayaw, niyo, magrespon...</td>\n",
       "    </tr>\n",
       "    <tr>\n",
       "      <th>8831</th>\n",
       "      <td>0</td>\n",
       "      <td>serbisyong tae</td>\n",
       "      <td>[serbisyong, tae]</td>\n",
       "      <td>[serbisyong, tae]</td>\n",
       "    </tr>\n",
       "    <tr>\n",
       "      <th>8832</th>\n",
       "      <td>1</td>\n",
       "      <td>kindly check dm thank</td>\n",
       "      <td>[kindly, check, dm, thank]</td>\n",
       "      <td>[kindly, check, dm, thank]</td>\n",
       "    </tr>\n",
       "    <tr>\n",
       "      <th>8833</th>\n",
       "      <td>0</td>\n",
       "      <td>utang loob pakibigyan naman maayos ayos agent ...</td>\n",
       "      <td>[utang, loob, pakibigyan, naman, maayos, ayos,...</td>\n",
       "      <td>[utang, loob, pakibigyan, naman, maayos, ayos,...</td>\n",
       "    </tr>\n",
       "  </tbody>\n",
       "</table>\n",
       "<p>8834 rows × 4 columns</p>\n",
       "</div>"
      ],
      "text/plain": [
       "      Sentiment                                              Tweet  \\\n",
       "0             0                                           tf going   \n",
       "1             0  fix goddamn bullshit shitty crappy fucking bul...   \n",
       "2             0  hrs reachingout troubleshooting possible ways ...   \n",
       "3             0               definitely ask family friends report   \n",
       "4             1                                          work haha   \n",
       "...         ...                                                ...   \n",
       "8829          1                               need help already dm   \n",
       "8830          0  even private message ayaw niyo magresponse kla...   \n",
       "8831          0                                     serbisyong tae   \n",
       "8832          1                              kindly check dm thank   \n",
       "8833          0  utang loob pakibigyan naman maayos ayos agent ...   \n",
       "\n",
       "                                               Tokenize  \\\n",
       "0                                           [tf, going]   \n",
       "1     [fix, goddamn, bullshit, shitty, crappy, fucki...   \n",
       "2     [hrs, reachingout, troubleshooting, possible, ...   \n",
       "3            [definitely, ask, family, friends, report]   \n",
       "4                                          [work, haha]   \n",
       "...                                                 ...   \n",
       "8829                          [need, help, already, dm]   \n",
       "8830  [even, private, message, ayaw, niyo, magrespon...   \n",
       "8831                                  [serbisyong, tae]   \n",
       "8832                         [kindly, check, dm, thank]   \n",
       "8833  [utang, loob, pakibigyan, naman, maayos, ayos,...   \n",
       "\n",
       "                                              Lemmatize  \n",
       "0                                           [tf, going]  \n",
       "1     [fix, goddamn, bullshit, shitty, crappy, fucki...  \n",
       "2     [hr, reachingout, troubleshooting, possible, w...  \n",
       "3             [definitely, ask, family, friend, report]  \n",
       "4                                          [work, haha]  \n",
       "...                                                 ...  \n",
       "8829                          [need, help, already, dm]  \n",
       "8830  [even, private, message, ayaw, niyo, magrespon...  \n",
       "8831                                  [serbisyong, tae]  \n",
       "8832                         [kindly, check, dm, thank]  \n",
       "8833  [utang, loob, pakibigyan, naman, maayos, ayos,...  \n",
       "\n",
       "[8834 rows x 4 columns]"
      ]
     },
     "execution_count": 20,
     "metadata": {},
     "output_type": "execute_result"
    }
   ],
   "source": [
    "internet_dataset"
   ]
  },
  {
   "cell_type": "code",
   "execution_count": 21,
   "id": "bcec22be",
   "metadata": {},
   "outputs": [],
   "source": [
    "#internet_dataset.to_csv(\"Dataset_Main_Cleaned.csv\")"
   ]
  },
  {
   "cell_type": "code",
   "execution_count": 22,
   "id": "b463efa4",
   "metadata": {},
   "outputs": [
    {
     "data": {
      "text/plain": [
       "'https://drive.google.com/uc?export=download&id=1zsiv8B5PVF383yzfoPDlRJno_i8IOejX'"
      ]
     },
     "execution_count": 22,
     "metadata": {},
     "output_type": "execute_result"
    }
   ],
   "source": [
    "#Load the dataset csv file coming from gdrive - dataset with proper language label\n",
    "url = 'https://drive.google.com/file/d/1zsiv8B5PVF383yzfoPDlRJno_i8IOejX/view?usp=sharing'\n",
    "path = 'https://drive.google.com/uc?export=download&id=' + url.split('/')[-2]\n",
    "path"
   ]
  },
  {
   "cell_type": "code",
   "execution_count": 23,
   "id": "131868f0",
   "metadata": {
    "scrolled": false
   },
   "outputs": [
    {
     "data": {
      "text/html": [
       "<div>\n",
       "<style scoped>\n",
       "    .dataframe tbody tr th:only-of-type {\n",
       "        vertical-align: middle;\n",
       "    }\n",
       "\n",
       "    .dataframe tbody tr th {\n",
       "        vertical-align: top;\n",
       "    }\n",
       "\n",
       "    .dataframe thead th {\n",
       "        text-align: right;\n",
       "    }\n",
       "</style>\n",
       "<table border=\"1\" class=\"dataframe\">\n",
       "  <thead>\n",
       "    <tr style=\"text-align: right;\">\n",
       "      <th></th>\n",
       "      <th>Sentiment</th>\n",
       "      <th>Tweet</th>\n",
       "      <th>Tokenize</th>\n",
       "      <th>Lemmatize</th>\n",
       "      <th>Lang</th>\n",
       "    </tr>\n",
       "  </thead>\n",
       "  <tbody>\n",
       "    <tr>\n",
       "      <th>0</th>\n",
       "      <td>0</td>\n",
       "      <td>tf going</td>\n",
       "      <td>['tf', 'going']</td>\n",
       "      <td>['tf', 'going']</td>\n",
       "      <td>English</td>\n",
       "    </tr>\n",
       "    <tr>\n",
       "      <th>1</th>\n",
       "      <td>0</td>\n",
       "      <td>fix goddamn bullshit shitty crappy fucking bul...</td>\n",
       "      <td>['fix', 'goddamn', 'bullshit', 'shitty', 'crap...</td>\n",
       "      <td>['fix', 'goddamn', 'bullshit', 'shitty', 'crap...</td>\n",
       "      <td>English</td>\n",
       "    </tr>\n",
       "    <tr>\n",
       "      <th>2</th>\n",
       "      <td>0</td>\n",
       "      <td>hrs reachingout troubleshooting possible ways ...</td>\n",
       "      <td>['hrs', 'reachingout', 'troubleshooting', 'pos...</td>\n",
       "      <td>['hr', 'reachingout', 'troubleshooting', 'poss...</td>\n",
       "      <td>English</td>\n",
       "    </tr>\n",
       "    <tr>\n",
       "      <th>3</th>\n",
       "      <td>0</td>\n",
       "      <td>definitely ask family friends report</td>\n",
       "      <td>['definitely', 'ask', 'family', 'friends', 're...</td>\n",
       "      <td>['definitely', 'ask', 'family', 'friend', 'rep...</td>\n",
       "      <td>English</td>\n",
       "    </tr>\n",
       "    <tr>\n",
       "      <th>4</th>\n",
       "      <td>1</td>\n",
       "      <td>work haha</td>\n",
       "      <td>['work', 'haha']</td>\n",
       "      <td>['work', 'haha']</td>\n",
       "      <td>English</td>\n",
       "    </tr>\n",
       "    <tr>\n",
       "      <th>...</th>\n",
       "      <td>...</td>\n",
       "      <td>...</td>\n",
       "      <td>...</td>\n",
       "      <td>...</td>\n",
       "      <td>...</td>\n",
       "    </tr>\n",
       "    <tr>\n",
       "      <th>8829</th>\n",
       "      <td>1</td>\n",
       "      <td>need help already dm</td>\n",
       "      <td>['need', 'help', 'already', 'dm']</td>\n",
       "      <td>['need', 'help', 'already', 'dm']</td>\n",
       "      <td>English</td>\n",
       "    </tr>\n",
       "    <tr>\n",
       "      <th>8830</th>\n",
       "      <td>0</td>\n",
       "      <td>even private message ayaw niyo magresponse kla...</td>\n",
       "      <td>['even', 'private', 'message', 'ayaw', 'niyo',...</td>\n",
       "      <td>['even', 'private', 'message', 'ayaw', 'niyo',...</td>\n",
       "      <td>English</td>\n",
       "    </tr>\n",
       "    <tr>\n",
       "      <th>8831</th>\n",
       "      <td>0</td>\n",
       "      <td>serbisyong tae</td>\n",
       "      <td>['serbisyong', 'tae']</td>\n",
       "      <td>['serbisyong', 'tae']</td>\n",
       "      <td>Filipino</td>\n",
       "    </tr>\n",
       "    <tr>\n",
       "      <th>8832</th>\n",
       "      <td>1</td>\n",
       "      <td>kindly check dm thank</td>\n",
       "      <td>['kindly', 'check', 'dm', 'thank']</td>\n",
       "      <td>['kindly', 'check', 'dm', 'thank']</td>\n",
       "      <td>English</td>\n",
       "    </tr>\n",
       "    <tr>\n",
       "      <th>8833</th>\n",
       "      <td>0</td>\n",
       "      <td>utang loob pakibigyan naman maayos ayos agent ...</td>\n",
       "      <td>['utang', 'loob', 'pakibigyan', 'naman', 'maay...</td>\n",
       "      <td>['utang', 'loob', 'pakibigyan', 'naman', 'maay...</td>\n",
       "      <td>Filipino</td>\n",
       "    </tr>\n",
       "  </tbody>\n",
       "</table>\n",
       "<p>8834 rows × 5 columns</p>\n",
       "</div>"
      ],
      "text/plain": [
       "      Sentiment                                              Tweet  \\\n",
       "0             0                                           tf going   \n",
       "1             0  fix goddamn bullshit shitty crappy fucking bul...   \n",
       "2             0  hrs reachingout troubleshooting possible ways ...   \n",
       "3             0               definitely ask family friends report   \n",
       "4             1                                          work haha   \n",
       "...         ...                                                ...   \n",
       "8829          1                               need help already dm   \n",
       "8830          0  even private message ayaw niyo magresponse kla...   \n",
       "8831          0                                     serbisyong tae   \n",
       "8832          1                              kindly check dm thank   \n",
       "8833          0  utang loob pakibigyan naman maayos ayos agent ...   \n",
       "\n",
       "                                               Tokenize  \\\n",
       "0                                       ['tf', 'going']   \n",
       "1     ['fix', 'goddamn', 'bullshit', 'shitty', 'crap...   \n",
       "2     ['hrs', 'reachingout', 'troubleshooting', 'pos...   \n",
       "3     ['definitely', 'ask', 'family', 'friends', 're...   \n",
       "4                                      ['work', 'haha']   \n",
       "...                                                 ...   \n",
       "8829                  ['need', 'help', 'already', 'dm']   \n",
       "8830  ['even', 'private', 'message', 'ayaw', 'niyo',...   \n",
       "8831                              ['serbisyong', 'tae']   \n",
       "8832                 ['kindly', 'check', 'dm', 'thank']   \n",
       "8833  ['utang', 'loob', 'pakibigyan', 'naman', 'maay...   \n",
       "\n",
       "                                              Lemmatize      Lang  \n",
       "0                                       ['tf', 'going']   English  \n",
       "1     ['fix', 'goddamn', 'bullshit', 'shitty', 'crap...   English  \n",
       "2     ['hr', 'reachingout', 'troubleshooting', 'poss...   English  \n",
       "3     ['definitely', 'ask', 'family', 'friend', 'rep...   English  \n",
       "4                                      ['work', 'haha']   English  \n",
       "...                                                 ...       ...  \n",
       "8829                  ['need', 'help', 'already', 'dm']   English  \n",
       "8830  ['even', 'private', 'message', 'ayaw', 'niyo',...   English  \n",
       "8831                              ['serbisyong', 'tae']  Filipino  \n",
       "8832                 ['kindly', 'check', 'dm', 'thank']   English  \n",
       "8833  ['utang', 'loob', 'pakibigyan', 'naman', 'maay...  Filipino  \n",
       "\n",
       "[8834 rows x 5 columns]"
      ]
     },
     "execution_count": 23,
     "metadata": {},
     "output_type": "execute_result"
    }
   ],
   "source": [
    "dataset = pd.read_csv(path, error_bad_lines=False);\n",
    "dataset"
   ]
  },
  {
   "cell_type": "markdown",
   "id": "06c28dd0",
   "metadata": {},
   "source": [
    "# ============================================================="
   ]
  },
  {
   "cell_type": "markdown",
   "id": "b0d02e57",
   "metadata": {},
   "source": [
    "# Bisecting KMeans with Translation"
   ]
  },
  {
   "cell_type": "code",
   "execution_count": 24,
   "id": "e179fd8d",
   "metadata": {},
   "outputs": [
    {
     "data": {
      "text/html": [
       "<div>\n",
       "<style scoped>\n",
       "    .dataframe tbody tr th:only-of-type {\n",
       "        vertical-align: middle;\n",
       "    }\n",
       "\n",
       "    .dataframe tbody tr th {\n",
       "        vertical-align: top;\n",
       "    }\n",
       "\n",
       "    .dataframe thead th {\n",
       "        text-align: right;\n",
       "    }\n",
       "</style>\n",
       "<table border=\"1\" class=\"dataframe\">\n",
       "  <thead>\n",
       "    <tr style=\"text-align: right;\">\n",
       "      <th></th>\n",
       "      <th>Tweet</th>\n",
       "    </tr>\n",
       "  </thead>\n",
       "  <tbody>\n",
       "    <tr>\n",
       "      <th>0</th>\n",
       "      <td>tf going</td>\n",
       "    </tr>\n",
       "    <tr>\n",
       "      <th>1</th>\n",
       "      <td>fix goddamn bullshit shitty crappy fucking bul...</td>\n",
       "    </tr>\n",
       "    <tr>\n",
       "      <th>2</th>\n",
       "      <td>hrs reachingout troubleshooting possible ways ...</td>\n",
       "    </tr>\n",
       "    <tr>\n",
       "      <th>3</th>\n",
       "      <td>definitely ask family friends report</td>\n",
       "    </tr>\n",
       "    <tr>\n",
       "      <th>4</th>\n",
       "      <td>work haha</td>\n",
       "    </tr>\n",
       "    <tr>\n",
       "      <th>...</th>\n",
       "      <td>...</td>\n",
       "    </tr>\n",
       "    <tr>\n",
       "      <th>8829</th>\n",
       "      <td>need help already dm</td>\n",
       "    </tr>\n",
       "    <tr>\n",
       "      <th>8830</th>\n",
       "      <td>even private message ayaw niyo magresponse kla...</td>\n",
       "    </tr>\n",
       "    <tr>\n",
       "      <th>8831</th>\n",
       "      <td>serbisyong tae</td>\n",
       "    </tr>\n",
       "    <tr>\n",
       "      <th>8832</th>\n",
       "      <td>kindly check dm thank</td>\n",
       "    </tr>\n",
       "    <tr>\n",
       "      <th>8833</th>\n",
       "      <td>utang loob pakibigyan naman maayos ayos agent ...</td>\n",
       "    </tr>\n",
       "  </tbody>\n",
       "</table>\n",
       "<p>8834 rows × 1 columns</p>\n",
       "</div>"
      ],
      "text/plain": [
       "                                                  Tweet\n",
       "0                                              tf going\n",
       "1     fix goddamn bullshit shitty crappy fucking bul...\n",
       "2     hrs reachingout troubleshooting possible ways ...\n",
       "3                  definitely ask family friends report\n",
       "4                                             work haha\n",
       "...                                                 ...\n",
       "8829                               need help already dm\n",
       "8830  even private message ayaw niyo magresponse kla...\n",
       "8831                                     serbisyong tae\n",
       "8832                              kindly check dm thank\n",
       "8833  utang loob pakibigyan naman maayos ayos agent ...\n",
       "\n",
       "[8834 rows x 1 columns]"
      ]
     },
     "execution_count": 24,
     "metadata": {},
     "output_type": "execute_result"
    }
   ],
   "source": [
    "bkm_translated = dataset[[\"Tweet\"]]\n",
    "bkm_translated"
   ]
  },
  {
   "cell_type": "code",
   "execution_count": 25,
   "id": "491c921f",
   "metadata": {},
   "outputs": [],
   "source": [
    "# bkm_translated['Translated'] = bkm_translated['Tweet'].apply(lambda x : GoogleTranslator(source='auto', target='en').translate(x))"
   ]
  },
  {
   "cell_type": "code",
   "execution_count": 26,
   "id": "98ca5f0a",
   "metadata": {},
   "outputs": [],
   "source": [
    "# bkm_translated.to_csv('BKM_TranslatedTweets.csv')"
   ]
  },
  {
   "cell_type": "code",
   "execution_count": 27,
   "id": "5856e42f",
   "metadata": {},
   "outputs": [
    {
     "data": {
      "text/plain": [
       "'https://drive.google.com/uc?export=download&id=1mme5ZATlBD4dEIpMJjlUSGXSdCC_x5aK'"
      ]
     },
     "execution_count": 27,
     "metadata": {},
     "output_type": "execute_result"
    }
   ],
   "source": [
    "#Load the dataset csv file coming from gdrive\n",
    "url = 'https://drive.google.com/file/d/1mme5ZATlBD4dEIpMJjlUSGXSdCC_x5aK/view?usp=sharing'\n",
    "path = 'https://drive.google.com/uc?export=download&id=' + url.split('/')[-2]\n",
    "path"
   ]
  },
  {
   "cell_type": "code",
   "execution_count": 28,
   "id": "71305241",
   "metadata": {},
   "outputs": [
    {
     "data": {
      "text/html": [
       "<div>\n",
       "<style scoped>\n",
       "    .dataframe tbody tr th:only-of-type {\n",
       "        vertical-align: middle;\n",
       "    }\n",
       "\n",
       "    .dataframe tbody tr th {\n",
       "        vertical-align: top;\n",
       "    }\n",
       "\n",
       "    .dataframe thead th {\n",
       "        text-align: right;\n",
       "    }\n",
       "</style>\n",
       "<table border=\"1\" class=\"dataframe\">\n",
       "  <thead>\n",
       "    <tr style=\"text-align: right;\">\n",
       "      <th></th>\n",
       "      <th>Unnamed: 0</th>\n",
       "      <th>Tweet</th>\n",
       "      <th>Translated</th>\n",
       "    </tr>\n",
       "  </thead>\n",
       "  <tbody>\n",
       "    <tr>\n",
       "      <th>0</th>\n",
       "      <td>0</td>\n",
       "      <td>tf going</td>\n",
       "      <td>tf going</td>\n",
       "    </tr>\n",
       "    <tr>\n",
       "      <th>1</th>\n",
       "      <td>1</td>\n",
       "      <td>fix goddamn bullshit shitty crappy fucking bul...</td>\n",
       "      <td>fix goddamn bullshit shitty crappy fucking bul...</td>\n",
       "    </tr>\n",
       "    <tr>\n",
       "      <th>2</th>\n",
       "      <td>2</td>\n",
       "      <td>hrs reachingout troubleshooting possible ways ...</td>\n",
       "      <td>hrs reachingout troubleshooting possible ways ...</td>\n",
       "    </tr>\n",
       "    <tr>\n",
       "      <th>3</th>\n",
       "      <td>3</td>\n",
       "      <td>definitely ask family friends report</td>\n",
       "      <td>definitely ask family friends report</td>\n",
       "    </tr>\n",
       "    <tr>\n",
       "      <th>4</th>\n",
       "      <td>4</td>\n",
       "      <td>work haha</td>\n",
       "      <td>work haha</td>\n",
       "    </tr>\n",
       "    <tr>\n",
       "      <th>...</th>\n",
       "      <td>...</td>\n",
       "      <td>...</td>\n",
       "      <td>...</td>\n",
       "    </tr>\n",
       "    <tr>\n",
       "      <th>8829</th>\n",
       "      <td>8829</td>\n",
       "      <td>need help already dm</td>\n",
       "      <td>need help already dm</td>\n",
       "    </tr>\n",
       "    <tr>\n",
       "      <th>8830</th>\n",
       "      <td>8830</td>\n",
       "      <td>even private message ayaw niyo magresponse kla...</td>\n",
       "      <td>even private message you don't want to respond...</td>\n",
       "    </tr>\n",
       "    <tr>\n",
       "      <th>8831</th>\n",
       "      <td>8831</td>\n",
       "      <td>serbisyong tae</td>\n",
       "      <td>service shit</td>\n",
       "    </tr>\n",
       "    <tr>\n",
       "      <th>8832</th>\n",
       "      <td>8832</td>\n",
       "      <td>kindly check dm thank</td>\n",
       "      <td>kindly check dm thank</td>\n",
       "    </tr>\n",
       "    <tr>\n",
       "      <th>8833</th>\n",
       "      <td>8833</td>\n",
       "      <td>utang loob pakibigyan naman maayos ayos agent ...</td>\n",
       "      <td>thank you, please give it well, it's fine, the...</td>\n",
       "    </tr>\n",
       "  </tbody>\n",
       "</table>\n",
       "<p>8834 rows × 3 columns</p>\n",
       "</div>"
      ],
      "text/plain": [
       "      Unnamed: 0                                              Tweet  \\\n",
       "0              0                                           tf going   \n",
       "1              1  fix goddamn bullshit shitty crappy fucking bul...   \n",
       "2              2  hrs reachingout troubleshooting possible ways ...   \n",
       "3              3               definitely ask family friends report   \n",
       "4              4                                          work haha   \n",
       "...          ...                                                ...   \n",
       "8829        8829                               need help already dm   \n",
       "8830        8830  even private message ayaw niyo magresponse kla...   \n",
       "8831        8831                                     serbisyong tae   \n",
       "8832        8832                              kindly check dm thank   \n",
       "8833        8833  utang loob pakibigyan naman maayos ayos agent ...   \n",
       "\n",
       "                                             Translated  \n",
       "0                                              tf going  \n",
       "1     fix goddamn bullshit shitty crappy fucking bul...  \n",
       "2     hrs reachingout troubleshooting possible ways ...  \n",
       "3                  definitely ask family friends report  \n",
       "4                                             work haha  \n",
       "...                                                 ...  \n",
       "8829                               need help already dm  \n",
       "8830  even private message you don't want to respond...  \n",
       "8831                                       service shit  \n",
       "8832                              kindly check dm thank  \n",
       "8833  thank you, please give it well, it's fine, the...  \n",
       "\n",
       "[8834 rows x 3 columns]"
      ]
     },
     "execution_count": 28,
     "metadata": {},
     "output_type": "execute_result"
    }
   ],
   "source": [
    "bkm_translated = pd.read_csv(path);\n",
    "bkm_translated"
   ]
  },
  {
   "cell_type": "code",
   "execution_count": 29,
   "id": "1627497c",
   "metadata": {},
   "outputs": [],
   "source": [
    "v = TfidfVectorizer()\n",
    "x = v.fit_transform(bkm_translated['Translated'])"
   ]
  },
  {
   "cell_type": "code",
   "execution_count": 30,
   "id": "3d556eec",
   "metadata": {},
   "outputs": [],
   "source": [
    "bkm = BisectingKMeans(n_clusters=4, random_state=0)"
   ]
  },
  {
   "cell_type": "code",
   "execution_count": 31,
   "id": "ac548f0c",
   "metadata": {},
   "outputs": [
    {
     "data": {
      "text/plain": [
       "array([1, 1, 1, ..., 1, 2, 3])"
      ]
     },
     "execution_count": 31,
     "metadata": {},
     "output_type": "execute_result"
    }
   ],
   "source": [
    "y = bkm.fit_predict(x)\n",
    "y"
   ]
  },
  {
   "cell_type": "code",
   "execution_count": 32,
   "id": "4ece73cd",
   "metadata": {},
   "outputs": [
    {
     "data": {
      "text/html": [
       "<div>\n",
       "<style scoped>\n",
       "    .dataframe tbody tr th:only-of-type {\n",
       "        vertical-align: middle;\n",
       "    }\n",
       "\n",
       "    .dataframe tbody tr th {\n",
       "        vertical-align: top;\n",
       "    }\n",
       "\n",
       "    .dataframe thead th {\n",
       "        text-align: right;\n",
       "    }\n",
       "</style>\n",
       "<table border=\"1\" class=\"dataframe\">\n",
       "  <thead>\n",
       "    <tr style=\"text-align: right;\">\n",
       "      <th></th>\n",
       "      <th>Unnamed: 0</th>\n",
       "      <th>Tweet</th>\n",
       "      <th>Translated</th>\n",
       "      <th>Cluster</th>\n",
       "    </tr>\n",
       "  </thead>\n",
       "  <tbody>\n",
       "    <tr>\n",
       "      <th>0</th>\n",
       "      <td>0</td>\n",
       "      <td>tf going</td>\n",
       "      <td>tf going</td>\n",
       "      <td>1</td>\n",
       "    </tr>\n",
       "    <tr>\n",
       "      <th>1</th>\n",
       "      <td>1</td>\n",
       "      <td>fix goddamn bullshit shitty crappy fucking bul...</td>\n",
       "      <td>fix goddamn bullshit shitty crappy fucking bul...</td>\n",
       "      <td>1</td>\n",
       "    </tr>\n",
       "    <tr>\n",
       "      <th>2</th>\n",
       "      <td>2</td>\n",
       "      <td>hrs reachingout troubleshooting possible ways ...</td>\n",
       "      <td>hrs reachingout troubleshooting possible ways ...</td>\n",
       "      <td>1</td>\n",
       "    </tr>\n",
       "    <tr>\n",
       "      <th>3</th>\n",
       "      <td>3</td>\n",
       "      <td>definitely ask family friends report</td>\n",
       "      <td>definitely ask family friends report</td>\n",
       "      <td>1</td>\n",
       "    </tr>\n",
       "    <tr>\n",
       "      <th>4</th>\n",
       "      <td>4</td>\n",
       "      <td>work haha</td>\n",
       "      <td>work haha</td>\n",
       "      <td>1</td>\n",
       "    </tr>\n",
       "    <tr>\n",
       "      <th>...</th>\n",
       "      <td>...</td>\n",
       "      <td>...</td>\n",
       "      <td>...</td>\n",
       "      <td>...</td>\n",
       "    </tr>\n",
       "    <tr>\n",
       "      <th>8829</th>\n",
       "      <td>8829</td>\n",
       "      <td>need help already dm</td>\n",
       "      <td>need help already dm</td>\n",
       "      <td>2</td>\n",
       "    </tr>\n",
       "    <tr>\n",
       "      <th>8830</th>\n",
       "      <td>8830</td>\n",
       "      <td>even private message ayaw niyo magresponse kla...</td>\n",
       "      <td>even private message you don't want to respond...</td>\n",
       "      <td>3</td>\n",
       "    </tr>\n",
       "    <tr>\n",
       "      <th>8831</th>\n",
       "      <td>8831</td>\n",
       "      <td>serbisyong tae</td>\n",
       "      <td>service shit</td>\n",
       "      <td>1</td>\n",
       "    </tr>\n",
       "    <tr>\n",
       "      <th>8832</th>\n",
       "      <td>8832</td>\n",
       "      <td>kindly check dm thank</td>\n",
       "      <td>kindly check dm thank</td>\n",
       "      <td>2</td>\n",
       "    </tr>\n",
       "    <tr>\n",
       "      <th>8833</th>\n",
       "      <td>8833</td>\n",
       "      <td>utang loob pakibigyan naman maayos ayos agent ...</td>\n",
       "      <td>thank you, please give it well, it's fine, the...</td>\n",
       "      <td>3</td>\n",
       "    </tr>\n",
       "  </tbody>\n",
       "</table>\n",
       "<p>8834 rows × 4 columns</p>\n",
       "</div>"
      ],
      "text/plain": [
       "      Unnamed: 0                                              Tweet  \\\n",
       "0              0                                           tf going   \n",
       "1              1  fix goddamn bullshit shitty crappy fucking bul...   \n",
       "2              2  hrs reachingout troubleshooting possible ways ...   \n",
       "3              3               definitely ask family friends report   \n",
       "4              4                                          work haha   \n",
       "...          ...                                                ...   \n",
       "8829        8829                               need help already dm   \n",
       "8830        8830  even private message ayaw niyo magresponse kla...   \n",
       "8831        8831                                     serbisyong tae   \n",
       "8832        8832                              kindly check dm thank   \n",
       "8833        8833  utang loob pakibigyan naman maayos ayos agent ...   \n",
       "\n",
       "                                             Translated  Cluster  \n",
       "0                                              tf going        1  \n",
       "1     fix goddamn bullshit shitty crappy fucking bul...        1  \n",
       "2     hrs reachingout troubleshooting possible ways ...        1  \n",
       "3                  definitely ask family friends report        1  \n",
       "4                                             work haha        1  \n",
       "...                                                 ...      ...  \n",
       "8829                               need help already dm        2  \n",
       "8830  even private message you don't want to respond...        3  \n",
       "8831                                       service shit        1  \n",
       "8832                              kindly check dm thank        2  \n",
       "8833  thank you, please give it well, it's fine, the...        3  \n",
       "\n",
       "[8834 rows x 4 columns]"
      ]
     },
     "execution_count": 32,
     "metadata": {},
     "output_type": "execute_result"
    }
   ],
   "source": [
    "bkm_translated['Cluster'] = y\n",
    "bkm_translated"
   ]
  },
  {
   "cell_type": "code",
   "execution_count": 33,
   "id": "65018789",
   "metadata": {},
   "outputs": [
    {
     "data": {
      "text/plain": [
       "1    5238\n",
       "3    2551\n",
       "2     690\n",
       "0     355\n",
       "Name: Cluster, dtype: int64"
      ]
     },
     "execution_count": 33,
     "metadata": {},
     "output_type": "execute_result"
    }
   ],
   "source": [
    "bkm_translated.Cluster.value_counts()"
   ]
  },
  {
   "cell_type": "code",
   "execution_count": 34,
   "id": "44a8b6d2",
   "metadata": {},
   "outputs": [
    {
     "data": {
      "text/html": [
       "<div>\n",
       "<style scoped>\n",
       "    .dataframe tbody tr th:only-of-type {\n",
       "        vertical-align: middle;\n",
       "    }\n",
       "\n",
       "    .dataframe tbody tr th {\n",
       "        vertical-align: top;\n",
       "    }\n",
       "\n",
       "    .dataframe thead th {\n",
       "        text-align: right;\n",
       "    }\n",
       "</style>\n",
       "<table border=\"1\" class=\"dataframe\">\n",
       "  <thead>\n",
       "    <tr style=\"text-align: right;\">\n",
       "      <th></th>\n",
       "      <th>Unnamed: 0</th>\n",
       "      <th>Tweet</th>\n",
       "      <th>Translated</th>\n",
       "      <th>Cluster</th>\n",
       "      <th>Sentiment</th>\n",
       "    </tr>\n",
       "  </thead>\n",
       "  <tbody>\n",
       "    <tr>\n",
       "      <th>0</th>\n",
       "      <td>0</td>\n",
       "      <td>tf going</td>\n",
       "      <td>tf going</td>\n",
       "      <td>1</td>\n",
       "      <td>0</td>\n",
       "    </tr>\n",
       "    <tr>\n",
       "      <th>1</th>\n",
       "      <td>1</td>\n",
       "      <td>fix goddamn bullshit shitty crappy fucking bul...</td>\n",
       "      <td>fix goddamn bullshit shitty crappy fucking bul...</td>\n",
       "      <td>1</td>\n",
       "      <td>0</td>\n",
       "    </tr>\n",
       "    <tr>\n",
       "      <th>2</th>\n",
       "      <td>2</td>\n",
       "      <td>hrs reachingout troubleshooting possible ways ...</td>\n",
       "      <td>hrs reachingout troubleshooting possible ways ...</td>\n",
       "      <td>1</td>\n",
       "      <td>0</td>\n",
       "    </tr>\n",
       "    <tr>\n",
       "      <th>3</th>\n",
       "      <td>3</td>\n",
       "      <td>definitely ask family friends report</td>\n",
       "      <td>definitely ask family friends report</td>\n",
       "      <td>1</td>\n",
       "      <td>0</td>\n",
       "    </tr>\n",
       "    <tr>\n",
       "      <th>4</th>\n",
       "      <td>4</td>\n",
       "      <td>work haha</td>\n",
       "      <td>work haha</td>\n",
       "      <td>1</td>\n",
       "      <td>1</td>\n",
       "    </tr>\n",
       "    <tr>\n",
       "      <th>...</th>\n",
       "      <td>...</td>\n",
       "      <td>...</td>\n",
       "      <td>...</td>\n",
       "      <td>...</td>\n",
       "      <td>...</td>\n",
       "    </tr>\n",
       "    <tr>\n",
       "      <th>8829</th>\n",
       "      <td>8829</td>\n",
       "      <td>need help already dm</td>\n",
       "      <td>need help already dm</td>\n",
       "      <td>2</td>\n",
       "      <td>1</td>\n",
       "    </tr>\n",
       "    <tr>\n",
       "      <th>8830</th>\n",
       "      <td>8830</td>\n",
       "      <td>even private message ayaw niyo magresponse kla...</td>\n",
       "      <td>even private message you don't want to respond...</td>\n",
       "      <td>3</td>\n",
       "      <td>0</td>\n",
       "    </tr>\n",
       "    <tr>\n",
       "      <th>8831</th>\n",
       "      <td>8831</td>\n",
       "      <td>serbisyong tae</td>\n",
       "      <td>service shit</td>\n",
       "      <td>1</td>\n",
       "      <td>0</td>\n",
       "    </tr>\n",
       "    <tr>\n",
       "      <th>8832</th>\n",
       "      <td>8832</td>\n",
       "      <td>kindly check dm thank</td>\n",
       "      <td>kindly check dm thank</td>\n",
       "      <td>2</td>\n",
       "      <td>1</td>\n",
       "    </tr>\n",
       "    <tr>\n",
       "      <th>8833</th>\n",
       "      <td>8833</td>\n",
       "      <td>utang loob pakibigyan naman maayos ayos agent ...</td>\n",
       "      <td>thank you, please give it well, it's fine, the...</td>\n",
       "      <td>3</td>\n",
       "      <td>0</td>\n",
       "    </tr>\n",
       "  </tbody>\n",
       "</table>\n",
       "<p>8834 rows × 5 columns</p>\n",
       "</div>"
      ],
      "text/plain": [
       "      Unnamed: 0                                              Tweet  \\\n",
       "0              0                                           tf going   \n",
       "1              1  fix goddamn bullshit shitty crappy fucking bul...   \n",
       "2              2  hrs reachingout troubleshooting possible ways ...   \n",
       "3              3               definitely ask family friends report   \n",
       "4              4                                          work haha   \n",
       "...          ...                                                ...   \n",
       "8829        8829                               need help already dm   \n",
       "8830        8830  even private message ayaw niyo magresponse kla...   \n",
       "8831        8831                                     serbisyong tae   \n",
       "8832        8832                              kindly check dm thank   \n",
       "8833        8833  utang loob pakibigyan naman maayos ayos agent ...   \n",
       "\n",
       "                                             Translated  Cluster  Sentiment  \n",
       "0                                              tf going        1          0  \n",
       "1     fix goddamn bullshit shitty crappy fucking bul...        1          0  \n",
       "2     hrs reachingout troubleshooting possible ways ...        1          0  \n",
       "3                  definitely ask family friends report        1          0  \n",
       "4                                             work haha        1          1  \n",
       "...                                                 ...      ...        ...  \n",
       "8829                               need help already dm        2          1  \n",
       "8830  even private message you don't want to respond...        3          0  \n",
       "8831                                       service shit        1          0  \n",
       "8832                              kindly check dm thank        2          1  \n",
       "8833  thank you, please give it well, it's fine, the...        3          0  \n",
       "\n",
       "[8834 rows x 5 columns]"
      ]
     },
     "execution_count": 34,
     "metadata": {},
     "output_type": "execute_result"
    }
   ],
   "source": [
    "#Load the dataset csv file coming from gdrive\n",
    "url = 'https://drive.google.com/file/d/1M2wGBYxCe0RPlASstoTp541MsIDA7l65/view?usp=sharing'\n",
    "path = 'https://drive.google.com/uc?export=download&id=' + url.split('/')[-2]\n",
    "bkm_translated = pd.read_csv(path)\n",
    "bkm_translated"
   ]
  },
  {
   "cell_type": "markdown",
   "id": "25cd569b",
   "metadata": {},
   "source": [
    "# ============================================================="
   ]
  },
  {
   "cell_type": "markdown",
   "id": "f11d6514",
   "metadata": {},
   "source": [
    "# Bisecting Kmeans w BiLDA"
   ]
  },
  {
   "cell_type": "code",
   "execution_count": 36,
   "id": "13329435",
   "metadata": {},
   "outputs": [],
   "source": [
    "from __future__ import division\n",
    "from importlib import reload\n",
    "import random\n",
    "import re\n",
    "import sys\n",
    "\n",
    "\n",
    "class BiLDA:\n",
    "    # documents\n",
    "    M_en = 0\n",
    "    M_ja = 0\n",
    "    N_en = 0\n",
    "    N_ja = 0\n",
    "    # documents=[[]*N]*M\n",
    "    documents_en = 0\n",
    "    documents_ja = 0\n",
    "\n",
    "    # vocabulary size\n",
    "    V_en = 0\n",
    "    V_ja = 0\n",
    "\n",
    "    # number of topics\n",
    "    K = 0\n",
    "\n",
    "    # Dirichlet parameter\n",
    "\n",
    "    alpha = 0.0\n",
    "\n",
    "    beta = 0.0\n",
    "\n",
    "    # topic assignments for each word\n",
    "    # z=[[]*N]*M\n",
    "    z_en = []\n",
    "    z_ja = []\n",
    "\n",
    "    # nw[i][j] number of instances of word i (term?) assigned to topic j\n",
    "    # nw=[[]*V]*K\n",
    "    nw_en = []\n",
    "    nw_ja = []\n",
    "\n",
    "    # nd[i][j] number of words in document i assigned to topic j\n",
    "    # nd=[[]*M]*K\n",
    "    nd_en = []\n",
    "    nd_ja = []\n",
    "\n",
    "    # nwsum[j] total number of words assigned to topic j\n",
    "    # nwsum=[]*K\n",
    "    nwsum_en = []\n",
    "    nwsum_ja = []\n",
    "\n",
    "    # ndsum[i] total number of words in document i\n",
    "    # ndsum=[]*M\n",
    "    ndsum_en = []\n",
    "    ndsum_ja = []\n",
    "\n",
    "    # theta(document-topic distribution)\n",
    "    # theta=[[]*M]*K\n",
    "    # K = topics\n",
    "    theta = []\n",
    "\n",
    "    # phi(topic-word distribution)\n",
    "    # phi=[[]*M]*V\n",
    "    # V is vocab size\n",
    "    phi = []\n",
    "    psy = []\n",
    "\n",
    "    # size of statistics\n",
    "    numstats = 0\n",
    "\n",
    "    # number of iteration\n",
    "    iteration = 0\n",
    "\n",
    "    # dicitionary\n",
    "    dic_wordTonum_en = {}\n",
    "    dic_numToword_en = {}\n",
    "    dic_wordTonum_ja = {}\n",
    "    dic_numToword_ja = {}\n",
    "\n",
    "    # config parameters\n",
    "    def config(self, alpha, beta, K, iteration):\n",
    "        self.alpha = alpha\n",
    "        self.beta = beta\n",
    "        self.K = K\n",
    "        self.iteration = iteration\n",
    "\n",
    "    # read file\n",
    "    def readData(self, filename_en, filename_ja):\n",
    "        f_en = open(filename_en, 'r')\n",
    "        wordmap_en = open('wordmap-' + filename_en, 'w')\n",
    "        f_ja = open(filename_ja, 'r',  encoding='utf-8')\n",
    "        wordmap_ja = open('wordmap-' + filename_ja, 'w')\n",
    "\n",
    "        # English file\n",
    "        full_en = f_en.read()\n",
    "\n",
    "        full_en = full_en.strip()\n",
    "\n",
    "        wordList_en = ''\n",
    "        wordID_en = 0\n",
    "\n",
    "        # get documents size\n",
    "        doc_en = full_en.split('\\n')\n",
    "        self.M_en = len(doc_en)\n",
    "        # print self.M\n",
    "        self.z_en = [0] * self.M_en\n",
    "\n",
    "        self.nwsum_en = [0] * self.K\n",
    "        self.ndsum_en = [0] * self.M_en\n",
    "        self.nd_en = [[0] * self.K for row in range(self.M_en)]\n",
    "        self.documents_en = [0] * self.M_en\n",
    "\n",
    "        self.theta = [[0] * self.K for row in range(self.M_en)]\n",
    "        # print len(self.theta)\n",
    "\n",
    "        for m in range(self.M_en):\n",
    "            # replace words by number\n",
    "            text = doc_en[m]\n",
    "            # print text\n",
    "            text = text.replace('\\n', '')\n",
    "            # text=text.decode(encoding='utf-8')\n",
    "            words = text.split(' ')\n",
    "\n",
    "            self.N_en = len(words)\n",
    "\n",
    "            self.documents_en[m] = [0] * self.N_en\n",
    "\n",
    "            for n in range(self.N_en):\n",
    "\n",
    "                # print self.N\n",
    "                if words[n] in wordList_en:\n",
    "                    continue\n",
    "                else:\n",
    "                    self.dic_wordTonum_en[words[n]] = wordID_en\n",
    "                    self.dic_numToword_en[wordID_en] = words[n]\n",
    "                    wordList_en = wordList_en + str(wordID_en) + ' ' + words[n] + '\\n'\n",
    "                    wordID_en += 1\n",
    "                    if wordID_en % 1000 == 0:\n",
    "                        print('Have read ' + str(wordID_en) + ' English words.')\n",
    "\n",
    "                self.documents_en[m][n] = self.dic_wordTonum_en[words[n]]\n",
    "\n",
    "        print('Total ' + str(wordID_en) + ' English words.')\n",
    "        self.V_en = wordID_en\n",
    "        # print wordID\n",
    "        self.nw_en = [[0] * self.K for row in range(self.V_en)]\n",
    "\n",
    "        self.phi = [[0] * self.V_en for row in range(self.K)]\n",
    "\n",
    "        for m in range(self.M_en):\n",
    "\n",
    "            self.N_en = len(self.documents_en[m])\n",
    "            self.z_en[m] = [0] * self.N_en\n",
    "\n",
    "            for n in range(self.N_en):\n",
    "                # randomly initiate\n",
    "                topic = int(random.random() * self.K)\n",
    "                self.z_en[m][n] = topic\n",
    "                # documents[m][n] 是第m个doc中的第n个词\n",
    "                self.nw_en[self.documents_en[m][n]][topic] += 1\n",
    "                # number of words in document i assigned to topic j\n",
    "                self.nd_en[m][topic] += 1\n",
    "                # total number of words assigned to topic j\n",
    "                self.nwsum_en[topic] += 1\n",
    "\n",
    "                # total number of words in document i\n",
    "                self.ndsum_en[m] = self.N_en\n",
    "\n",
    "        # creat wordmap file\n",
    "        wordmap_en.write(wordList_en)\n",
    "\n",
    "        f_en.close()\n",
    "        wordmap_en.close()\n",
    "\n",
    "        # Filipino file\n",
    "        full_ja = f_ja.read()\n",
    "\n",
    "        full_ja = full_ja.strip()\n",
    "\n",
    "        # fullDoc=full.replace('\\n','')\n",
    "        # fullWord=fullDoc.split()\n",
    "        wordList_ja = ''\n",
    "        wordID_ja = 0\n",
    "\n",
    "        # get documents size\n",
    "        doc_ja = full_ja.split('\\n')\n",
    "        self.M_ja = len(doc_ja)\n",
    "        # print self.M\n",
    "        self.z_ja = [0] * self.M_ja\n",
    "\n",
    "        self.nwsum_ja = [0] * self.K\n",
    "        self.ndsum_ja = [0] * self.M_ja\n",
    "        self.nd_ja = [[0] * self.K for row in range(self.M_ja)]\n",
    "        self.documents_ja = [0] * self.M_ja\n",
    "\n",
    "        # self.thetasum_ja=[[0]*self.K for row in range(self.M_ja)]\n",
    "        # print len(self.theta)\n",
    "\n",
    "        for m in range(self.M_ja):\n",
    "            # replace words by number\n",
    "            text = doc_ja[m]\n",
    "            # print text\n",
    "            text = text.replace('\\n', '')\n",
    "            # text=text.decode(encoding='utf-8')\n",
    "            words = text.split(' ')\n",
    "\n",
    "            self.N_ja = len(words)\n",
    "        \n",
    "            self.documents_ja[m] = [0] * self.N_ja\n",
    "\n",
    "            for n in range(self.N_ja):\n",
    "\n",
    "                # print self.N\n",
    "                if words[n] in wordList_ja:\n",
    "                    continue\n",
    "                else:\n",
    "                    self.dic_wordTonum_ja[words[n]] = wordID_ja\n",
    "                    self.dic_numToword_ja[wordID_ja] = words[n]\n",
    "                    wordList_ja = wordList_ja + str(wordID_ja) + ' ' + words[n] + '\\n'\n",
    "                    wordID_ja += 1\n",
    "                    if wordID_ja % 1000 == 0:\n",
    "                        print('Have read ' + str(wordID_ja) + ' Filipino words.')\n",
    "\n",
    "                self.documents_ja[m][n] = self.dic_wordTonum_ja[words[n]]\n",
    "\n",
    "        print('Total ' + str(wordID_ja) + ' Filipino words.')\n",
    "        self.V_ja = wordID_ja\n",
    "        # print wordID\n",
    "        self.nw_ja = [[0] * self.K for row in range(self.V_ja)]\n",
    "\n",
    "        self.psy = [[0] * self.V_ja for row in range(self.K)]\n",
    "\n",
    "        for m in range(self.M_ja):\n",
    "\n",
    "            self.N_ja = len(self.documents_ja[m])\n",
    "            self.z_ja[m] = [0] * self.N_ja\n",
    "\n",
    "            for n in range(self.N_ja):\n",
    "                # randomly initiate\n",
    "                topic = int(random.random() * self.K)\n",
    "                self.z_ja[m][n] = topic\n",
    "                # documents[m][n] 是第m个doc中的第n个词\n",
    "                self.nw_ja[self.documents_ja[m][n]][topic] += 1\n",
    "                # number of words in document i assigned to topic j\n",
    "                self.nd_ja[m][topic] += 1\n",
    "                # total number of words assigned to topic j\n",
    "                self.nwsum_ja[topic] += 1\n",
    "\n",
    "                # total number of words in document i\n",
    "                self.ndsum_ja[m] = self.N_ja\n",
    "\n",
    "        # create wordmap file\n",
    "        wordmap_ja.write(wordList_ja)\n",
    "\n",
    "        f_ja.close()\n",
    "        wordmap_ja.close()\n",
    "\n",
    "    # print self.M_ja\n",
    "    # print self.M_en\n",
    "\n",
    "    def sampler(self):\n",
    "        print('Start sampling!')\n",
    "        for i in range(self.iteration):\n",
    "            # for all z_i\n",
    "            for m in range(len(self.z_en)):\n",
    "                # print m\n",
    "                # for english word\n",
    "                for n in range(len(self.z_en[m])):\n",
    "                    # (z_i = z[m][n])\n",
    "                    # sample from p(z_i|z_-i, w)\n",
    "                    topic = self.z_en[m][n]\n",
    "                    self.nw_en[self.documents_en[m][n]][topic] -= 1\n",
    "                    self.nd_en[m][topic] -= 1\n",
    "                    self.nwsum_en[topic] -= 1\n",
    "                    self.ndsum_en[m] -= 1\n",
    "\n",
    "                    p = [0] * self.K\n",
    "\n",
    "                    # print 'do multinomial sampling via cumulative method'\n",
    "                    # do multinomial sampling via cumulative method\n",
    "                    for k in range(self.K):\n",
    "                        # nw 是第i个word被赋予第j个topic的个数\n",
    "                        # 在下式中，documents[m][n]是word id，k为第k个topic\n",
    "                        # nd 为第m个文档中被赋予topic k的词的个数\n",
    "                        p[k] = (self.nw_en[self.documents_en[m][n]][k] + self.beta) / (\n",
    "                                self.nwsum_en[k] + self.V_en * self.beta) * (\n",
    "                                   self.nd_en[m][k] + self.nd_ja[m][k] + self.alpha) / (\n",
    "                                       self.ndsum_en[m] + self.ndsum_ja[m] + self.K * self.alpha)\n",
    "\n",
    "                    # print 'cumulate multinomial parameters'\n",
    "                    # cumulate multinomial parameters\n",
    "                    for k in range(len(p)):\n",
    "                        if k != 0:\n",
    "                            p[k] += p[k - 1]\n",
    "\n",
    "                    # print 'scaled sample because of unnormalised p[]'\n",
    "                    # scaled sample because of unnormalised p[]\n",
    "                    u = random.random() * p[self.K - 1]\n",
    "                    for topic in range(len(p)):\n",
    "                        if (u < p[topic]):\n",
    "                            break\n",
    "\n",
    "                    self.nw_en[self.documents_en[m][n]][topic] += 1\n",
    "                    self.nd_en[m][topic] += 1\n",
    "                    self.nwsum_en[topic] += 1\n",
    "                    self.ndsum_en[m] += 1\n",
    "\n",
    "                    self.z_en[m][n] = topic\n",
    "\n",
    "                # print len(self.z_ja[m])\n",
    "                # for Filipino word\n",
    "                for n in range(len(self.z_ja[m])):\n",
    "                    # (z_i = z[m][n])\n",
    "                    # sample from p(z_i|z_-i, w)\n",
    "                    topic = self.z_ja[m][n]\n",
    "                    self.nw_ja[self.documents_ja[m][n]][topic] -= 1\n",
    "                    self.nd_ja[m][topic] -= 1\n",
    "                    self.nwsum_ja[topic] -= 1\n",
    "                    self.ndsum_ja[m] -= 1\n",
    "\n",
    "                    p = [0] * self.K\n",
    "\n",
    "                    # print 'do multinomial sampling via cumulative method'\n",
    "                    # do multinomial sampling via cumulative method\n",
    "                    for k in range(self.K):\n",
    "                        # nw 是第i个word被赋予第j个topic的个数\n",
    "                        # 在下式中，documents[m][n]是word id，k为第k个topic\n",
    "                        # nd 为第m个文档中被赋予topic k的词的个数\n",
    "                        p[k] = (self.nw_ja[self.documents_ja[m][n]][k] + self.beta) / (\n",
    "                                self.nwsum_ja[k] + self.V_ja * self.beta) * (\n",
    "                                       self.nd_en[m][k] + self.nd_ja[m][k] + self.alpha) / (\n",
    "                                          self.ndsum_en[m] + self.ndsum_ja[m] + self.K * self.alpha)\n",
    "\n",
    "                    # print 'cumulate multinomial parameters'\n",
    "                    # cumulate multinomial parameters\n",
    "                    for k in range(len(p)):\n",
    "                        if k != 0:\n",
    "                            p[k] += p[k - 1]\n",
    "\n",
    "                    # print 'scaled sample because of unnormalised p[]'\n",
    "                    # scaled sample because of unnormalised p[]\n",
    "                    u = random.random() * p[self.K - 1]\n",
    "                    for topic in range(len(p)):\n",
    "                        if (u < p[topic]):\n",
    "                            break\n",
    "\n",
    "                    self.nw_ja[self.documents_ja[m][n]][topic] += 1\n",
    "                    self.nd_ja[m][topic] += 1\n",
    "                    self.nwsum_ja[topic] += 1\n",
    "                    self.ndsum_ja[m] += 1\n",
    "\n",
    "                    self.z_ja[m][n] = topic\n",
    "\n",
    "            # if i%100==0:\n",
    "            print(str(i + 1) + ' iterations completed!')\n",
    "        print('Sampling completed!')\n",
    "\n",
    "    def updateParameter(self):\n",
    "        for m in range(len(self.documents_en)):\n",
    "            for k in range(self.K):\n",
    "                self.theta[m][k] = (self.nd_en[m][k] + self.nd_ja[m][k] + self.alpha) / (\n",
    "                        self.ndsum_en[m] + self.ndsum_ja[m] + self.K * self.alpha)\n",
    "\n",
    "        for k in range(self.K):\n",
    "            for w in range(self.V_en):\n",
    "                self.phi[k][w] = (self.nw_en[w][k] + self.beta) / (self.nwsum_en[k] + self.V_en * self.beta)\n",
    "\n",
    "        for k in range(self.K):\n",
    "            for w in range(self.V_ja):\n",
    "                self.psy[k][w] = (self.nw_ja[w][k] + self.beta) / (self.nwsum_ja[k] + self.V_ja * self.beta)\n",
    "\n",
    "    def creat_file(self):\n",
    "        print('Creating theta file.')\n",
    "        f_theta = open('theta.txt', 'w')\n",
    "        f_theta.write('')\n",
    "        f_theta = open('theta.txt', 'a')\n",
    "        for m in range(len(self.documents_en)):\n",
    "            f_theta.write('\\n')\n",
    "            # text+='\\n'\n",
    "            for k in range(self.K):\n",
    "                f_theta.write(str(self.theta[m][k]) + ' ')\n",
    "        # text+=str(self.theta[m][k])+' '\n",
    "        # f_theta.write(text)\n",
    "        f_theta.close()\n",
    "        print('Complete!')\n",
    "\n",
    "        # english\n",
    "        print('Creating phi file.')\n",
    "        f_phi = open('phi.txt', 'w')\n",
    "        f_phi.write('')\n",
    "        f_phi = open('phi.txt', 'a')\n",
    "        # text=''\n",
    "        for k in range(self.K):\n",
    "            f_phi.write('\\n')\n",
    "            # text+='\\n'\n",
    "            for w in range(self.V_en):\n",
    "                # text+=str(self.phi[k][w])+' '\n",
    "                f_phi.write(str(self.phi[k][w]) + ' ')\n",
    "        # f_phi.write(text)\n",
    "        f_phi.close()\n",
    "        print('Complete!')\n",
    "\n",
    "        # Filipino\n",
    "        print('Creating psy file.')\n",
    "        f_psy = open('psy.txt', 'w')\n",
    "        f_psy.write('')\n",
    "        f_psy = open('psy.txt', 'a')\n",
    "        # text=''\n",
    "        for k in range(self.K):\n",
    "            # text+='\\n'\n",
    "            f_psy.write('\\n')\n",
    "            for w in range(self.V_ja):\n",
    "                # text+=str(self.psy[k][w])+' '\n",
    "                f_psy.write(str(self.psy[k][w]) + ' ')\n",
    "        # f_psy.write(text)\n",
    "        f_psy.close()\n",
    "        print('Complete!')\n",
    "\n",
    "        print('Creating topic_word file.')\n",
    "        f_topic_word = open('topic_word.txt', 'w')\n",
    "        f_topic_word.write('')\n",
    "        f_topic_word = open('topic_word.txt', 'a')\n",
    "        # text=''\n",
    "        for k in range(self.K):\n",
    "            dic_en = dict()\n",
    "            dic_ja = dict()\n",
    "            f_topic_word.write('Topic ' + str(k + 1) + ':\\n')\n",
    "            # text+='Topic '+str(k+1)+':\\n'\n",
    "            for w in range(self.V_en):\n",
    "                dic_en[w] = self.phi[k][w]\n",
    "            dic_en = sorted(dic_en.items(), key=lambda d: d[1], reverse=True)\n",
    "\n",
    "            for w in range(self.V_ja):\n",
    "                dic_ja[w] = self.psy[k][w]\n",
    "            dic_ja = sorted(dic_ja.items(), key=lambda d: d[1], reverse=True)\n",
    "\n",
    "            # Changed base on number of words per topic?\n",
    "            for i in range(100):\n",
    "                f_topic_word.write(str(self.dic_numToword_en[dic_en[i][0]]) + ' ' + str(dic_en[i][1]) + ' ' + str(\n",
    "                    self.dic_numToword_ja[dic_ja[i][0]]) + ' ' + str(dic_ja[i][1]) + '\\n')\n",
    "        # text+=str(self.dic_numToword_en[dic_en[i][0]])+' '+str(dic_en[i][1])+' '+str(self.dic_numToword_ja[dic_ja[i][0]])+' '+str(dic_ja[i][1])+'\\n'\n",
    "\n",
    "        # f_topic_word.write(text)\n",
    "        f_topic_word.close()\n",
    "        print('Complete!')\n",
    "# start\n",
    "\n",
    "reload(sys)\n",
    "\n",
    "bilda = BiLDA()\n",
    "#6 = number of topics\n",
    "#250 = number of iteration\n",
    "bilda.config(0.2, 0.5, 6, 250)\n",
    "bilda.readData('en.txt', 'fi.txt')\n",
    "bilda.sampler()\n",
    "bilda.updateParameter()\n",
    "bilda.creat_file()"
   ]
  },
  {
   "cell_type": "code",
   "execution_count": 37,
   "id": "c4c52769",
   "metadata": {},
   "outputs": [
    {
     "data": {
      "text/html": [
       "<div>\n",
       "<style scoped>\n",
       "    .dataframe tbody tr th:only-of-type {\n",
       "        vertical-align: middle;\n",
       "    }\n",
       "\n",
       "    .dataframe tbody tr th {\n",
       "        vertical-align: top;\n",
       "    }\n",
       "\n",
       "    .dataframe thead th {\n",
       "        text-align: right;\n",
       "    }\n",
       "</style>\n",
       "<table border=\"1\" class=\"dataframe\">\n",
       "  <thead>\n",
       "    <tr style=\"text-align: right;\">\n",
       "      <th></th>\n",
       "      <th>Topic1</th>\n",
       "      <th>Topic2</th>\n",
       "      <th>Topic3</th>\n",
       "      <th>Topic4</th>\n",
       "    </tr>\n",
       "  </thead>\n",
       "  <tbody>\n",
       "    <tr>\n",
       "      <th>0</th>\n",
       "      <td>0.010101</td>\n",
       "      <td>0.262626</td>\n",
       "      <td>0.717172</td>\n",
       "      <td>0.010101</td>\n",
       "    </tr>\n",
       "    <tr>\n",
       "      <th>1</th>\n",
       "      <td>0.231884</td>\n",
       "      <td>0.086957</td>\n",
       "      <td>0.159420</td>\n",
       "      <td>0.521739</td>\n",
       "    </tr>\n",
       "    <tr>\n",
       "      <th>2</th>\n",
       "      <td>0.018519</td>\n",
       "      <td>0.203704</td>\n",
       "      <td>0.574074</td>\n",
       "      <td>0.203704</td>\n",
       "    </tr>\n",
       "    <tr>\n",
       "      <th>3</th>\n",
       "      <td>0.071429</td>\n",
       "      <td>0.071429</td>\n",
       "      <td>0.071429</td>\n",
       "      <td>0.785714</td>\n",
       "    </tr>\n",
       "    <tr>\n",
       "      <th>4</th>\n",
       "      <td>0.203704</td>\n",
       "      <td>0.481481</td>\n",
       "      <td>0.296296</td>\n",
       "      <td>0.018519</td>\n",
       "    </tr>\n",
       "    <tr>\n",
       "      <th>...</th>\n",
       "      <td>...</td>\n",
       "      <td>...</td>\n",
       "      <td>...</td>\n",
       "      <td>...</td>\n",
       "    </tr>\n",
       "    <tr>\n",
       "      <th>4412</th>\n",
       "      <td>0.018519</td>\n",
       "      <td>0.944444</td>\n",
       "      <td>0.018519</td>\n",
       "      <td>0.018519</td>\n",
       "    </tr>\n",
       "    <tr>\n",
       "      <th>4413</th>\n",
       "      <td>0.008403</td>\n",
       "      <td>0.974790</td>\n",
       "      <td>0.008403</td>\n",
       "      <td>0.008403</td>\n",
       "    </tr>\n",
       "    <tr>\n",
       "      <th>4414</th>\n",
       "      <td>0.015625</td>\n",
       "      <td>0.953125</td>\n",
       "      <td>0.015625</td>\n",
       "      <td>0.015625</td>\n",
       "    </tr>\n",
       "    <tr>\n",
       "      <th>4415</th>\n",
       "      <td>0.009615</td>\n",
       "      <td>0.875000</td>\n",
       "      <td>0.057692</td>\n",
       "      <td>0.057692</td>\n",
       "    </tr>\n",
       "    <tr>\n",
       "      <th>4416</th>\n",
       "      <td>0.015625</td>\n",
       "      <td>0.953125</td>\n",
       "      <td>0.015625</td>\n",
       "      <td>0.015625</td>\n",
       "    </tr>\n",
       "  </tbody>\n",
       "</table>\n",
       "<p>4417 rows × 4 columns</p>\n",
       "</div>"
      ],
      "text/plain": [
       "        Topic1    Topic2    Topic3    Topic4\n",
       "0     0.010101  0.262626  0.717172  0.010101\n",
       "1     0.231884  0.086957  0.159420  0.521739\n",
       "2     0.018519  0.203704  0.574074  0.203704\n",
       "3     0.071429  0.071429  0.071429  0.785714\n",
       "4     0.203704  0.481481  0.296296  0.018519\n",
       "...        ...       ...       ...       ...\n",
       "4412  0.018519  0.944444  0.018519  0.018519\n",
       "4413  0.008403  0.974790  0.008403  0.008403\n",
       "4414  0.015625  0.953125  0.015625  0.015625\n",
       "4415  0.009615  0.875000  0.057692  0.057692\n",
       "4416  0.015625  0.953125  0.015625  0.015625\n",
       "\n",
       "[4417 rows x 4 columns]"
      ]
     },
     "execution_count": 37,
     "metadata": {},
     "output_type": "execute_result"
    }
   ],
   "source": [
    "# Make sure to put headers for theta.txt such Topic1, Topic2, Topic3, Topic4, after running the BiLDA model\n",
    "theta = pd.read_csv('theta.txt', sep=' ', index_col=False)\n",
    "theta"
   ]
  },
  {
   "cell_type": "code",
   "execution_count": 38,
   "id": "1d5dc6c6",
   "metadata": {},
   "outputs": [],
   "source": [
    "bkm = BisectingKMeans(n_clusters=4, random_state=0)"
   ]
  },
  {
   "cell_type": "code",
   "execution_count": 39,
   "id": "a95e3b69",
   "metadata": {},
   "outputs": [],
   "source": [
    "bkm_predict = bkm.fit_predict(theta)"
   ]
  },
  {
   "cell_type": "code",
   "execution_count": 40,
   "id": "0b738ba8",
   "metadata": {},
   "outputs": [
    {
     "data": {
      "text/plain": [
       "array([[0.03177454, 0.72971116, 0.09084543, 0.14766887],\n",
       "       [0.05564758, 0.5562601 , 0.34580961, 0.04228271],\n",
       "       [0.2385429 , 0.68138217, 0.04319503, 0.0368799 ],\n",
       "       [0.02268257, 0.93482101, 0.02109123, 0.02140518]])"
      ]
     },
     "execution_count": 40,
     "metadata": {},
     "output_type": "execute_result"
    }
   ],
   "source": [
    "bkm.cluster_centers_"
   ]
  },
  {
   "cell_type": "code",
   "execution_count": 41,
   "id": "de6de64d",
   "metadata": {},
   "outputs": [
    {
     "data": {
      "text/html": [
       "<div>\n",
       "<style scoped>\n",
       "    .dataframe tbody tr th:only-of-type {\n",
       "        vertical-align: middle;\n",
       "    }\n",
       "\n",
       "    .dataframe tbody tr th {\n",
       "        vertical-align: top;\n",
       "    }\n",
       "\n",
       "    .dataframe thead th {\n",
       "        text-align: right;\n",
       "    }\n",
       "</style>\n",
       "<table border=\"1\" class=\"dataframe\">\n",
       "  <thead>\n",
       "    <tr style=\"text-align: right;\">\n",
       "      <th></th>\n",
       "      <th>Topic1</th>\n",
       "      <th>Topic2</th>\n",
       "      <th>Topic3</th>\n",
       "      <th>Topic4</th>\n",
       "      <th>Cluster</th>\n",
       "    </tr>\n",
       "  </thead>\n",
       "  <tbody>\n",
       "    <tr>\n",
       "      <th>0</th>\n",
       "      <td>0.010101</td>\n",
       "      <td>0.262626</td>\n",
       "      <td>0.717172</td>\n",
       "      <td>0.010101</td>\n",
       "      <td>1</td>\n",
       "    </tr>\n",
       "    <tr>\n",
       "      <th>1</th>\n",
       "      <td>0.231884</td>\n",
       "      <td>0.086957</td>\n",
       "      <td>0.159420</td>\n",
       "      <td>0.521739</td>\n",
       "      <td>1</td>\n",
       "    </tr>\n",
       "    <tr>\n",
       "      <th>2</th>\n",
       "      <td>0.018519</td>\n",
       "      <td>0.203704</td>\n",
       "      <td>0.574074</td>\n",
       "      <td>0.203704</td>\n",
       "      <td>1</td>\n",
       "    </tr>\n",
       "    <tr>\n",
       "      <th>3</th>\n",
       "      <td>0.071429</td>\n",
       "      <td>0.071429</td>\n",
       "      <td>0.071429</td>\n",
       "      <td>0.785714</td>\n",
       "      <td>0</td>\n",
       "    </tr>\n",
       "    <tr>\n",
       "      <th>4</th>\n",
       "      <td>0.203704</td>\n",
       "      <td>0.481481</td>\n",
       "      <td>0.296296</td>\n",
       "      <td>0.018519</td>\n",
       "      <td>1</td>\n",
       "    </tr>\n",
       "    <tr>\n",
       "      <th>...</th>\n",
       "      <td>...</td>\n",
       "      <td>...</td>\n",
       "      <td>...</td>\n",
       "      <td>...</td>\n",
       "      <td>...</td>\n",
       "    </tr>\n",
       "    <tr>\n",
       "      <th>4412</th>\n",
       "      <td>0.018519</td>\n",
       "      <td>0.944444</td>\n",
       "      <td>0.018519</td>\n",
       "      <td>0.018519</td>\n",
       "      <td>3</td>\n",
       "    </tr>\n",
       "    <tr>\n",
       "      <th>4413</th>\n",
       "      <td>0.008403</td>\n",
       "      <td>0.974790</td>\n",
       "      <td>0.008403</td>\n",
       "      <td>0.008403</td>\n",
       "      <td>3</td>\n",
       "    </tr>\n",
       "    <tr>\n",
       "      <th>4414</th>\n",
       "      <td>0.015625</td>\n",
       "      <td>0.953125</td>\n",
       "      <td>0.015625</td>\n",
       "      <td>0.015625</td>\n",
       "      <td>3</td>\n",
       "    </tr>\n",
       "    <tr>\n",
       "      <th>4415</th>\n",
       "      <td>0.009615</td>\n",
       "      <td>0.875000</td>\n",
       "      <td>0.057692</td>\n",
       "      <td>0.057692</td>\n",
       "      <td>3</td>\n",
       "    </tr>\n",
       "    <tr>\n",
       "      <th>4416</th>\n",
       "      <td>0.015625</td>\n",
       "      <td>0.953125</td>\n",
       "      <td>0.015625</td>\n",
       "      <td>0.015625</td>\n",
       "      <td>3</td>\n",
       "    </tr>\n",
       "  </tbody>\n",
       "</table>\n",
       "<p>4417 rows × 5 columns</p>\n",
       "</div>"
      ],
      "text/plain": [
       "        Topic1    Topic2    Topic3    Topic4  Cluster\n",
       "0     0.010101  0.262626  0.717172  0.010101        1\n",
       "1     0.231884  0.086957  0.159420  0.521739        1\n",
       "2     0.018519  0.203704  0.574074  0.203704        1\n",
       "3     0.071429  0.071429  0.071429  0.785714        0\n",
       "4     0.203704  0.481481  0.296296  0.018519        1\n",
       "...        ...       ...       ...       ...      ...\n",
       "4412  0.018519  0.944444  0.018519  0.018519        3\n",
       "4413  0.008403  0.974790  0.008403  0.008403        3\n",
       "4414  0.015625  0.953125  0.015625  0.015625        3\n",
       "4415  0.009615  0.875000  0.057692  0.057692        3\n",
       "4416  0.015625  0.953125  0.015625  0.015625        3\n",
       "\n",
       "[4417 rows x 5 columns]"
      ]
     },
     "execution_count": 41,
     "metadata": {},
     "output_type": "execute_result"
    }
   ],
   "source": [
    "theta['Cluster'] = bkm_predict\n",
    "theta"
   ]
  },
  {
   "cell_type": "code",
   "execution_count": 42,
   "id": "dfef2054",
   "metadata": {},
   "outputs": [
    {
     "data": {
      "text/html": [
       "<div>\n",
       "<style scoped>\n",
       "    .dataframe tbody tr th:only-of-type {\n",
       "        vertical-align: middle;\n",
       "    }\n",
       "\n",
       "    .dataframe tbody tr th {\n",
       "        vertical-align: top;\n",
       "    }\n",
       "\n",
       "    .dataframe thead th {\n",
       "        text-align: right;\n",
       "    }\n",
       "</style>\n",
       "<table border=\"1\" class=\"dataframe\">\n",
       "  <thead>\n",
       "    <tr style=\"text-align: right;\">\n",
       "      <th></th>\n",
       "      <th>Sentiment</th>\n",
       "      <th>Tweet</th>\n",
       "      <th>Tokenize</th>\n",
       "      <th>Lemmatize</th>\n",
       "      <th>Lang</th>\n",
       "    </tr>\n",
       "  </thead>\n",
       "  <tbody>\n",
       "    <tr>\n",
       "      <th>0</th>\n",
       "      <td>0</td>\n",
       "      <td>tf going</td>\n",
       "      <td>['tf', 'going']</td>\n",
       "      <td>['tf', 'going']</td>\n",
       "      <td>English</td>\n",
       "    </tr>\n",
       "    <tr>\n",
       "      <th>1</th>\n",
       "      <td>0</td>\n",
       "      <td>fix goddamn bullshit shitty crappy fucking bul...</td>\n",
       "      <td>['fix', 'goddamn', 'bullshit', 'shitty', 'crap...</td>\n",
       "      <td>['fix', 'goddamn', 'bullshit', 'shitty', 'crap...</td>\n",
       "      <td>English</td>\n",
       "    </tr>\n",
       "    <tr>\n",
       "      <th>2</th>\n",
       "      <td>0</td>\n",
       "      <td>hrs reachingout troubleshooting possible ways ...</td>\n",
       "      <td>['hrs', 'reachingout', 'troubleshooting', 'pos...</td>\n",
       "      <td>['hr', 'reachingout', 'troubleshooting', 'poss...</td>\n",
       "      <td>English</td>\n",
       "    </tr>\n",
       "    <tr>\n",
       "      <th>3</th>\n",
       "      <td>0</td>\n",
       "      <td>definitely ask family friends report</td>\n",
       "      <td>['definitely', 'ask', 'family', 'friends', 're...</td>\n",
       "      <td>['definitely', 'ask', 'family', 'friend', 'rep...</td>\n",
       "      <td>English</td>\n",
       "    </tr>\n",
       "    <tr>\n",
       "      <th>4</th>\n",
       "      <td>1</td>\n",
       "      <td>work haha</td>\n",
       "      <td>['work', 'haha']</td>\n",
       "      <td>['work', 'haha']</td>\n",
       "      <td>English</td>\n",
       "    </tr>\n",
       "    <tr>\n",
       "      <th>...</th>\n",
       "      <td>...</td>\n",
       "      <td>...</td>\n",
       "      <td>...</td>\n",
       "      <td>...</td>\n",
       "      <td>...</td>\n",
       "    </tr>\n",
       "    <tr>\n",
       "      <th>8829</th>\n",
       "      <td>1</td>\n",
       "      <td>need help already dm</td>\n",
       "      <td>['need', 'help', 'already', 'dm']</td>\n",
       "      <td>['need', 'help', 'already', 'dm']</td>\n",
       "      <td>English</td>\n",
       "    </tr>\n",
       "    <tr>\n",
       "      <th>8830</th>\n",
       "      <td>0</td>\n",
       "      <td>even private message ayaw niyo magresponse kla...</td>\n",
       "      <td>['even', 'private', 'message', 'ayaw', 'niyo',...</td>\n",
       "      <td>['even', 'private', 'message', 'ayaw', 'niyo',...</td>\n",
       "      <td>English</td>\n",
       "    </tr>\n",
       "    <tr>\n",
       "      <th>8831</th>\n",
       "      <td>0</td>\n",
       "      <td>serbisyong tae</td>\n",
       "      <td>['serbisyong', 'tae']</td>\n",
       "      <td>['serbisyong', 'tae']</td>\n",
       "      <td>Filipino</td>\n",
       "    </tr>\n",
       "    <tr>\n",
       "      <th>8832</th>\n",
       "      <td>1</td>\n",
       "      <td>kindly check dm thank</td>\n",
       "      <td>['kindly', 'check', 'dm', 'thank']</td>\n",
       "      <td>['kindly', 'check', 'dm', 'thank']</td>\n",
       "      <td>English</td>\n",
       "    </tr>\n",
       "    <tr>\n",
       "      <th>8833</th>\n",
       "      <td>0</td>\n",
       "      <td>utang loob pakibigyan naman maayos ayos agent ...</td>\n",
       "      <td>['utang', 'loob', 'pakibigyan', 'naman', 'maay...</td>\n",
       "      <td>['utang', 'loob', 'pakibigyan', 'naman', 'maay...</td>\n",
       "      <td>Filipino</td>\n",
       "    </tr>\n",
       "  </tbody>\n",
       "</table>\n",
       "<p>8834 rows × 5 columns</p>\n",
       "</div>"
      ],
      "text/plain": [
       "      Sentiment                                              Tweet  \\\n",
       "0             0                                           tf going   \n",
       "1             0  fix goddamn bullshit shitty crappy fucking bul...   \n",
       "2             0  hrs reachingout troubleshooting possible ways ...   \n",
       "3             0               definitely ask family friends report   \n",
       "4             1                                          work haha   \n",
       "...         ...                                                ...   \n",
       "8829          1                               need help already dm   \n",
       "8830          0  even private message ayaw niyo magresponse kla...   \n",
       "8831          0                                     serbisyong tae   \n",
       "8832          1                              kindly check dm thank   \n",
       "8833          0  utang loob pakibigyan naman maayos ayos agent ...   \n",
       "\n",
       "                                               Tokenize  \\\n",
       "0                                       ['tf', 'going']   \n",
       "1     ['fix', 'goddamn', 'bullshit', 'shitty', 'crap...   \n",
       "2     ['hrs', 'reachingout', 'troubleshooting', 'pos...   \n",
       "3     ['definitely', 'ask', 'family', 'friends', 're...   \n",
       "4                                      ['work', 'haha']   \n",
       "...                                                 ...   \n",
       "8829                  ['need', 'help', 'already', 'dm']   \n",
       "8830  ['even', 'private', 'message', 'ayaw', 'niyo',...   \n",
       "8831                              ['serbisyong', 'tae']   \n",
       "8832                 ['kindly', 'check', 'dm', 'thank']   \n",
       "8833  ['utang', 'loob', 'pakibigyan', 'naman', 'maay...   \n",
       "\n",
       "                                              Lemmatize      Lang  \n",
       "0                                       ['tf', 'going']   English  \n",
       "1     ['fix', 'goddamn', 'bullshit', 'shitty', 'crap...   English  \n",
       "2     ['hr', 'reachingout', 'troubleshooting', 'poss...   English  \n",
       "3     ['definitely', 'ask', 'family', 'friend', 'rep...   English  \n",
       "4                                      ['work', 'haha']   English  \n",
       "...                                                 ...       ...  \n",
       "8829                  ['need', 'help', 'already', 'dm']   English  \n",
       "8830  ['even', 'private', 'message', 'ayaw', 'niyo',...   English  \n",
       "8831                              ['serbisyong', 'tae']  Filipino  \n",
       "8832                 ['kindly', 'check', 'dm', 'thank']   English  \n",
       "8833  ['utang', 'loob', 'pakibigyan', 'naman', 'maay...  Filipino  \n",
       "\n",
       "[8834 rows x 5 columns]"
      ]
     },
     "execution_count": 42,
     "metadata": {},
     "output_type": "execute_result"
    }
   ],
   "source": [
    "bkm_lda_dataset = dataset\n",
    "bkm_lda_dataset"
   ]
  },
  {
   "cell_type": "code",
   "execution_count": 43,
   "id": "4c464c13",
   "metadata": {},
   "outputs": [
    {
     "data": {
      "text/html": [
       "<div>\n",
       "<style scoped>\n",
       "    .dataframe tbody tr th:only-of-type {\n",
       "        vertical-align: middle;\n",
       "    }\n",
       "\n",
       "    .dataframe tbody tr th {\n",
       "        vertical-align: top;\n",
       "    }\n",
       "\n",
       "    .dataframe thead th {\n",
       "        text-align: right;\n",
       "    }\n",
       "</style>\n",
       "<table border=\"1\" class=\"dataframe\">\n",
       "  <thead>\n",
       "    <tr style=\"text-align: right;\">\n",
       "      <th></th>\n",
       "      <th>Sentiment</th>\n",
       "      <th>Tweet</th>\n",
       "      <th>Tokenize</th>\n",
       "      <th>Lemmatize</th>\n",
       "      <th>Lang</th>\n",
       "      <th>Cluster</th>\n",
       "    </tr>\n",
       "  </thead>\n",
       "  <tbody>\n",
       "    <tr>\n",
       "      <th>0</th>\n",
       "      <td>2</td>\n",
       "      <td>internet back infairness thanks quick action</td>\n",
       "      <td>['internet', 'back', 'infairness', 'thanks', '...</td>\n",
       "      <td>['internet', 'back', 'infairness', 'thanks', '...</td>\n",
       "      <td>English</td>\n",
       "      <td>1</td>\n",
       "    </tr>\n",
       "    <tr>\n",
       "      <th>1</th>\n",
       "      <td>1</td>\n",
       "      <td>check dm box</td>\n",
       "      <td>['check', 'dm', 'box']</td>\n",
       "      <td>['check', 'dm', 'box']</td>\n",
       "      <td>English</td>\n",
       "      <td>1</td>\n",
       "    </tr>\n",
       "    <tr>\n",
       "      <th>2</th>\n",
       "      <td>1</td>\n",
       "      <td>customer service hotline</td>\n",
       "      <td>['customer', 'service', 'hotline']</td>\n",
       "      <td>['customer', 'service', 'hotline']</td>\n",
       "      <td>English</td>\n",
       "      <td>1</td>\n",
       "    </tr>\n",
       "    <tr>\n",
       "      <th>3</th>\n",
       "      <td>1</td>\n",
       "      <td>sent</td>\n",
       "      <td>['sent']</td>\n",
       "      <td>['sent']</td>\n",
       "      <td>English</td>\n",
       "      <td>0</td>\n",
       "    </tr>\n",
       "    <tr>\n",
       "      <th>4</th>\n",
       "      <td>1</td>\n",
       "      <td>sent dm account reactivation reply</td>\n",
       "      <td>['sent', 'dm', 'account', 'reactivation', 'rep...</td>\n",
       "      <td>['sent', 'dm', 'account', 'reactivation', 'rep...</td>\n",
       "      <td>English</td>\n",
       "      <td>1</td>\n",
       "    </tr>\n",
       "    <tr>\n",
       "      <th>...</th>\n",
       "      <td>...</td>\n",
       "      <td>...</td>\n",
       "      <td>...</td>\n",
       "      <td>...</td>\n",
       "      <td>...</td>\n",
       "      <td>...</td>\n",
       "    </tr>\n",
       "    <tr>\n",
       "      <th>4412</th>\n",
       "      <td>0</td>\n",
       "      <td>already dm d guys still no response end</td>\n",
       "      <td>['already', 'dm', 'd', 'guys', 'still', 'no', ...</td>\n",
       "      <td>['already', 'dm', 'd', 'guy', 'still', 'no', '...</td>\n",
       "      <td>English</td>\n",
       "      <td>3</td>\n",
       "    </tr>\n",
       "    <tr>\n",
       "      <th>4413</th>\n",
       "      <td>0</td>\n",
       "      <td>internet back cuz isn t back yet huhu</td>\n",
       "      <td>['internet', 'back', 'cuz', 'isn', 't', 'back'...</td>\n",
       "      <td>['internet', 'back', 'cuz', 'isn', 't', 'back'...</td>\n",
       "      <td>English</td>\n",
       "      <td>3</td>\n",
       "    </tr>\n",
       "    <tr>\n",
       "      <th>4414</th>\n",
       "      <td>1</td>\n",
       "      <td>need help already dm</td>\n",
       "      <td>['need', 'help', 'already', 'dm']</td>\n",
       "      <td>['need', 'help', 'already', 'dm']</td>\n",
       "      <td>English</td>\n",
       "      <td>3</td>\n",
       "    </tr>\n",
       "    <tr>\n",
       "      <th>4415</th>\n",
       "      <td>0</td>\n",
       "      <td>even private message ayaw niyo magresponse kla...</td>\n",
       "      <td>['even', 'private', 'message', 'ayaw', 'niyo',...</td>\n",
       "      <td>['even', 'private', 'message', 'ayaw', 'niyo',...</td>\n",
       "      <td>English</td>\n",
       "      <td>3</td>\n",
       "    </tr>\n",
       "    <tr>\n",
       "      <th>4416</th>\n",
       "      <td>1</td>\n",
       "      <td>kindly check dm thank</td>\n",
       "      <td>['kindly', 'check', 'dm', 'thank']</td>\n",
       "      <td>['kindly', 'check', 'dm', 'thank']</td>\n",
       "      <td>English</td>\n",
       "      <td>3</td>\n",
       "    </tr>\n",
       "  </tbody>\n",
       "</table>\n",
       "<p>4417 rows × 6 columns</p>\n",
       "</div>"
      ],
      "text/plain": [
       "      Sentiment                                              Tweet  \\\n",
       "0             2       internet back infairness thanks quick action   \n",
       "1             1                                       check dm box   \n",
       "2             1                           customer service hotline   \n",
       "3             1                                               sent   \n",
       "4             1                 sent dm account reactivation reply   \n",
       "...         ...                                                ...   \n",
       "4412          0            already dm d guys still no response end   \n",
       "4413          0              internet back cuz isn t back yet huhu   \n",
       "4414          1                               need help already dm   \n",
       "4415          0  even private message ayaw niyo magresponse kla...   \n",
       "4416          1                              kindly check dm thank   \n",
       "\n",
       "                                               Tokenize  \\\n",
       "0     ['internet', 'back', 'infairness', 'thanks', '...   \n",
       "1                                ['check', 'dm', 'box']   \n",
       "2                    ['customer', 'service', 'hotline']   \n",
       "3                                              ['sent']   \n",
       "4     ['sent', 'dm', 'account', 'reactivation', 'rep...   \n",
       "...                                                 ...   \n",
       "4412  ['already', 'dm', 'd', 'guys', 'still', 'no', ...   \n",
       "4413  ['internet', 'back', 'cuz', 'isn', 't', 'back'...   \n",
       "4414                  ['need', 'help', 'already', 'dm']   \n",
       "4415  ['even', 'private', 'message', 'ayaw', 'niyo',...   \n",
       "4416                 ['kindly', 'check', 'dm', 'thank']   \n",
       "\n",
       "                                              Lemmatize     Lang  Cluster  \n",
       "0     ['internet', 'back', 'infairness', 'thanks', '...  English        1  \n",
       "1                                ['check', 'dm', 'box']  English        1  \n",
       "2                    ['customer', 'service', 'hotline']  English        1  \n",
       "3                                              ['sent']  English        0  \n",
       "4     ['sent', 'dm', 'account', 'reactivation', 'rep...  English        1  \n",
       "...                                                 ...      ...      ...  \n",
       "4412  ['already', 'dm', 'd', 'guy', 'still', 'no', '...  English        3  \n",
       "4413  ['internet', 'back', 'cuz', 'isn', 't', 'back'...  English        3  \n",
       "4414                  ['need', 'help', 'already', 'dm']  English        3  \n",
       "4415  ['even', 'private', 'message', 'ayaw', 'niyo',...  English        3  \n",
       "4416                 ['kindly', 'check', 'dm', 'thank']  English        3  \n",
       "\n",
       "[4417 rows x 6 columns]"
      ]
     },
     "execution_count": 43,
     "metadata": {},
     "output_type": "execute_result"
    }
   ],
   "source": [
    "bkm_lda_eng = dataset.query(\"Lang == 'English'\");\n",
    "bkm_lda_eng = bkm_lda_eng.iloc[389:]\n",
    "bkm_lda_eng = bkm_lda_eng.reset_index(drop=True)\n",
    "bkm_lda_eng['Cluster'] = theta['Cluster']\n",
    "bkm_lda_eng"
   ]
  },
  {
   "cell_type": "code",
   "execution_count": 44,
   "id": "c0fde797",
   "metadata": {},
   "outputs": [
    {
     "data": {
      "text/html": [
       "<div>\n",
       "<style scoped>\n",
       "    .dataframe tbody tr th:only-of-type {\n",
       "        vertical-align: middle;\n",
       "    }\n",
       "\n",
       "    .dataframe tbody tr th {\n",
       "        vertical-align: top;\n",
       "    }\n",
       "\n",
       "    .dataframe thead th {\n",
       "        text-align: right;\n",
       "    }\n",
       "</style>\n",
       "<table border=\"1\" class=\"dataframe\">\n",
       "  <thead>\n",
       "    <tr style=\"text-align: right;\">\n",
       "      <th></th>\n",
       "      <th>Sentiment</th>\n",
       "      <th>Tweet</th>\n",
       "      <th>Tokenize</th>\n",
       "      <th>Lemmatize</th>\n",
       "      <th>Lang</th>\n",
       "      <th>Cluster</th>\n",
       "    </tr>\n",
       "  </thead>\n",
       "  <tbody>\n",
       "    <tr>\n",
       "      <th>0</th>\n",
       "      <td>0</td>\n",
       "      <td>meron akong concern wifi wala wifi days napo b...</td>\n",
       "      <td>['meron', 'akong', 'concern', 'wifi', 'wala', ...</td>\n",
       "      <td>['meron', 'akong', 'concern', 'wifi', 'wala', ...</td>\n",
       "      <td>Filipino</td>\n",
       "      <td>1</td>\n",
       "    </tr>\n",
       "    <tr>\n",
       "      <th>1</th>\n",
       "      <td>0</td>\n",
       "      <td>naman sisipagin mag post ig eh pucha di maayos...</td>\n",
       "      <td>['naman', 'sisipagin', 'mag', 'post', 'ig', 'e...</td>\n",
       "      <td>['naman', 'sisipagin', 'mag', 'post', 'ig', 'e...</td>\n",
       "      <td>Filipino</td>\n",
       "      <td>1</td>\n",
       "    </tr>\n",
       "    <tr>\n",
       "      <th>2</th>\n",
       "      <td>0</td>\n",
       "      <td>asap</td>\n",
       "      <td>['asap']</td>\n",
       "      <td>['asap']</td>\n",
       "      <td>Filipino</td>\n",
       "      <td>1</td>\n",
       "    </tr>\n",
       "    <tr>\n",
       "      <th>3</th>\n",
       "      <td>0</td>\n",
       "      <td>hoy di gumagana ig sainyo</td>\n",
       "      <td>['hoy', 'di', 'gumagana', 'ig', 'sainyo']</td>\n",
       "      <td>['hoy', 'di', 'gumagana', 'ig', 'sainyo']</td>\n",
       "      <td>Filipino</td>\n",
       "      <td>0</td>\n",
       "    </tr>\n",
       "    <tr>\n",
       "      <th>4</th>\n",
       "      <td>0</td>\n",
       "      <td>samaan ba nng loob n</td>\n",
       "      <td>['samaan', 'ba', 'nng', 'loob', 'n']</td>\n",
       "      <td>['samaan', 'ba', 'nng', 'loob', 'n']</td>\n",
       "      <td>Filipino</td>\n",
       "      <td>1</td>\n",
       "    </tr>\n",
       "    <tr>\n",
       "      <th>...</th>\n",
       "      <td>...</td>\n",
       "      <td>...</td>\n",
       "      <td>...</td>\n",
       "      <td>...</td>\n",
       "      <td>...</td>\n",
       "      <td>...</td>\n",
       "    </tr>\n",
       "    <tr>\n",
       "      <th>4412</th>\n",
       "      <td>1</td>\n",
       "      <td>update connection</td>\n",
       "      <td>['update', 'connection']</td>\n",
       "      <td>['update', 'connection']</td>\n",
       "      <td>English</td>\n",
       "      <td>3</td>\n",
       "    </tr>\n",
       "    <tr>\n",
       "      <th>4413</th>\n",
       "      <td>0</td>\n",
       "      <td>converge system upgrade lagi pag nag follow na...</td>\n",
       "      <td>['converge', 'system', 'upgrade', 'lagi', 'pag...</td>\n",
       "      <td>['converge', 'system', 'upgrade', 'lagi', 'pag...</td>\n",
       "      <td>English</td>\n",
       "      <td>3</td>\n",
       "    </tr>\n",
       "    <tr>\n",
       "      <th>4414</th>\n",
       "      <td>0</td>\n",
       "      <td>ehold mins gi disconnect diay call yawa jud</td>\n",
       "      <td>['ehold', 'mins', 'gi', 'disconnect', 'diay', ...</td>\n",
       "      <td>['ehold', 'min', 'gi', 'disconnect', 'diay', '...</td>\n",
       "      <td>English</td>\n",
       "      <td>3</td>\n",
       "    </tr>\n",
       "    <tr>\n",
       "      <th>4415</th>\n",
       "      <td>0</td>\n",
       "      <td>really read messages specific cocnerns templat...</td>\n",
       "      <td>['really', 'read', 'messages', 'specific', 'co...</td>\n",
       "      <td>['really', 'read', 'message', 'specific', 'coc...</td>\n",
       "      <td>English</td>\n",
       "      <td>3</td>\n",
       "    </tr>\n",
       "    <tr>\n",
       "      <th>4416</th>\n",
       "      <td>0</td>\n",
       "      <td>days work lost already los p dm sent</td>\n",
       "      <td>['days', 'work', 'lost', 'already', 'los', 'p'...</td>\n",
       "      <td>['day', 'work', 'lost', 'already', 'los', 'p',...</td>\n",
       "      <td>English</td>\n",
       "      <td>3</td>\n",
       "    </tr>\n",
       "  </tbody>\n",
       "</table>\n",
       "<p>4417 rows × 6 columns</p>\n",
       "</div>"
      ],
      "text/plain": [
       "      Sentiment                                              Tweet  \\\n",
       "0             0  meron akong concern wifi wala wifi days napo b...   \n",
       "1             0  naman sisipagin mag post ig eh pucha di maayos...   \n",
       "2             0                                               asap   \n",
       "3             0                          hoy di gumagana ig sainyo   \n",
       "4             0                               samaan ba nng loob n   \n",
       "...         ...                                                ...   \n",
       "4412          1                                  update connection   \n",
       "4413          0  converge system upgrade lagi pag nag follow na...   \n",
       "4414          0        ehold mins gi disconnect diay call yawa jud   \n",
       "4415          0  really read messages specific cocnerns templat...   \n",
       "4416          0               days work lost already los p dm sent   \n",
       "\n",
       "                                               Tokenize  \\\n",
       "0     ['meron', 'akong', 'concern', 'wifi', 'wala', ...   \n",
       "1     ['naman', 'sisipagin', 'mag', 'post', 'ig', 'e...   \n",
       "2                                              ['asap']   \n",
       "3             ['hoy', 'di', 'gumagana', 'ig', 'sainyo']   \n",
       "4                  ['samaan', 'ba', 'nng', 'loob', 'n']   \n",
       "...                                                 ...   \n",
       "4412                           ['update', 'connection']   \n",
       "4413  ['converge', 'system', 'upgrade', 'lagi', 'pag...   \n",
       "4414  ['ehold', 'mins', 'gi', 'disconnect', 'diay', ...   \n",
       "4415  ['really', 'read', 'messages', 'specific', 'co...   \n",
       "4416  ['days', 'work', 'lost', 'already', 'los', 'p'...   \n",
       "\n",
       "                                              Lemmatize      Lang  Cluster  \n",
       "0     ['meron', 'akong', 'concern', 'wifi', 'wala', ...  Filipino        1  \n",
       "1     ['naman', 'sisipagin', 'mag', 'post', 'ig', 'e...  Filipino        1  \n",
       "2                                              ['asap']  Filipino        1  \n",
       "3             ['hoy', 'di', 'gumagana', 'ig', 'sainyo']  Filipino        0  \n",
       "4                  ['samaan', 'ba', 'nng', 'loob', 'n']  Filipino        1  \n",
       "...                                                 ...       ...      ...  \n",
       "4412                           ['update', 'connection']   English        3  \n",
       "4413  ['converge', 'system', 'upgrade', 'lagi', 'pag...   English        3  \n",
       "4414  ['ehold', 'min', 'gi', 'disconnect', 'diay', '...   English        3  \n",
       "4415  ['really', 'read', 'message', 'specific', 'coc...   English        3  \n",
       "4416  ['day', 'work', 'lost', 'already', 'los', 'p',...   English        3  \n",
       "\n",
       "[4417 rows x 6 columns]"
      ]
     },
     "execution_count": 44,
     "metadata": {},
     "output_type": "execute_result"
    }
   ],
   "source": [
    "bkm_lda_fil = dataset.query(\"Lang == 'Filipino'\")\n",
    "bkm_lda_fil = bkm_lda_fil.reset_index(drop=True)\n",
    "\n",
    "bkm_lda_tag = dataset.query(\"Lang == 'Taglish'\")\n",
    "bkm_lda_tag = bkm_lda_tag.reset_index(drop=True)\n",
    "\n",
    "bkm_lda_eng_189 = dataset.query(\"Lang == 'English'\")\n",
    "bkm_lda_eng_189 = bkm_lda_eng_189.iloc[0:389]\n",
    "bkm_lda_eng_189 = bkm_lda_eng_189.reset_index(drop=True)\n",
    "\n",
    "bkm_lda_fil = bkm_lda_fil.append(bkm_lda_tag)\n",
    "bkm_lda_fil = bkm_lda_fil.append(bkm_lda_eng_189)\n",
    "bkm_lda_fil = bkm_lda_fil.reset_index(drop=True)\n",
    "\n",
    "bkm_lda_fil['Cluster'] = theta['Cluster']\n",
    "\n",
    "bkm_lda_fil"
   ]
  },
  {
   "cell_type": "code",
   "execution_count": 45,
   "id": "c71a8507",
   "metadata": {
    "scrolled": false
   },
   "outputs": [
    {
     "data": {
      "text/html": [
       "<div>\n",
       "<style scoped>\n",
       "    .dataframe tbody tr th:only-of-type {\n",
       "        vertical-align: middle;\n",
       "    }\n",
       "\n",
       "    .dataframe tbody tr th {\n",
       "        vertical-align: top;\n",
       "    }\n",
       "\n",
       "    .dataframe thead th {\n",
       "        text-align: right;\n",
       "    }\n",
       "</style>\n",
       "<table border=\"1\" class=\"dataframe\">\n",
       "  <thead>\n",
       "    <tr style=\"text-align: right;\">\n",
       "      <th></th>\n",
       "      <th>Sentiment</th>\n",
       "      <th>Tweet</th>\n",
       "      <th>Tokenize</th>\n",
       "      <th>Lemmatize</th>\n",
       "      <th>Lang</th>\n",
       "      <th>Cluster</th>\n",
       "    </tr>\n",
       "  </thead>\n",
       "  <tbody>\n",
       "    <tr>\n",
       "      <th>0</th>\n",
       "      <td>2</td>\n",
       "      <td>internet back infairness thanks quick action</td>\n",
       "      <td>['internet', 'back', 'infairness', 'thanks', '...</td>\n",
       "      <td>['internet', 'back', 'infairness', 'thanks', '...</td>\n",
       "      <td>English</td>\n",
       "      <td>1</td>\n",
       "    </tr>\n",
       "    <tr>\n",
       "      <th>1</th>\n",
       "      <td>1</td>\n",
       "      <td>check dm box</td>\n",
       "      <td>['check', 'dm', 'box']</td>\n",
       "      <td>['check', 'dm', 'box']</td>\n",
       "      <td>English</td>\n",
       "      <td>1</td>\n",
       "    </tr>\n",
       "    <tr>\n",
       "      <th>2</th>\n",
       "      <td>1</td>\n",
       "      <td>customer service hotline</td>\n",
       "      <td>['customer', 'service', 'hotline']</td>\n",
       "      <td>['customer', 'service', 'hotline']</td>\n",
       "      <td>English</td>\n",
       "      <td>1</td>\n",
       "    </tr>\n",
       "    <tr>\n",
       "      <th>3</th>\n",
       "      <td>1</td>\n",
       "      <td>sent</td>\n",
       "      <td>['sent']</td>\n",
       "      <td>['sent']</td>\n",
       "      <td>English</td>\n",
       "      <td>0</td>\n",
       "    </tr>\n",
       "    <tr>\n",
       "      <th>4</th>\n",
       "      <td>1</td>\n",
       "      <td>sent dm account reactivation reply</td>\n",
       "      <td>['sent', 'dm', 'account', 'reactivation', 'rep...</td>\n",
       "      <td>['sent', 'dm', 'account', 'reactivation', 'rep...</td>\n",
       "      <td>English</td>\n",
       "      <td>1</td>\n",
       "    </tr>\n",
       "    <tr>\n",
       "      <th>...</th>\n",
       "      <td>...</td>\n",
       "      <td>...</td>\n",
       "      <td>...</td>\n",
       "      <td>...</td>\n",
       "      <td>...</td>\n",
       "      <td>...</td>\n",
       "    </tr>\n",
       "    <tr>\n",
       "      <th>8829</th>\n",
       "      <td>1</td>\n",
       "      <td>update connection</td>\n",
       "      <td>['update', 'connection']</td>\n",
       "      <td>['update', 'connection']</td>\n",
       "      <td>English</td>\n",
       "      <td>3</td>\n",
       "    </tr>\n",
       "    <tr>\n",
       "      <th>8830</th>\n",
       "      <td>0</td>\n",
       "      <td>converge system upgrade lagi pag nag follow na...</td>\n",
       "      <td>['converge', 'system', 'upgrade', 'lagi', 'pag...</td>\n",
       "      <td>['converge', 'system', 'upgrade', 'lagi', 'pag...</td>\n",
       "      <td>English</td>\n",
       "      <td>3</td>\n",
       "    </tr>\n",
       "    <tr>\n",
       "      <th>8831</th>\n",
       "      <td>0</td>\n",
       "      <td>ehold mins gi disconnect diay call yawa jud</td>\n",
       "      <td>['ehold', 'mins', 'gi', 'disconnect', 'diay', ...</td>\n",
       "      <td>['ehold', 'min', 'gi', 'disconnect', 'diay', '...</td>\n",
       "      <td>English</td>\n",
       "      <td>3</td>\n",
       "    </tr>\n",
       "    <tr>\n",
       "      <th>8832</th>\n",
       "      <td>0</td>\n",
       "      <td>really read messages specific cocnerns templat...</td>\n",
       "      <td>['really', 'read', 'messages', 'specific', 'co...</td>\n",
       "      <td>['really', 'read', 'message', 'specific', 'coc...</td>\n",
       "      <td>English</td>\n",
       "      <td>3</td>\n",
       "    </tr>\n",
       "    <tr>\n",
       "      <th>8833</th>\n",
       "      <td>0</td>\n",
       "      <td>days work lost already los p dm sent</td>\n",
       "      <td>['days', 'work', 'lost', 'already', 'los', 'p'...</td>\n",
       "      <td>['day', 'work', 'lost', 'already', 'los', 'p',...</td>\n",
       "      <td>English</td>\n",
       "      <td>3</td>\n",
       "    </tr>\n",
       "  </tbody>\n",
       "</table>\n",
       "<p>8834 rows × 6 columns</p>\n",
       "</div>"
      ],
      "text/plain": [
       "      Sentiment                                              Tweet  \\\n",
       "0             2       internet back infairness thanks quick action   \n",
       "1             1                                       check dm box   \n",
       "2             1                           customer service hotline   \n",
       "3             1                                               sent   \n",
       "4             1                 sent dm account reactivation reply   \n",
       "...         ...                                                ...   \n",
       "8829          1                                  update connection   \n",
       "8830          0  converge system upgrade lagi pag nag follow na...   \n",
       "8831          0        ehold mins gi disconnect diay call yawa jud   \n",
       "8832          0  really read messages specific cocnerns templat...   \n",
       "8833          0               days work lost already los p dm sent   \n",
       "\n",
       "                                               Tokenize  \\\n",
       "0     ['internet', 'back', 'infairness', 'thanks', '...   \n",
       "1                                ['check', 'dm', 'box']   \n",
       "2                    ['customer', 'service', 'hotline']   \n",
       "3                                              ['sent']   \n",
       "4     ['sent', 'dm', 'account', 'reactivation', 'rep...   \n",
       "...                                                 ...   \n",
       "8829                           ['update', 'connection']   \n",
       "8830  ['converge', 'system', 'upgrade', 'lagi', 'pag...   \n",
       "8831  ['ehold', 'mins', 'gi', 'disconnect', 'diay', ...   \n",
       "8832  ['really', 'read', 'messages', 'specific', 'co...   \n",
       "8833  ['days', 'work', 'lost', 'already', 'los', 'p'...   \n",
       "\n",
       "                                              Lemmatize     Lang  Cluster  \n",
       "0     ['internet', 'back', 'infairness', 'thanks', '...  English        1  \n",
       "1                                ['check', 'dm', 'box']  English        1  \n",
       "2                    ['customer', 'service', 'hotline']  English        1  \n",
       "3                                              ['sent']  English        0  \n",
       "4     ['sent', 'dm', 'account', 'reactivation', 'rep...  English        1  \n",
       "...                                                 ...      ...      ...  \n",
       "8829                           ['update', 'connection']  English        3  \n",
       "8830  ['converge', 'system', 'upgrade', 'lagi', 'pag...  English        3  \n",
       "8831  ['ehold', 'min', 'gi', 'disconnect', 'diay', '...  English        3  \n",
       "8832  ['really', 'read', 'message', 'specific', 'coc...  English        3  \n",
       "8833  ['day', 'work', 'lost', 'already', 'los', 'p',...  English        3  \n",
       "\n",
       "[8834 rows x 6 columns]"
      ]
     },
     "execution_count": 45,
     "metadata": {},
     "output_type": "execute_result"
    }
   ],
   "source": [
    "bkm_lda_final = bkm_lda_eng.append(bkm_lda_fil)\n",
    "bkm_lda_final = bkm_lda_final.reset_index(drop=True)\n",
    "bkm_lda_final"
   ]
  },
  {
   "cell_type": "code",
   "execution_count": 46,
   "id": "f8102dc9",
   "metadata": {},
   "outputs": [
    {
     "data": {
      "text/plain": [
       "'https://drive.google.com/uc?export=download&id=1EWvarJ3Vy_MUESRUVNDrGXL5GW9je0cL'"
      ]
     },
     "execution_count": 46,
     "metadata": {},
     "output_type": "execute_result"
    }
   ],
   "source": [
    "#Load the dataset csv file coming from gdrive\n",
    "url = 'https://drive.google.com/file/d/1EWvarJ3Vy_MUESRUVNDrGXL5GW9je0cL/view?usp=sharing'\n",
    "path = 'https://drive.google.com/uc?export=download&id=' + url.split('/')[-2]\n",
    "path"
   ]
  },
  {
   "cell_type": "code",
   "execution_count": 47,
   "id": "848736a2",
   "metadata": {},
   "outputs": [
    {
     "data": {
      "text/html": [
       "<div>\n",
       "<style scoped>\n",
       "    .dataframe tbody tr th:only-of-type {\n",
       "        vertical-align: middle;\n",
       "    }\n",
       "\n",
       "    .dataframe tbody tr th {\n",
       "        vertical-align: top;\n",
       "    }\n",
       "\n",
       "    .dataframe thead th {\n",
       "        text-align: right;\n",
       "    }\n",
       "</style>\n",
       "<table border=\"1\" class=\"dataframe\">\n",
       "  <thead>\n",
       "    <tr style=\"text-align: right;\">\n",
       "      <th></th>\n",
       "      <th>Sentiment</th>\n",
       "      <th>Tweet</th>\n",
       "      <th>Tokenize</th>\n",
       "      <th>Lemmatize</th>\n",
       "      <th>Lang</th>\n",
       "      <th>Cluster</th>\n",
       "    </tr>\n",
       "  </thead>\n",
       "  <tbody>\n",
       "    <tr>\n",
       "      <th>0</th>\n",
       "      <td>2</td>\n",
       "      <td>internet back infairness thanks quick action</td>\n",
       "      <td>['internet', 'back', 'infairness', 'thanks', '...</td>\n",
       "      <td>['internet', 'back', 'infairness', 'thanks', '...</td>\n",
       "      <td>English</td>\n",
       "      <td>1</td>\n",
       "    </tr>\n",
       "    <tr>\n",
       "      <th>1</th>\n",
       "      <td>1</td>\n",
       "      <td>check dm box</td>\n",
       "      <td>['check', 'dm', 'box']</td>\n",
       "      <td>['check', 'dm', 'box']</td>\n",
       "      <td>English</td>\n",
       "      <td>1</td>\n",
       "    </tr>\n",
       "    <tr>\n",
       "      <th>2</th>\n",
       "      <td>1</td>\n",
       "      <td>customer service hotline</td>\n",
       "      <td>['customer', 'service', 'hotline']</td>\n",
       "      <td>['customer', 'service', 'hotline']</td>\n",
       "      <td>English</td>\n",
       "      <td>1</td>\n",
       "    </tr>\n",
       "    <tr>\n",
       "      <th>3</th>\n",
       "      <td>1</td>\n",
       "      <td>sent</td>\n",
       "      <td>['sent']</td>\n",
       "      <td>['sent']</td>\n",
       "      <td>English</td>\n",
       "      <td>1</td>\n",
       "    </tr>\n",
       "    <tr>\n",
       "      <th>4</th>\n",
       "      <td>1</td>\n",
       "      <td>sent dm account reactivation reply</td>\n",
       "      <td>['sent', 'dm', 'account', 'reactivation', 'rep...</td>\n",
       "      <td>['sent', 'dm', 'account', 'reactivation', 'rep...</td>\n",
       "      <td>English</td>\n",
       "      <td>1</td>\n",
       "    </tr>\n",
       "    <tr>\n",
       "      <th>...</th>\n",
       "      <td>...</td>\n",
       "      <td>...</td>\n",
       "      <td>...</td>\n",
       "      <td>...</td>\n",
       "      <td>...</td>\n",
       "      <td>...</td>\n",
       "    </tr>\n",
       "    <tr>\n",
       "      <th>8829</th>\n",
       "      <td>1</td>\n",
       "      <td>update connection</td>\n",
       "      <td>['update', 'connection']</td>\n",
       "      <td>['update', 'connection']</td>\n",
       "      <td>English</td>\n",
       "      <td>3</td>\n",
       "    </tr>\n",
       "    <tr>\n",
       "      <th>8830</th>\n",
       "      <td>0</td>\n",
       "      <td>converge system upgrade lagi pag nag follow na...</td>\n",
       "      <td>['converge', 'system', 'upgrade', 'lagi', 'pag...</td>\n",
       "      <td>['converge', 'system', 'upgrade', 'lagi', 'pag...</td>\n",
       "      <td>English</td>\n",
       "      <td>3</td>\n",
       "    </tr>\n",
       "    <tr>\n",
       "      <th>8831</th>\n",
       "      <td>0</td>\n",
       "      <td>ehold mins gi disconnect diay call yawa jud</td>\n",
       "      <td>['ehold', 'mins', 'gi', 'disconnect', 'diay', ...</td>\n",
       "      <td>['ehold', 'min', 'gi', 'disconnect', 'diay', '...</td>\n",
       "      <td>English</td>\n",
       "      <td>3</td>\n",
       "    </tr>\n",
       "    <tr>\n",
       "      <th>8832</th>\n",
       "      <td>0</td>\n",
       "      <td>really read messages specific cocnerns templat...</td>\n",
       "      <td>['really', 'read', 'messages', 'specific', 'co...</td>\n",
       "      <td>['really', 'read', 'message', 'specific', 'coc...</td>\n",
       "      <td>English</td>\n",
       "      <td>3</td>\n",
       "    </tr>\n",
       "    <tr>\n",
       "      <th>8833</th>\n",
       "      <td>0</td>\n",
       "      <td>days work lost already los p dm sent</td>\n",
       "      <td>['days', 'work', 'lost', 'already', 'los', 'p'...</td>\n",
       "      <td>['day', 'work', 'lost', 'already', 'los', 'p',...</td>\n",
       "      <td>English</td>\n",
       "      <td>3</td>\n",
       "    </tr>\n",
       "  </tbody>\n",
       "</table>\n",
       "<p>8834 rows × 6 columns</p>\n",
       "</div>"
      ],
      "text/plain": [
       "      Sentiment                                              Tweet  \\\n",
       "0             2       internet back infairness thanks quick action   \n",
       "1             1                                       check dm box   \n",
       "2             1                           customer service hotline   \n",
       "3             1                                               sent   \n",
       "4             1                 sent dm account reactivation reply   \n",
       "...         ...                                                ...   \n",
       "8829          1                                  update connection   \n",
       "8830          0  converge system upgrade lagi pag nag follow na...   \n",
       "8831          0        ehold mins gi disconnect diay call yawa jud   \n",
       "8832          0  really read messages specific cocnerns templat...   \n",
       "8833          0               days work lost already los p dm sent   \n",
       "\n",
       "                                               Tokenize  \\\n",
       "0     ['internet', 'back', 'infairness', 'thanks', '...   \n",
       "1                                ['check', 'dm', 'box']   \n",
       "2                    ['customer', 'service', 'hotline']   \n",
       "3                                              ['sent']   \n",
       "4     ['sent', 'dm', 'account', 'reactivation', 'rep...   \n",
       "...                                                 ...   \n",
       "8829                           ['update', 'connection']   \n",
       "8830  ['converge', 'system', 'upgrade', 'lagi', 'pag...   \n",
       "8831  ['ehold', 'mins', 'gi', 'disconnect', 'diay', ...   \n",
       "8832  ['really', 'read', 'messages', 'specific', 'co...   \n",
       "8833  ['days', 'work', 'lost', 'already', 'los', 'p'...   \n",
       "\n",
       "                                              Lemmatize     Lang  Cluster  \n",
       "0     ['internet', 'back', 'infairness', 'thanks', '...  English        1  \n",
       "1                                ['check', 'dm', 'box']  English        1  \n",
       "2                    ['customer', 'service', 'hotline']  English        1  \n",
       "3                                              ['sent']  English        1  \n",
       "4     ['sent', 'dm', 'account', 'reactivation', 'rep...  English        1  \n",
       "...                                                 ...      ...      ...  \n",
       "8829                           ['update', 'connection']  English        3  \n",
       "8830  ['converge', 'system', 'upgrade', 'lagi', 'pag...  English        3  \n",
       "8831  ['ehold', 'min', 'gi', 'disconnect', 'diay', '...  English        3  \n",
       "8832  ['really', 'read', 'message', 'specific', 'coc...  English        3  \n",
       "8833  ['day', 'work', 'lost', 'already', 'los', 'p',...  English        3  \n",
       "\n",
       "[8834 rows x 6 columns]"
      ]
     },
     "execution_count": 47,
     "metadata": {},
     "output_type": "execute_result"
    }
   ],
   "source": [
    "bkm_lda_final = pd.read_csv(path, index_col = 0)\n",
    "bkm_lda_final"
   ]
  },
  {
   "cell_type": "code",
   "execution_count": 48,
   "id": "9d716747",
   "metadata": {},
   "outputs": [
    {
     "data": {
      "text/html": [
       "<div>\n",
       "<style scoped>\n",
       "    .dataframe tbody tr th:only-of-type {\n",
       "        vertical-align: middle;\n",
       "    }\n",
       "\n",
       "    .dataframe tbody tr th {\n",
       "        vertical-align: top;\n",
       "    }\n",
       "\n",
       "    .dataframe thead th {\n",
       "        text-align: right;\n",
       "    }\n",
       "</style>\n",
       "<table border=\"1\" class=\"dataframe\">\n",
       "  <thead>\n",
       "    <tr style=\"text-align: right;\">\n",
       "      <th></th>\n",
       "      <th>Unnamed: 0</th>\n",
       "      <th>Tweet</th>\n",
       "      <th>Translated</th>\n",
       "      <th>Cluster</th>\n",
       "      <th>Sentiment</th>\n",
       "    </tr>\n",
       "  </thead>\n",
       "  <tbody>\n",
       "    <tr>\n",
       "      <th>0</th>\n",
       "      <td>0</td>\n",
       "      <td>tf going</td>\n",
       "      <td>tf going</td>\n",
       "      <td>1</td>\n",
       "      <td>2</td>\n",
       "    </tr>\n",
       "    <tr>\n",
       "      <th>1</th>\n",
       "      <td>1</td>\n",
       "      <td>fix goddamn bullshit shitty crappy fucking bul...</td>\n",
       "      <td>fix goddamn bullshit shitty crappy fucking bul...</td>\n",
       "      <td>1</td>\n",
       "      <td>1</td>\n",
       "    </tr>\n",
       "    <tr>\n",
       "      <th>2</th>\n",
       "      <td>2</td>\n",
       "      <td>hrs reachingout troubleshooting possible ways ...</td>\n",
       "      <td>hrs reachingout troubleshooting possible ways ...</td>\n",
       "      <td>1</td>\n",
       "      <td>1</td>\n",
       "    </tr>\n",
       "    <tr>\n",
       "      <th>3</th>\n",
       "      <td>3</td>\n",
       "      <td>definitely ask family friends report</td>\n",
       "      <td>definitely ask family friends report</td>\n",
       "      <td>1</td>\n",
       "      <td>1</td>\n",
       "    </tr>\n",
       "    <tr>\n",
       "      <th>4</th>\n",
       "      <td>4</td>\n",
       "      <td>work haha</td>\n",
       "      <td>work haha</td>\n",
       "      <td>1</td>\n",
       "      <td>1</td>\n",
       "    </tr>\n",
       "    <tr>\n",
       "      <th>...</th>\n",
       "      <td>...</td>\n",
       "      <td>...</td>\n",
       "      <td>...</td>\n",
       "      <td>...</td>\n",
       "      <td>...</td>\n",
       "    </tr>\n",
       "    <tr>\n",
       "      <th>8829</th>\n",
       "      <td>8829</td>\n",
       "      <td>need help already dm</td>\n",
       "      <td>need help already dm</td>\n",
       "      <td>2</td>\n",
       "      <td>1</td>\n",
       "    </tr>\n",
       "    <tr>\n",
       "      <th>8830</th>\n",
       "      <td>8830</td>\n",
       "      <td>even private message ayaw niyo magresponse kla...</td>\n",
       "      <td>even private message you don't want to respond...</td>\n",
       "      <td>3</td>\n",
       "      <td>0</td>\n",
       "    </tr>\n",
       "    <tr>\n",
       "      <th>8831</th>\n",
       "      <td>8831</td>\n",
       "      <td>serbisyong tae</td>\n",
       "      <td>service shit</td>\n",
       "      <td>1</td>\n",
       "      <td>0</td>\n",
       "    </tr>\n",
       "    <tr>\n",
       "      <th>8832</th>\n",
       "      <td>8832</td>\n",
       "      <td>kindly check dm thank</td>\n",
       "      <td>kindly check dm thank</td>\n",
       "      <td>2</td>\n",
       "      <td>0</td>\n",
       "    </tr>\n",
       "    <tr>\n",
       "      <th>8833</th>\n",
       "      <td>8833</td>\n",
       "      <td>utang loob pakibigyan naman maayos ayos agent ...</td>\n",
       "      <td>thank you, please give it well, it's fine, the...</td>\n",
       "      <td>3</td>\n",
       "      <td>0</td>\n",
       "    </tr>\n",
       "  </tbody>\n",
       "</table>\n",
       "<p>8834 rows × 5 columns</p>\n",
       "</div>"
      ],
      "text/plain": [
       "      Unnamed: 0                                              Tweet  \\\n",
       "0              0                                           tf going   \n",
       "1              1  fix goddamn bullshit shitty crappy fucking bul...   \n",
       "2              2  hrs reachingout troubleshooting possible ways ...   \n",
       "3              3               definitely ask family friends report   \n",
       "4              4                                          work haha   \n",
       "...          ...                                                ...   \n",
       "8829        8829                               need help already dm   \n",
       "8830        8830  even private message ayaw niyo magresponse kla...   \n",
       "8831        8831                                     serbisyong tae   \n",
       "8832        8832                              kindly check dm thank   \n",
       "8833        8833  utang loob pakibigyan naman maayos ayos agent ...   \n",
       "\n",
       "                                             Translated  Cluster  Sentiment  \n",
       "0                                              tf going        1          2  \n",
       "1     fix goddamn bullshit shitty crappy fucking bul...        1          1  \n",
       "2     hrs reachingout troubleshooting possible ways ...        1          1  \n",
       "3                  definitely ask family friends report        1          1  \n",
       "4                                             work haha        1          1  \n",
       "...                                                 ...      ...        ...  \n",
       "8829                               need help already dm        2          1  \n",
       "8830  even private message you don't want to respond...        3          0  \n",
       "8831                                       service shit        1          0  \n",
       "8832                              kindly check dm thank        2          0  \n",
       "8833  thank you, please give it well, it's fine, the...        3          0  \n",
       "\n",
       "[8834 rows x 5 columns]"
      ]
     },
     "execution_count": 48,
     "metadata": {},
     "output_type": "execute_result"
    }
   ],
   "source": [
    "bkm_translated['Sentiment'] = bkm_lda_final['Sentiment']\n",
    "bkm_translated"
   ]
  },
  {
   "cell_type": "markdown",
   "id": "8c7bd6de",
   "metadata": {},
   "source": [
    "# Performance Metrics for Bisecting K-Means"
   ]
  },
  {
   "cell_type": "code",
   "execution_count": 51,
   "id": "250584f7",
   "metadata": {},
   "outputs": [],
   "source": [
    "from sklearn.metrics import calinski_harabasz_score, silhouette_score, davies_bouldin_score"
   ]
  },
  {
   "cell_type": "markdown",
   "id": "3367b099",
   "metadata": {},
   "source": [
    "### calinski_harabasz_score - higher the better"
   ]
  },
  {
   "cell_type": "code",
   "execution_count": 52,
   "id": "efb40208",
   "metadata": {},
   "outputs": [
    {
     "name": "stdout",
     "output_type": "stream",
     "text": [
      "63.750324183999695\n"
     ]
    }
   ],
   "source": [
    "ch_index_translate = calinski_harabasz_score(x.toarray(), y)\n",
    "print(ch_index_translate)"
   ]
  },
  {
   "cell_type": "code",
   "execution_count": 53,
   "id": "2703d0e1",
   "metadata": {},
   "outputs": [
    {
     "name": "stdout",
     "output_type": "stream",
     "text": [
      "139080.06604821992\n"
     ]
    }
   ],
   "source": [
    "ch_index_lda = calinski_harabasz_score(theta, bkm_predict)\n",
    "print(ch_index_lda)"
   ]
  },
  {
   "cell_type": "markdown",
   "id": "1178547d",
   "metadata": {},
   "source": [
    "### silhouette_score - 1:best 0:overlapping -1:worst"
   ]
  },
  {
   "cell_type": "code",
   "execution_count": 54,
   "id": "108bed1b",
   "metadata": {},
   "outputs": [
    {
     "name": "stdout",
     "output_type": "stream",
     "text": [
      "0.007840185368371265\n"
     ]
    }
   ],
   "source": [
    "sil_score_translate = silhouette_score(x.toarray(), y)\n",
    "print(sil_score_translate)"
   ]
  },
  {
   "cell_type": "code",
   "execution_count": 56,
   "id": "bdbdbc9c",
   "metadata": {},
   "outputs": [
    {
     "name": "stdout",
     "output_type": "stream",
     "text": [
      "0.9106978251551732\n"
     ]
    }
   ],
   "source": [
    "sil_score_lda = silhouette_score(theta, bkm_predict)\n",
    "print(sil_score_lda)"
   ]
  },
  {
   "cell_type": "markdown",
   "id": "f9fbb2f7",
   "metadata": {},
   "source": [
    "### davies_bouldin_score - lower the better"
   ]
  },
  {
   "cell_type": "code",
   "execution_count": 57,
   "id": "b41a34b7",
   "metadata": {},
   "outputs": [
    {
     "name": "stdout",
     "output_type": "stream",
     "text": [
      "7.982575955322547\n"
     ]
    }
   ],
   "source": [
    "db_score_translate = davies_bouldin_score(x.toarray(), y)\n",
    "print(db_score_translate)"
   ]
  },
  {
   "cell_type": "code",
   "execution_count": 58,
   "id": "65b483a4",
   "metadata": {},
   "outputs": [
    {
     "name": "stdout",
     "output_type": "stream",
     "text": [
      "0.2717123712988163\n"
     ]
    }
   ],
   "source": [
    "db_score_lda = davies_bouldin_score(theta, bkm_predict)\n",
    "print(db_score_lda)"
   ]
  },
  {
   "cell_type": "markdown",
   "id": "132cf57f",
   "metadata": {},
   "source": [
    "# ============================================================="
   ]
  },
  {
   "cell_type": "markdown",
   "id": "65cc1e1a",
   "metadata": {},
   "source": [
    "# Bi-LSTM"
   ]
  },
  {
   "cell_type": "code",
   "execution_count": 73,
   "id": "0010e873",
   "metadata": {},
   "outputs": [
    {
     "data": {
      "text/plain": [
       "'https://drive.google.com/uc?export=download&id=1EWvarJ3Vy_MUESRUVNDrGXL5GW9je0cL'"
      ]
     },
     "execution_count": 73,
     "metadata": {},
     "output_type": "execute_result"
    }
   ],
   "source": [
    "#Load the dataset csv file coming from gdrive\n",
    "url = 'https://drive.google.com/file/d/1EWvarJ3Vy_MUESRUVNDrGXL5GW9je0cL/view?usp=sharing'\n",
    "path = 'https://drive.google.com/uc?export=download&id=' + url.split('/')[-2]\n",
    "path"
   ]
  },
  {
   "cell_type": "code",
   "execution_count": 74,
   "id": "8b4aacda",
   "metadata": {},
   "outputs": [
    {
     "data": {
      "text/html": [
       "<div>\n",
       "<style scoped>\n",
       "    .dataframe tbody tr th:only-of-type {\n",
       "        vertical-align: middle;\n",
       "    }\n",
       "\n",
       "    .dataframe tbody tr th {\n",
       "        vertical-align: top;\n",
       "    }\n",
       "\n",
       "    .dataframe thead th {\n",
       "        text-align: right;\n",
       "    }\n",
       "</style>\n",
       "<table border=\"1\" class=\"dataframe\">\n",
       "  <thead>\n",
       "    <tr style=\"text-align: right;\">\n",
       "      <th></th>\n",
       "      <th>Sentiment</th>\n",
       "      <th>Tweet</th>\n",
       "      <th>Tokenize</th>\n",
       "      <th>Lemmatize</th>\n",
       "      <th>Lang</th>\n",
       "      <th>Cluster</th>\n",
       "    </tr>\n",
       "  </thead>\n",
       "  <tbody>\n",
       "    <tr>\n",
       "      <th>0</th>\n",
       "      <td>2</td>\n",
       "      <td>internet back infairness thanks quick action</td>\n",
       "      <td>['internet', 'back', 'infairness', 'thanks', '...</td>\n",
       "      <td>['internet', 'back', 'infairness', 'thanks', '...</td>\n",
       "      <td>English</td>\n",
       "      <td>1</td>\n",
       "    </tr>\n",
       "    <tr>\n",
       "      <th>1</th>\n",
       "      <td>1</td>\n",
       "      <td>check dm box</td>\n",
       "      <td>['check', 'dm', 'box']</td>\n",
       "      <td>['check', 'dm', 'box']</td>\n",
       "      <td>English</td>\n",
       "      <td>1</td>\n",
       "    </tr>\n",
       "    <tr>\n",
       "      <th>2</th>\n",
       "      <td>1</td>\n",
       "      <td>customer service hotline</td>\n",
       "      <td>['customer', 'service', 'hotline']</td>\n",
       "      <td>['customer', 'service', 'hotline']</td>\n",
       "      <td>English</td>\n",
       "      <td>1</td>\n",
       "    </tr>\n",
       "    <tr>\n",
       "      <th>3</th>\n",
       "      <td>1</td>\n",
       "      <td>sent</td>\n",
       "      <td>['sent']</td>\n",
       "      <td>['sent']</td>\n",
       "      <td>English</td>\n",
       "      <td>1</td>\n",
       "    </tr>\n",
       "    <tr>\n",
       "      <th>4</th>\n",
       "      <td>1</td>\n",
       "      <td>sent dm account reactivation reply</td>\n",
       "      <td>['sent', 'dm', 'account', 'reactivation', 'rep...</td>\n",
       "      <td>['sent', 'dm', 'account', 'reactivation', 'rep...</td>\n",
       "      <td>English</td>\n",
       "      <td>1</td>\n",
       "    </tr>\n",
       "    <tr>\n",
       "      <th>...</th>\n",
       "      <td>...</td>\n",
       "      <td>...</td>\n",
       "      <td>...</td>\n",
       "      <td>...</td>\n",
       "      <td>...</td>\n",
       "      <td>...</td>\n",
       "    </tr>\n",
       "    <tr>\n",
       "      <th>8829</th>\n",
       "      <td>1</td>\n",
       "      <td>update connection</td>\n",
       "      <td>['update', 'connection']</td>\n",
       "      <td>['update', 'connection']</td>\n",
       "      <td>English</td>\n",
       "      <td>3</td>\n",
       "    </tr>\n",
       "    <tr>\n",
       "      <th>8830</th>\n",
       "      <td>0</td>\n",
       "      <td>converge system upgrade lagi pag nag follow na...</td>\n",
       "      <td>['converge', 'system', 'upgrade', 'lagi', 'pag...</td>\n",
       "      <td>['converge', 'system', 'upgrade', 'lagi', 'pag...</td>\n",
       "      <td>English</td>\n",
       "      <td>3</td>\n",
       "    </tr>\n",
       "    <tr>\n",
       "      <th>8831</th>\n",
       "      <td>0</td>\n",
       "      <td>ehold mins gi disconnect diay call yawa jud</td>\n",
       "      <td>['ehold', 'mins', 'gi', 'disconnect', 'diay', ...</td>\n",
       "      <td>['ehold', 'min', 'gi', 'disconnect', 'diay', '...</td>\n",
       "      <td>English</td>\n",
       "      <td>3</td>\n",
       "    </tr>\n",
       "    <tr>\n",
       "      <th>8832</th>\n",
       "      <td>0</td>\n",
       "      <td>really read messages specific cocnerns templat...</td>\n",
       "      <td>['really', 'read', 'messages', 'specific', 'co...</td>\n",
       "      <td>['really', 'read', 'message', 'specific', 'coc...</td>\n",
       "      <td>English</td>\n",
       "      <td>3</td>\n",
       "    </tr>\n",
       "    <tr>\n",
       "      <th>8833</th>\n",
       "      <td>0</td>\n",
       "      <td>days work lost already los p dm sent</td>\n",
       "      <td>['days', 'work', 'lost', 'already', 'los', 'p'...</td>\n",
       "      <td>['day', 'work', 'lost', 'already', 'los', 'p',...</td>\n",
       "      <td>English</td>\n",
       "      <td>3</td>\n",
       "    </tr>\n",
       "  </tbody>\n",
       "</table>\n",
       "<p>8834 rows × 6 columns</p>\n",
       "</div>"
      ],
      "text/plain": [
       "      Sentiment                                              Tweet  \\\n",
       "0             2       internet back infairness thanks quick action   \n",
       "1             1                                       check dm box   \n",
       "2             1                           customer service hotline   \n",
       "3             1                                               sent   \n",
       "4             1                 sent dm account reactivation reply   \n",
       "...         ...                                                ...   \n",
       "8829          1                                  update connection   \n",
       "8830          0  converge system upgrade lagi pag nag follow na...   \n",
       "8831          0        ehold mins gi disconnect diay call yawa jud   \n",
       "8832          0  really read messages specific cocnerns templat...   \n",
       "8833          0               days work lost already los p dm sent   \n",
       "\n",
       "                                               Tokenize  \\\n",
       "0     ['internet', 'back', 'infairness', 'thanks', '...   \n",
       "1                                ['check', 'dm', 'box']   \n",
       "2                    ['customer', 'service', 'hotline']   \n",
       "3                                              ['sent']   \n",
       "4     ['sent', 'dm', 'account', 'reactivation', 'rep...   \n",
       "...                                                 ...   \n",
       "8829                           ['update', 'connection']   \n",
       "8830  ['converge', 'system', 'upgrade', 'lagi', 'pag...   \n",
       "8831  ['ehold', 'mins', 'gi', 'disconnect', 'diay', ...   \n",
       "8832  ['really', 'read', 'messages', 'specific', 'co...   \n",
       "8833  ['days', 'work', 'lost', 'already', 'los', 'p'...   \n",
       "\n",
       "                                              Lemmatize     Lang  Cluster  \n",
       "0     ['internet', 'back', 'infairness', 'thanks', '...  English        1  \n",
       "1                                ['check', 'dm', 'box']  English        1  \n",
       "2                    ['customer', 'service', 'hotline']  English        1  \n",
       "3                                              ['sent']  English        1  \n",
       "4     ['sent', 'dm', 'account', 'reactivation', 'rep...  English        1  \n",
       "...                                                 ...      ...      ...  \n",
       "8829                           ['update', 'connection']  English        3  \n",
       "8830  ['converge', 'system', 'upgrade', 'lagi', 'pag...  English        3  \n",
       "8831  ['ehold', 'min', 'gi', 'disconnect', 'diay', '...  English        3  \n",
       "8832  ['really', 'read', 'message', 'specific', 'coc...  English        3  \n",
       "8833  ['day', 'work', 'lost', 'already', 'los', 'p',...  English        3  \n",
       "\n",
       "[8834 rows x 6 columns]"
      ]
     },
     "execution_count": 74,
     "metadata": {},
     "output_type": "execute_result"
    }
   ],
   "source": [
    "internet_dataset = pd.read_csv(path, index_col = 0)\n",
    "internet_dataset"
   ]
  },
  {
   "cell_type": "code",
   "execution_count": 75,
   "id": "4f7a50e1",
   "metadata": {},
   "outputs": [],
   "source": [
    "cluster_0 = internet_dataset.query(\"Cluster == 0\");\n",
    "cluster_0 = cluster_0.reset_index(drop=True)\n",
    "cluster_1 = internet_dataset.query(\"Cluster == 1\");\n",
    "cluster_1 = cluster_1.reset_index(drop=True)\n",
    "cluster_2 = internet_dataset.query(\"Cluster == 2\");\n",
    "cluster_2 = cluster_2.reset_index(drop=True)\n",
    "cluster_3 = internet_dataset.query(\"Cluster == 3\");\n",
    "cluster_3 = cluster_3.reset_index(drop=True)"
   ]
  },
  {
   "cell_type": "code",
   "execution_count": 76,
   "id": "215f2dbe",
   "metadata": {},
   "outputs": [],
   "source": [
    "cluster_0['Length'] = [len(x.split()) for x in cluster_0['Lemmatize'].tolist()]\n",
    "cluster_1['Length'] = [len(x.split()) for x in cluster_1['Lemmatize'].tolist()]\n",
    "cluster_2['Length'] = [len(x.split()) for x in cluster_2['Lemmatize'].tolist()]\n",
    "cluster_3['Length'] = [len(x.split()) for x in cluster_3['Lemmatize'].tolist()]"
   ]
  },
  {
   "cell_type": "code",
   "execution_count": 77,
   "id": "20ccede5",
   "metadata": {},
   "outputs": [
    {
     "data": {
      "text/html": [
       "<div>\n",
       "<style scoped>\n",
       "    .dataframe tbody tr th:only-of-type {\n",
       "        vertical-align: middle;\n",
       "    }\n",
       "\n",
       "    .dataframe tbody tr th {\n",
       "        vertical-align: top;\n",
       "    }\n",
       "\n",
       "    .dataframe thead th {\n",
       "        text-align: right;\n",
       "    }\n",
       "</style>\n",
       "<table border=\"1\" class=\"dataframe\">\n",
       "  <thead>\n",
       "    <tr style=\"text-align: right;\">\n",
       "      <th></th>\n",
       "      <th>Sentiment</th>\n",
       "      <th>Tweet</th>\n",
       "      <th>Tokenize</th>\n",
       "      <th>Lemmatize</th>\n",
       "      <th>Lang</th>\n",
       "      <th>Cluster</th>\n",
       "      <th>Length</th>\n",
       "    </tr>\n",
       "  </thead>\n",
       "  <tbody>\n",
       "    <tr>\n",
       "      <th>125</th>\n",
       "      <td>0</td>\n",
       "      <td>since ystrdy nyo p sinabe endorsed ur team b t...</td>\n",
       "      <td>['since', 'ystrdy', 'nyo', 'p', 'sinabe', 'end...</td>\n",
       "      <td>['since', 'ystrdy', 'nyo', 'p', 'sinabe', 'end...</td>\n",
       "      <td>English</td>\n",
       "      <td>0</td>\n",
       "      <td>33</td>\n",
       "    </tr>\n",
       "  </tbody>\n",
       "</table>\n",
       "</div>"
      ],
      "text/plain": [
       "     Sentiment                                              Tweet  \\\n",
       "125          0  since ystrdy nyo p sinabe endorsed ur team b t...   \n",
       "\n",
       "                                              Tokenize  \\\n",
       "125  ['since', 'ystrdy', 'nyo', 'p', 'sinabe', 'end...   \n",
       "\n",
       "                                             Lemmatize     Lang  Cluster  \\\n",
       "125  ['since', 'ystrdy', 'nyo', 'p', 'sinabe', 'end...  English        0   \n",
       "\n",
       "     Length  \n",
       "125      33  "
      ]
     },
     "execution_count": 77,
     "metadata": {},
     "output_type": "execute_result"
    }
   ],
   "source": [
    "cluster_0.sort_values(by='Length', ascending=False).head(1)"
   ]
  },
  {
   "cell_type": "code",
   "execution_count": 78,
   "id": "626fadfe",
   "metadata": {},
   "outputs": [
    {
     "data": {
      "text/html": [
       "<div>\n",
       "<style scoped>\n",
       "    .dataframe tbody tr th:only-of-type {\n",
       "        vertical-align: middle;\n",
       "    }\n",
       "\n",
       "    .dataframe tbody tr th {\n",
       "        vertical-align: top;\n",
       "    }\n",
       "\n",
       "    .dataframe thead th {\n",
       "        text-align: right;\n",
       "    }\n",
       "</style>\n",
       "<table border=\"1\" class=\"dataframe\">\n",
       "  <thead>\n",
       "    <tr style=\"text-align: right;\">\n",
       "      <th></th>\n",
       "      <th>Sentiment</th>\n",
       "      <th>Tweet</th>\n",
       "      <th>Tokenize</th>\n",
       "      <th>Lemmatize</th>\n",
       "      <th>Lang</th>\n",
       "      <th>Cluster</th>\n",
       "      <th>Length</th>\n",
       "    </tr>\n",
       "  </thead>\n",
       "  <tbody>\n",
       "    <tr>\n",
       "      <th>18</th>\n",
       "      <td>0</td>\n",
       "      <td>months ung request rebate months weekly dailly...</td>\n",
       "      <td>['months', 'ung', 'request', 'rebate', 'months...</td>\n",
       "      <td>['month', 'ung', 'request', 'rebate', 'month',...</td>\n",
       "      <td>English</td>\n",
       "      <td>1</td>\n",
       "      <td>35</td>\n",
       "    </tr>\n",
       "  </tbody>\n",
       "</table>\n",
       "</div>"
      ],
      "text/plain": [
       "    Sentiment                                              Tweet  \\\n",
       "18          0  months ung request rebate months weekly dailly...   \n",
       "\n",
       "                                             Tokenize  \\\n",
       "18  ['months', 'ung', 'request', 'rebate', 'months...   \n",
       "\n",
       "                                            Lemmatize     Lang  Cluster  \\\n",
       "18  ['month', 'ung', 'request', 'rebate', 'month',...  English        1   \n",
       "\n",
       "    Length  \n",
       "18      35  "
      ]
     },
     "execution_count": 78,
     "metadata": {},
     "output_type": "execute_result"
    }
   ],
   "source": [
    "cluster_1.sort_values(by='Length', ascending=False).head(1)"
   ]
  },
  {
   "cell_type": "code",
   "execution_count": 79,
   "id": "6fbe35e4",
   "metadata": {},
   "outputs": [
    {
     "data": {
      "text/html": [
       "<div>\n",
       "<style scoped>\n",
       "    .dataframe tbody tr th:only-of-type {\n",
       "        vertical-align: middle;\n",
       "    }\n",
       "\n",
       "    .dataframe tbody tr th {\n",
       "        vertical-align: top;\n",
       "    }\n",
       "\n",
       "    .dataframe thead th {\n",
       "        text-align: right;\n",
       "    }\n",
       "</style>\n",
       "<table border=\"1\" class=\"dataframe\">\n",
       "  <thead>\n",
       "    <tr style=\"text-align: right;\">\n",
       "      <th></th>\n",
       "      <th>Sentiment</th>\n",
       "      <th>Tweet</th>\n",
       "      <th>Tokenize</th>\n",
       "      <th>Lemmatize</th>\n",
       "      <th>Lang</th>\n",
       "      <th>Cluster</th>\n",
       "      <th>Length</th>\n",
       "    </tr>\n",
       "  </thead>\n",
       "  <tbody>\n",
       "    <tr>\n",
       "      <th>793</th>\n",
       "      <td>0</td>\n",
       "      <td>ulol n yo dalas mag reach inyo kayo sasagot ta...</td>\n",
       "      <td>['ulol', 'n', 'yo', 'dalas', 'mag', 'reach', '...</td>\n",
       "      <td>['ulol', 'n', 'yo', 'dalas', 'mag', 'reach', '...</td>\n",
       "      <td>Filipino</td>\n",
       "      <td>2</td>\n",
       "      <td>40</td>\n",
       "    </tr>\n",
       "  </tbody>\n",
       "</table>\n",
       "</div>"
      ],
      "text/plain": [
       "     Sentiment                                              Tweet  \\\n",
       "793          0  ulol n yo dalas mag reach inyo kayo sasagot ta...   \n",
       "\n",
       "                                              Tokenize  \\\n",
       "793  ['ulol', 'n', 'yo', 'dalas', 'mag', 'reach', '...   \n",
       "\n",
       "                                             Lemmatize      Lang  Cluster  \\\n",
       "793  ['ulol', 'n', 'yo', 'dalas', 'mag', 'reach', '...  Filipino        2   \n",
       "\n",
       "     Length  \n",
       "793      40  "
      ]
     },
     "execution_count": 79,
     "metadata": {},
     "output_type": "execute_result"
    }
   ],
   "source": [
    "cluster_2.sort_values(by='Length', ascending=False).head(1)"
   ]
  },
  {
   "cell_type": "code",
   "execution_count": 80,
   "id": "9ea26d1e",
   "metadata": {},
   "outputs": [
    {
     "data": {
      "text/html": [
       "<div>\n",
       "<style scoped>\n",
       "    .dataframe tbody tr th:only-of-type {\n",
       "        vertical-align: middle;\n",
       "    }\n",
       "\n",
       "    .dataframe tbody tr th {\n",
       "        vertical-align: top;\n",
       "    }\n",
       "\n",
       "    .dataframe thead th {\n",
       "        text-align: right;\n",
       "    }\n",
       "</style>\n",
       "<table border=\"1\" class=\"dataframe\">\n",
       "  <thead>\n",
       "    <tr style=\"text-align: right;\">\n",
       "      <th></th>\n",
       "      <th>Sentiment</th>\n",
       "      <th>Tweet</th>\n",
       "      <th>Tokenize</th>\n",
       "      <th>Lemmatize</th>\n",
       "      <th>Lang</th>\n",
       "      <th>Cluster</th>\n",
       "      <th>Length</th>\n",
       "    </tr>\n",
       "  </thead>\n",
       "  <tbody>\n",
       "    <tr>\n",
       "      <th>1799</th>\n",
       "      <td>0</td>\n",
       "      <td>check account gano katagal yan days breakdown ...</td>\n",
       "      <td>['check', 'account', 'gano', 'katagal', 'yan',...</td>\n",
       "      <td>['check', 'account', 'gano', 'katagal', 'yan',...</td>\n",
       "      <td>English</td>\n",
       "      <td>3</td>\n",
       "      <td>39</td>\n",
       "    </tr>\n",
       "  </tbody>\n",
       "</table>\n",
       "</div>"
      ],
      "text/plain": [
       "      Sentiment                                              Tweet  \\\n",
       "1799          0  check account gano katagal yan days breakdown ...   \n",
       "\n",
       "                                               Tokenize  \\\n",
       "1799  ['check', 'account', 'gano', 'katagal', 'yan',...   \n",
       "\n",
       "                                              Lemmatize     Lang  Cluster  \\\n",
       "1799  ['check', 'account', 'gano', 'katagal', 'yan',...  English        3   \n",
       "\n",
       "      Length  \n",
       "1799      39  "
      ]
     },
     "execution_count": 80,
     "metadata": {},
     "output_type": "execute_result"
    }
   ],
   "source": [
    "cluster_3.sort_values(by='Length', ascending=False).head(1)"
   ]
  },
  {
   "cell_type": "code",
   "execution_count": 81,
   "id": "be18af40",
   "metadata": {},
   "outputs": [],
   "source": [
    "corpus_0 = cluster_0['Lemmatize']\n",
    "corpus_1 = cluster_1['Lemmatize']\n",
    "corpus_2 = cluster_2['Lemmatize']\n",
    "corpus_3 = cluster_3['Lemmatize']"
   ]
  },
  {
   "cell_type": "code",
   "execution_count": 82,
   "id": "b2007d5b",
   "metadata": {},
   "outputs": [],
   "source": [
    "### Vocabulary size\n",
    "# voc_size=12644\n",
    "voc_size = 13000"
   ]
  },
  {
   "cell_type": "code",
   "execution_count": 83,
   "id": "fbef1ea8",
   "metadata": {},
   "outputs": [
    {
     "data": {
      "text/html": [
       "<div>\n",
       "<style scoped>\n",
       "    .dataframe tbody tr th:only-of-type {\n",
       "        vertical-align: middle;\n",
       "    }\n",
       "\n",
       "    .dataframe tbody tr th {\n",
       "        vertical-align: top;\n",
       "    }\n",
       "\n",
       "    .dataframe thead th {\n",
       "        text-align: right;\n",
       "    }\n",
       "</style>\n",
       "<table border=\"1\" class=\"dataframe\">\n",
       "  <thead>\n",
       "    <tr style=\"text-align: right;\">\n",
       "      <th></th>\n",
       "      <th>W</th>\n",
       "      <th>pval</th>\n",
       "      <th>normal</th>\n",
       "    </tr>\n",
       "  </thead>\n",
       "  <tbody>\n",
       "    <tr>\n",
       "      <th>Sentiment</th>\n",
       "      <td>0.608216</td>\n",
       "      <td>2.016658e-30</td>\n",
       "      <td>False</td>\n",
       "    </tr>\n",
       "  </tbody>\n",
       "</table>\n",
       "</div>"
      ],
      "text/plain": [
       "                  W          pval  normal\n",
       "Sentiment  0.608216  2.016658e-30   False"
      ]
     },
     "execution_count": 83,
     "metadata": {},
     "output_type": "execute_result"
    }
   ],
   "source": [
    "pg.normality(cluster_0['Sentiment'])"
   ]
  },
  {
   "cell_type": "code",
   "execution_count": 84,
   "id": "89c3cb06",
   "metadata": {},
   "outputs": [
    {
     "data": {
      "text/html": [
       "<div>\n",
       "<style scoped>\n",
       "    .dataframe tbody tr th:only-of-type {\n",
       "        vertical-align: middle;\n",
       "    }\n",
       "\n",
       "    .dataframe tbody tr th {\n",
       "        vertical-align: top;\n",
       "    }\n",
       "\n",
       "    .dataframe thead th {\n",
       "        text-align: right;\n",
       "    }\n",
       "</style>\n",
       "<table border=\"1\" class=\"dataframe\">\n",
       "  <thead>\n",
       "    <tr style=\"text-align: right;\">\n",
       "      <th></th>\n",
       "      <th>W</th>\n",
       "      <th>pval</th>\n",
       "      <th>normal</th>\n",
       "    </tr>\n",
       "  </thead>\n",
       "  <tbody>\n",
       "    <tr>\n",
       "      <th>Sentiment</th>\n",
       "      <td>0.620521</td>\n",
       "      <td>1.864479e-22</td>\n",
       "      <td>False</td>\n",
       "    </tr>\n",
       "  </tbody>\n",
       "</table>\n",
       "</div>"
      ],
      "text/plain": [
       "                  W          pval  normal\n",
       "Sentiment  0.620521  1.864479e-22   False"
      ]
     },
     "execution_count": 84,
     "metadata": {},
     "output_type": "execute_result"
    }
   ],
   "source": [
    "pg.normality(cluster_1['Sentiment'])"
   ]
  },
  {
   "cell_type": "code",
   "execution_count": 85,
   "id": "df7881ce",
   "metadata": {},
   "outputs": [
    {
     "data": {
      "text/html": [
       "<div>\n",
       "<style scoped>\n",
       "    .dataframe tbody tr th:only-of-type {\n",
       "        vertical-align: middle;\n",
       "    }\n",
       "\n",
       "    .dataframe tbody tr th {\n",
       "        vertical-align: top;\n",
       "    }\n",
       "\n",
       "    .dataframe thead th {\n",
       "        text-align: right;\n",
       "    }\n",
       "</style>\n",
       "<table border=\"1\" class=\"dataframe\">\n",
       "  <thead>\n",
       "    <tr style=\"text-align: right;\">\n",
       "      <th></th>\n",
       "      <th>W</th>\n",
       "      <th>pval</th>\n",
       "      <th>normal</th>\n",
       "    </tr>\n",
       "  </thead>\n",
       "  <tbody>\n",
       "    <tr>\n",
       "      <th>Sentiment</th>\n",
       "      <td>0.562963</td>\n",
       "      <td>1.152848e-41</td>\n",
       "      <td>False</td>\n",
       "    </tr>\n",
       "  </tbody>\n",
       "</table>\n",
       "</div>"
      ],
      "text/plain": [
       "                  W          pval  normal\n",
       "Sentiment  0.562963  1.152848e-41   False"
      ]
     },
     "execution_count": 85,
     "metadata": {},
     "output_type": "execute_result"
    }
   ],
   "source": [
    "pg.normality(cluster_2['Sentiment'])"
   ]
  },
  {
   "cell_type": "code",
   "execution_count": 86,
   "id": "3a9ebf71",
   "metadata": {},
   "outputs": [
    {
     "name": "stderr",
     "output_type": "stream",
     "text": [
      "C:\\Users\\Maria Juliana\\anaconda3\\lib\\site-packages\\scipy\\stats\\_morestats.py:1800: UserWarning: p-value may not be accurate for N > 5000.\n",
      "  warnings.warn(\"p-value may not be accurate for N > 5000.\")\n"
     ]
    },
    {
     "data": {
      "text/html": [
       "<div>\n",
       "<style scoped>\n",
       "    .dataframe tbody tr th:only-of-type {\n",
       "        vertical-align: middle;\n",
       "    }\n",
       "\n",
       "    .dataframe tbody tr th {\n",
       "        vertical-align: top;\n",
       "    }\n",
       "\n",
       "    .dataframe thead th {\n",
       "        text-align: right;\n",
       "    }\n",
       "</style>\n",
       "<table border=\"1\" class=\"dataframe\">\n",
       "  <thead>\n",
       "    <tr style=\"text-align: right;\">\n",
       "      <th></th>\n",
       "      <th>W</th>\n",
       "      <th>pval</th>\n",
       "      <th>normal</th>\n",
       "    </tr>\n",
       "  </thead>\n",
       "  <tbody>\n",
       "    <tr>\n",
       "      <th>Sentiment</th>\n",
       "      <td>0.528006</td>\n",
       "      <td>0.0</td>\n",
       "      <td>False</td>\n",
       "    </tr>\n",
       "  </tbody>\n",
       "</table>\n",
       "</div>"
      ],
      "text/plain": [
       "                  W  pval  normal\n",
       "Sentiment  0.528006   0.0   False"
      ]
     },
     "execution_count": 86,
     "metadata": {},
     "output_type": "execute_result"
    }
   ],
   "source": [
    "pg.normality(cluster_3['Sentiment'])"
   ]
  },
  {
   "cell_type": "markdown",
   "id": "0538efc9",
   "metadata": {},
   "source": [
    "## Assign a value to each word in from the Lemmatized data."
   ]
  },
  {
   "cell_type": "code",
   "execution_count": 73,
   "id": "19f80c34",
   "metadata": {},
   "outputs": [],
   "source": [
    "onehot_repr_0=[one_hot (words, voc_size) for words in corpus_0] \n",
    "onehot_repr_1=[one_hot (words, voc_size) for words in corpus_1] \n",
    "onehot_repr_2=[one_hot (words, voc_size) for words in corpus_2] \n",
    "onehot_repr_3=[one_hot (words, voc_size) for words in corpus_3]"
   ]
  },
  {
   "cell_type": "code",
   "execution_count": 74,
   "id": "2104d701",
   "metadata": {},
   "outputs": [],
   "source": [
    "sent_length_0=33\n",
    "sent_length_1=35\n",
    "sent_length_2=40\n",
    "sent_length_3=39"
   ]
  },
  {
   "cell_type": "code",
   "execution_count": 75,
   "id": "a938b72a",
   "metadata": {
    "scrolled": true
   },
   "outputs": [],
   "source": [
    "embedded_docs_0=pad_sequences(onehot_repr_0, padding='pre', maxlen=sent_length_0)\n",
    "embedded_docs_1=pad_sequences(onehot_repr_1, padding='pre', maxlen=sent_length_1)\n",
    "embedded_docs_2=pad_sequences(onehot_repr_2, padding='pre', maxlen=sent_length_2)\n",
    "embedded_docs_3=pad_sequences(onehot_repr_3, padding='pre', maxlen=sent_length_3)"
   ]
  },
  {
   "cell_type": "markdown",
   "id": "9d0019a5",
   "metadata": {},
   "source": [
    "# ============================================================="
   ]
  },
  {
   "cell_type": "markdown",
   "id": "ed1b614c",
   "metadata": {},
   "source": [
    "# BiLSTM Default"
   ]
  },
  {
   "cell_type": "markdown",
   "id": "77ff8715",
   "metadata": {},
   "source": [
    "### Cluster 0"
   ]
  },
  {
   "cell_type": "code",
   "execution_count": 108,
   "id": "5ecd3aa2",
   "metadata": {},
   "outputs": [
    {
     "name": "stdout",
     "output_type": "stream",
     "text": [
      "Model: \"sequential\"\n",
      "_________________________________________________________________\n",
      "Layer (type)                 Output Shape              Param #   \n",
      "=================================================================\n",
      "embedding (Embedding)        (None, 33, 33)            429000    \n",
      "_________________________________________________________________\n",
      "bidirectional (Bidirectional (None, 128)               50176     \n",
      "_________________________________________________________________\n",
      "dense (Dense)                (None, 3)                 387       \n",
      "=================================================================\n",
      "Total params: 479,563\n",
      "Trainable params: 479,563\n",
      "Non-trainable params: 0\n",
      "_________________________________________________________________\n",
      "None\n"
     ]
    }
   ],
   "source": [
    "## Creating model\n",
    "opt = Adam(learning_rate=0.001, decay=1e-6)\n",
    "\n",
    "embedding_vector_features=sent_length_0\n",
    "model0=Sequential()\n",
    "model0.add(Embedding(voc_size, embedding_vector_features, input_length=sent_length_0))\n",
    "model0.add(Bidirectional(LSTM(64)))\n",
    "model0.add(Dense(3, activation='softmax'))\n",
    "model0.compile(loss='sparse_categorical_crossentropy', optimizer=opt, metrics=['accuracy'])\n",
    "print(model0.summary())"
   ]
  },
  {
   "cell_type": "code",
   "execution_count": 109,
   "id": "95538452",
   "metadata": {},
   "outputs": [],
   "source": [
    "y_0 = cluster_0['Sentiment']\n",
    "X_final_0=np.array(embedded_docs_0)\n",
    "Y_final_0=np.array(y_0)"
   ]
  },
  {
   "cell_type": "code",
   "execution_count": 110,
   "id": "9945783d",
   "metadata": {},
   "outputs": [],
   "source": [
    "X_train_0, X_test_0, Y_train_0, Y_test_0 = train_test_split(X_final_0, Y_final_0, test_size=0.30, shuffle=True, random_state=42)"
   ]
  },
  {
   "cell_type": "code",
   "execution_count": 111,
   "id": "6d72a1b0",
   "metadata": {},
   "outputs": [
    {
     "name": "stdout",
     "output_type": "stream",
     "text": [
      "Epoch 1/10\n",
      "10/10 [==============================] - 1s 126ms/step - loss: 1.0430 - accuracy: 0.6440 - val_loss: 0.9410 - val_accuracy: 0.6917\n",
      "Epoch 2/10\n",
      "10/10 [==============================] - 0s 22ms/step - loss: 0.8099 - accuracy: 0.7249 - val_loss: 0.8332 - val_accuracy: 0.6917\n",
      "Epoch 3/10\n",
      "10/10 [==============================] - 0s 22ms/step - loss: 0.7757 - accuracy: 0.7249 - val_loss: 0.7910 - val_accuracy: 0.6917\n",
      "Epoch 4/10\n",
      "10/10 [==============================] - 0s 22ms/step - loss: 0.7351 - accuracy: 0.7249 - val_loss: 0.7831 - val_accuracy: 0.6917\n",
      "Epoch 5/10\n",
      "10/10 [==============================] - 0s 22ms/step - loss: 0.7247 - accuracy: 0.7249 - val_loss: 0.7782 - val_accuracy: 0.6917\n",
      "Epoch 6/10\n",
      "10/10 [==============================] - 0s 22ms/step - loss: 0.6966 - accuracy: 0.7249 - val_loss: 0.7587 - val_accuracy: 0.6917\n",
      "Epoch 7/10\n",
      "10/10 [==============================] - 0s 23ms/step - loss: 0.6559 - accuracy: 0.7249 - val_loss: 0.7355 - val_accuracy: 0.6917\n",
      "Epoch 8/10\n",
      "10/10 [==============================] - 0s 22ms/step - loss: 0.5839 - accuracy: 0.7249 - val_loss: 0.6979 - val_accuracy: 0.6917\n",
      "Epoch 9/10\n",
      "10/10 [==============================] - 0s 24ms/step - loss: 0.4722 - accuracy: 0.7443 - val_loss: 0.6828 - val_accuracy: 0.7293\n",
      "Epoch 10/10\n",
      "10/10 [==============================] - 0s 22ms/step - loss: 0.3951 - accuracy: 0.8803 - val_loss: 0.6985 - val_accuracy: 0.7068\n"
     ]
    }
   ],
   "source": [
    "#Training the model\n",
    "history_0 = model0.fit(X_train_0, Y_train_0, validation_data=(X_test_0, Y_test_0), epochs = 10, batch_size = 32)"
   ]
  },
  {
   "cell_type": "code",
   "execution_count": 112,
   "id": "c9e2a741",
   "metadata": {},
   "outputs": [],
   "source": [
    "Ypred_0=np.argmax(model0.predict(X_test_0), axis=1)"
   ]
  },
  {
   "cell_type": "code",
   "execution_count": 113,
   "id": "b6c65379",
   "metadata": {},
   "outputs": [
    {
     "data": {
      "text/plain": [
       "array([[81, 11,  0],\n",
       "       [18, 13,  0],\n",
       "       [ 9,  1,  0]], dtype=int64)"
      ]
     },
     "execution_count": 113,
     "metadata": {},
     "output_type": "execute_result"
    }
   ],
   "source": [
    "confusion_matrix(Y_test_0, Ypred_0)"
   ]
  },
  {
   "cell_type": "code",
   "execution_count": 114,
   "id": "83fd1823",
   "metadata": {},
   "outputs": [
    {
     "name": "stdout",
     "output_type": "stream",
     "text": [
      "              precision    recall  f1-score   support\n",
      "\n",
      "           0       0.75      0.88      0.81        92\n",
      "           1       0.52      0.42      0.46        31\n",
      "           2       0.00      0.00      0.00        10\n",
      "\n",
      "    accuracy                           0.71       133\n",
      "   macro avg       0.42      0.43      0.42       133\n",
      "weighted avg       0.64      0.71      0.67       133\n",
      "\n"
     ]
    },
    {
     "name": "stderr",
     "output_type": "stream",
     "text": [
      "C:\\Users\\Maria Juliana\\anaconda3\\lib\\site-packages\\sklearn\\metrics\\_classification.py:1334: UndefinedMetricWarning: Precision and F-score are ill-defined and being set to 0.0 in labels with no predicted samples. Use `zero_division` parameter to control this behavior.\n",
      "  _warn_prf(average, modifier, msg_start, len(result))\n",
      "C:\\Users\\Maria Juliana\\anaconda3\\lib\\site-packages\\sklearn\\metrics\\_classification.py:1334: UndefinedMetricWarning: Precision and F-score are ill-defined and being set to 0.0 in labels with no predicted samples. Use `zero_division` parameter to control this behavior.\n",
      "  _warn_prf(average, modifier, msg_start, len(result))\n",
      "C:\\Users\\Maria Juliana\\anaconda3\\lib\\site-packages\\sklearn\\metrics\\_classification.py:1334: UndefinedMetricWarning: Precision and F-score are ill-defined and being set to 0.0 in labels with no predicted samples. Use `zero_division` parameter to control this behavior.\n",
      "  _warn_prf(average, modifier, msg_start, len(result))\n"
     ]
    }
   ],
   "source": [
    "print(classification_report(Y_test_0, Ypred_0))"
   ]
  },
  {
   "cell_type": "code",
   "execution_count": 115,
   "id": "e0a0d6a8",
   "metadata": {},
   "outputs": [
    {
     "data": {
      "image/png": "[encoded data removed]",
      "text/plain": [
       "<Figure size 432x288 with 1 Axes>"
      ]
     },
     "metadata": {
      "needs_background": "light"
     },
     "output_type": "display_data"
    }
   ],
   "source": [
    "plt.plot(history_0.history['accuracy'])\n",
    "plt.plot(history_0.history['loss'])\n",
    "plt.title('Model Loss')\n",
    "plt.ylabel('accuracy')\n",
    "plt.xlabel('loss')\n",
    "plt.legend(['accuracy', 'loss'], loc='upper left')\n",
    "plt.show()"
   ]
  },
  {
   "cell_type": "code",
   "execution_count": 116,
   "id": "4b704484",
   "metadata": {},
   "outputs": [
    {
     "data": {
      "text/plain": [
       "<matplotlib.legend.Legend at 0x1ace3490760>"
      ]
     },
     "execution_count": 116,
     "metadata": {},
     "output_type": "execute_result"
    },
    {
     "data": {
      "image/png": "[encoded data removed]",
      "text/plain": [
       "<Figure size 432x288 with 1 Axes>"
      ]
     },
     "metadata": {
      "needs_background": "light"
     },
     "output_type": "display_data"
    }
   ],
   "source": [
    "plt.figure()\n",
    "plt.plot(history_0.history['accuracy'])\n",
    "plt.plot(history_0.history['val_accuracy'])\n",
    "plt.title('Model accuracy')\n",
    "plt.ylabel('Accuracy')\n",
    "plt.xlabel('Epoch')\n",
    "plt.legend(['Train', 'Test'], loc='upper left')"
   ]
  },
  {
   "cell_type": "markdown",
   "id": "2e129212",
   "metadata": {},
   "source": [
    "### Cluster 1"
   ]
  },
  {
   "cell_type": "code",
   "execution_count": 117,
   "id": "1bee6533",
   "metadata": {},
   "outputs": [
    {
     "name": "stdout",
     "output_type": "stream",
     "text": [
      "Model: \"sequential_1\"\n",
      "_________________________________________________________________\n",
      "Layer (type)                 Output Shape              Param #   \n",
      "=================================================================\n",
      "embedding_1 (Embedding)      (None, 35, 35)            455000    \n",
      "_________________________________________________________________\n",
      "bidirectional_1 (Bidirection (None, 128)               51200     \n",
      "_________________________________________________________________\n",
      "dense_1 (Dense)              (None, 3)                 387       \n",
      "=================================================================\n",
      "Total params: 506,587\n",
      "Trainable params: 506,587\n",
      "Non-trainable params: 0\n",
      "_________________________________________________________________\n",
      "None\n"
     ]
    }
   ],
   "source": [
    "## Creating model\n",
    "opt = Adam(learning_rate=0.001, decay=1e-6)\n",
    "\n",
    "embedding_vector_features=sent_length_1\n",
    "model1=Sequential()\n",
    "model1.add(Embedding(voc_size, embedding_vector_features, input_length=sent_length_1))\n",
    "model1.add(Bidirectional(LSTM(64)))\n",
    "model1.add(Dense(3, activation='softmax'))\n",
    "model1.compile(loss='sparse_categorical_crossentropy', optimizer=opt, metrics=['accuracy'])\n",
    "print(model1.summary())"
   ]
  },
  {
   "cell_type": "code",
   "execution_count": 118,
   "id": "9e0a90e1",
   "metadata": {},
   "outputs": [],
   "source": [
    "y_1 = cluster_1['Sentiment']\n",
    "X_final_1=np.array(embedded_docs_1)\n",
    "Y_final_1=np.array(y_1)"
   ]
  },
  {
   "cell_type": "code",
   "execution_count": 119,
   "id": "2aae526c",
   "metadata": {},
   "outputs": [],
   "source": [
    "X_train_1, X_test_1, Y_train_1, Y_test_1 = train_test_split(X_final_1, Y_final_1, test_size=0.30, shuffle=True, random_state=42)"
   ]
  },
  {
   "cell_type": "code",
   "execution_count": 120,
   "id": "3f31c435",
   "metadata": {},
   "outputs": [
    {
     "name": "stdout",
     "output_type": "stream",
     "text": [
      "Epoch 1/10\n",
      "6/6 [==============================] - 1s 149ms/step - loss: 1.0816 - accuracy: 0.5215 - val_loss: 1.0111 - val_accuracy: 0.8169\n",
      "Epoch 2/10\n",
      "6/6 [==============================] - 0s 25ms/step - loss: 1.0022 - accuracy: 0.6503 - val_loss: 0.8180 - val_accuracy: 0.8169\n",
      "Epoch 3/10\n",
      "6/6 [==============================] - 0s 26ms/step - loss: 0.9106 - accuracy: 0.6503 - val_loss: 0.6444 - val_accuracy: 0.8169\n",
      "Epoch 4/10\n",
      "6/6 [==============================] - 0s 22ms/step - loss: 0.8785 - accuracy: 0.6503 - val_loss: 0.7086 - val_accuracy: 0.8169\n",
      "Epoch 5/10\n",
      "6/6 [==============================] - 0s 23ms/step - loss: 0.8730 - accuracy: 0.6503 - val_loss: 0.7680 - val_accuracy: 0.8169\n",
      "Epoch 6/10\n",
      "6/6 [==============================] - 0s 22ms/step - loss: 0.8703 - accuracy: 0.6503 - val_loss: 0.7104 - val_accuracy: 0.8169\n",
      "Epoch 7/10\n",
      "6/6 [==============================] - 0s 21ms/step - loss: 0.8326 - accuracy: 0.6503 - val_loss: 0.6237 - val_accuracy: 0.8169\n",
      "Epoch 8/10\n",
      "6/6 [==============================] - 0s 23ms/step - loss: 0.8346 - accuracy: 0.6503 - val_loss: 0.6334 - val_accuracy: 0.8169\n",
      "Epoch 9/10\n",
      "6/6 [==============================] - 0s 23ms/step - loss: 0.7942 - accuracy: 0.6503 - val_loss: 0.6744 - val_accuracy: 0.8169\n",
      "Epoch 10/10\n",
      "6/6 [==============================] - 0s 23ms/step - loss: 0.7541 - accuracy: 0.6503 - val_loss: 0.6290 - val_accuracy: 0.8169\n"
     ]
    }
   ],
   "source": [
    "#Training the model\n",
    "history_1 = model1.fit(X_train_1, Y_train_1, validation_data=(X_test_1, Y_test_1), epochs = 10, batch_size = 32)"
   ]
  },
  {
   "cell_type": "code",
   "execution_count": 121,
   "id": "13a89c65",
   "metadata": {},
   "outputs": [],
   "source": [
    "Ypred_1=np.argmax(model1.predict(X_test_1), axis=1)"
   ]
  },
  {
   "cell_type": "code",
   "execution_count": 122,
   "id": "2b93dfd2",
   "metadata": {},
   "outputs": [
    {
     "data": {
      "text/plain": [
       "array([[58,  0,  0],\n",
       "       [ 8,  0,  0],\n",
       "       [ 5,  0,  0]], dtype=int64)"
      ]
     },
     "execution_count": 122,
     "metadata": {},
     "output_type": "execute_result"
    }
   ],
   "source": [
    "confusion_matrix(Y_test_1, Ypred_1)"
   ]
  },
  {
   "cell_type": "code",
   "execution_count": 123,
   "id": "d5a4a6e6",
   "metadata": {},
   "outputs": [
    {
     "name": "stdout",
     "output_type": "stream",
     "text": [
      "              precision    recall  f1-score   support\n",
      "\n",
      "           0       0.82      1.00      0.90        58\n",
      "           1       0.00      0.00      0.00         8\n",
      "           2       0.00      0.00      0.00         5\n",
      "\n",
      "    accuracy                           0.82        71\n",
      "   macro avg       0.27      0.33      0.30        71\n",
      "weighted avg       0.67      0.82      0.73        71\n",
      "\n"
     ]
    },
    {
     "name": "stderr",
     "output_type": "stream",
     "text": [
      "C:\\Users\\Maria Juliana\\anaconda3\\lib\\site-packages\\sklearn\\metrics\\_classification.py:1334: UndefinedMetricWarning: Precision and F-score are ill-defined and being set to 0.0 in labels with no predicted samples. Use `zero_division` parameter to control this behavior.\n",
      "  _warn_prf(average, modifier, msg_start, len(result))\n",
      "C:\\Users\\Maria Juliana\\anaconda3\\lib\\site-packages\\sklearn\\metrics\\_classification.py:1334: UndefinedMetricWarning: Precision and F-score are ill-defined and being set to 0.0 in labels with no predicted samples. Use `zero_division` parameter to control this behavior.\n",
      "  _warn_prf(average, modifier, msg_start, len(result))\n",
      "C:\\Users\\Maria Juliana\\anaconda3\\lib\\site-packages\\sklearn\\metrics\\_classification.py:1334: UndefinedMetricWarning: Precision and F-score are ill-defined and being set to 0.0 in labels with no predicted samples. Use `zero_division` parameter to control this behavior.\n",
      "  _warn_prf(average, modifier, msg_start, len(result))\n"
     ]
    }
   ],
   "source": [
    "print(classification_report(Y_test_1, Ypred_1))"
   ]
  },
  {
   "cell_type": "code",
   "execution_count": 124,
   "id": "e3402694",
   "metadata": {},
   "outputs": [
    {
     "data": {
      "image/png": "[encoded data removed]",
      "text/plain": [
       "<Figure size 432x288 with 1 Axes>"
      ]
     },
     "metadata": {
      "needs_background": "light"
     },
     "output_type": "display_data"
    }
   ],
   "source": [
    "plt.plot(history_1.history['accuracy'])\n",
    "plt.plot(history_1.history['loss'])\n",
    "plt.title('Model Loss')\n",
    "plt.ylabel('accuracy')\n",
    "plt.xlabel('loss')\n",
    "plt.legend(['accuracy', 'loss'], loc='upper left')\n",
    "plt.show()"
   ]
  },
  {
   "cell_type": "code",
   "execution_count": 125,
   "id": "497c74e2",
   "metadata": {},
   "outputs": [
    {
     "data": {
      "text/plain": [
       "<matplotlib.legend.Legend at 0x1acff757b50>"
      ]
     },
     "execution_count": 125,
     "metadata": {},
     "output_type": "execute_result"
    },
    {
     "data": {
      "image/png": "[encoded data removed]",
      "text/plain": [
       "<Figure size 432x288 with 1 Axes>"
      ]
     },
     "metadata": {
      "needs_background": "light"
     },
     "output_type": "display_data"
    }
   ],
   "source": [
    "plt.figure()\n",
    "plt.plot(history_1.history['accuracy'])\n",
    "plt.plot(history_1.history['val_accuracy'])\n",
    "plt.title('Model accuracy')\n",
    "plt.ylabel('Accuracy')\n",
    "plt.xlabel('Epoch')\n",
    "plt.legend(['Train', 'Test'], loc='upper left')"
   ]
  },
  {
   "cell_type": "markdown",
   "id": "94c56bbf",
   "metadata": {},
   "source": [
    "### Cluster 2"
   ]
  },
  {
   "cell_type": "code",
   "execution_count": 126,
   "id": "5150896f",
   "metadata": {},
   "outputs": [
    {
     "name": "stdout",
     "output_type": "stream",
     "text": [
      "Model: \"sequential_2\"\n",
      "_________________________________________________________________\n",
      "Layer (type)                 Output Shape              Param #   \n",
      "=================================================================\n",
      "embedding_2 (Embedding)      (None, 40, 40)            520000    \n",
      "_________________________________________________________________\n",
      "bidirectional_2 (Bidirection (None, 128)               53760     \n",
      "_________________________________________________________________\n",
      "dense_2 (Dense)              (None, 3)                 387       \n",
      "=================================================================\n",
      "Total params: 574,147\n",
      "Trainable params: 574,147\n",
      "Non-trainable params: 0\n",
      "_________________________________________________________________\n",
      "None\n"
     ]
    }
   ],
   "source": [
    "## Creating model\n",
    "opt = Adam(learning_rate=0.001, decay=1e-6)\n",
    "\n",
    "embedding_vector_features=sent_length_2\n",
    "model2=Sequential()\n",
    "model2.add(Embedding(voc_size, embedding_vector_features, input_length=sent_length_2))\n",
    "model2.add(Bidirectional(LSTM(64)))\n",
    "model2.add(Dense(3, activation='softmax'))\n",
    "model2.compile(loss='sparse_categorical_crossentropy', optimizer=opt, metrics=['accuracy'])\n",
    "print(model2.summary())"
   ]
  },
  {
   "cell_type": "code",
   "execution_count": 127,
   "id": "080a1c15",
   "metadata": {},
   "outputs": [],
   "source": [
    "y_2 = cluster_2['Sentiment']\n",
    "X_final_2=np.array(embedded_docs_2)\n",
    "Y_final_2=np.array(y_2)"
   ]
  },
  {
   "cell_type": "code",
   "execution_count": 128,
   "id": "92dc63ce",
   "metadata": {},
   "outputs": [],
   "source": [
    "X_train_2, X_test_2, Y_train_2, Y_test_2 = train_test_split(X_final_2, Y_final_2, test_size=0.30, shuffle=True, random_state=42)"
   ]
  },
  {
   "cell_type": "code",
   "execution_count": 129,
   "id": "1f90b7bc",
   "metadata": {},
   "outputs": [
    {
     "name": "stdout",
     "output_type": "stream",
     "text": [
      "Epoch 1/10\n",
      "19/19 [==============================] - 1s 65ms/step - loss: 0.8860 - accuracy: 0.7487 - val_loss: 0.6737 - val_accuracy: 0.7704\n",
      "Epoch 2/10\n",
      "19/19 [==============================] - 0s 26ms/step - loss: 0.7033 - accuracy: 0.7521 - val_loss: 0.6565 - val_accuracy: 0.7704\n",
      "Epoch 3/10\n",
      "19/19 [==============================] - 1s 28ms/step - loss: 0.6763 - accuracy: 0.7521 - val_loss: 0.6427 - val_accuracy: 0.7704\n",
      "Epoch 4/10\n",
      "19/19 [==============================] - 1s 29ms/step - loss: 0.6257 - accuracy: 0.7521 - val_loss: 0.6107 - val_accuracy: 0.7704\n",
      "Epoch 5/10\n",
      "19/19 [==============================] - 1s 27ms/step - loss: 0.4950 - accuracy: 0.7655 - val_loss: 0.5292 - val_accuracy: 0.7860\n",
      "Epoch 6/10\n",
      "19/19 [==============================] - 1s 28ms/step - loss: 0.3586 - accuracy: 0.8710 - val_loss: 0.5661 - val_accuracy: 0.7938\n",
      "Epoch 7/10\n",
      "19/19 [==============================] - 1s 28ms/step - loss: 0.2381 - accuracy: 0.9246 - val_loss: 0.6126 - val_accuracy: 0.7977\n",
      "Epoch 8/10\n",
      "19/19 [==============================] - 1s 27ms/step - loss: 0.1722 - accuracy: 0.9548 - val_loss: 0.7619 - val_accuracy: 0.7626\n",
      "Epoch 9/10\n",
      "19/19 [==============================] - 1s 29ms/step - loss: 0.1342 - accuracy: 0.9598 - val_loss: 0.6341 - val_accuracy: 0.8054\n",
      "Epoch 10/10\n",
      "19/19 [==============================] - 1s 29ms/step - loss: 0.0877 - accuracy: 0.9799 - val_loss: 0.7108 - val_accuracy: 0.8054\n"
     ]
    }
   ],
   "source": [
    "#Training the model\n",
    "history_2 = model2.fit(X_train_2, Y_train_2, validation_data=(X_test_2, Y_test_2), epochs = 10, batch_size = 32)"
   ]
  },
  {
   "cell_type": "code",
   "execution_count": 130,
   "id": "a547b149",
   "metadata": {},
   "outputs": [],
   "source": [
    "Ypred_2=np.argmax(model2.predict(X_test_2), axis=1)"
   ]
  },
  {
   "cell_type": "code",
   "execution_count": 131,
   "id": "40379497",
   "metadata": {},
   "outputs": [
    {
     "data": {
      "text/plain": [
       "array([[180,  16,   2],\n",
       "       [ 26,  21,   0],\n",
       "       [  5,   1,   6]], dtype=int64)"
      ]
     },
     "execution_count": 131,
     "metadata": {},
     "output_type": "execute_result"
    }
   ],
   "source": [
    "confusion_matrix(Y_test_2, Ypred_2)"
   ]
  },
  {
   "cell_type": "code",
   "execution_count": 132,
   "id": "1124d678",
   "metadata": {},
   "outputs": [
    {
     "name": "stdout",
     "output_type": "stream",
     "text": [
      "              precision    recall  f1-score   support\n",
      "\n",
      "           0       0.85      0.91      0.88       198\n",
      "           1       0.55      0.45      0.49        47\n",
      "           2       0.75      0.50      0.60        12\n",
      "\n",
      "    accuracy                           0.81       257\n",
      "   macro avg       0.72      0.62      0.66       257\n",
      "weighted avg       0.79      0.81      0.80       257\n",
      "\n"
     ]
    }
   ],
   "source": [
    "print(classification_report(Y_test_2, Ypred_2))"
   ]
  },
  {
   "cell_type": "code",
   "execution_count": 133,
   "id": "105fd390",
   "metadata": {},
   "outputs": [
    {
     "data": {
      "image/png": "[encoded data removed]",
      "text/plain": [
       "<Figure size 432x288 with 1 Axes>"
      ]
     },
     "metadata": {
      "needs_background": "light"
     },
     "output_type": "display_data"
    }
   ],
   "source": [
    "plt.plot(history_2.history['accuracy'])\n",
    "plt.plot(history_2.history['loss'])\n",
    "plt.title('Model Loss')\n",
    "plt.ylabel('accuracy')\n",
    "plt.xlabel('loss')\n",
    "plt.legend(['accuracy', 'loss'], loc='upper left')\n",
    "plt.show()"
   ]
  },
  {
   "cell_type": "code",
   "execution_count": 134,
   "id": "16cfd7fc",
   "metadata": {},
   "outputs": [
    {
     "data": {
      "text/plain": [
       "<matplotlib.legend.Legend at 0x1acd129bd60>"
      ]
     },
     "execution_count": 134,
     "metadata": {},
     "output_type": "execute_result"
    },
    {
     "data": {
      "image/png": "[encoded data removed]",
      "text/plain": [
       "<Figure size 432x288 with 1 Axes>"
      ]
     },
     "metadata": {
      "needs_background": "light"
     },
     "output_type": "display_data"
    }
   ],
   "source": [
    "plt.figure()\n",
    "plt.plot(history_2.history['accuracy'])\n",
    "plt.plot(history_2.history['val_accuracy'])\n",
    "plt.title('Model accuracy')\n",
    "plt.ylabel('Accuracy')\n",
    "plt.xlabel('Epoch')\n",
    "plt.legend(['Train', 'Test'], loc='upper left')"
   ]
  },
  {
   "cell_type": "markdown",
   "id": "e5826e90",
   "metadata": {},
   "source": [
    "### Cluster 3"
   ]
  },
  {
   "cell_type": "code",
   "execution_count": 135,
   "id": "a230dd49",
   "metadata": {},
   "outputs": [
    {
     "name": "stdout",
     "output_type": "stream",
     "text": [
      "Model: \"sequential_3\"\n",
      "_________________________________________________________________\n",
      "Layer (type)                 Output Shape              Param #   \n",
      "=================================================================\n",
      "embedding_3 (Embedding)      (None, 39, 39)            507000    \n",
      "_________________________________________________________________\n",
      "bidirectional_3 (Bidirection (None, 128)               53248     \n",
      "_________________________________________________________________\n",
      "dense_3 (Dense)              (None, 3)                 387       \n",
      "=================================================================\n",
      "Total params: 560,635\n",
      "Trainable params: 560,635\n",
      "Non-trainable params: 0\n",
      "_________________________________________________________________\n",
      "None\n"
     ]
    }
   ],
   "source": [
    "## Creating model\n",
    "opt = Adam(learning_rate=0.001, decay=1e-6)\n",
    "\n",
    "embedding_vector_features=sent_length_3\n",
    "model3=Sequential()\n",
    "model3.add(Embedding(voc_size, embedding_vector_features, input_length=sent_length_3))\n",
    "model3.add(Bidirectional(LSTM(64)))\n",
    "model3.add(Dense(3, activation='softmax'))\n",
    "model3.compile(loss='sparse_categorical_crossentropy', optimizer=opt, metrics=['accuracy'])\n",
    "print(model3.summary())"
   ]
  },
  {
   "cell_type": "code",
   "execution_count": 136,
   "id": "f3c1e9c6",
   "metadata": {},
   "outputs": [],
   "source": [
    "y_3 = cluster_3['Sentiment']\n",
    "X_final_3=np.array(embedded_docs_3)\n",
    "Y_final_3=np.array(y_3)"
   ]
  },
  {
   "cell_type": "code",
   "execution_count": 137,
   "id": "86b9468c",
   "metadata": {},
   "outputs": [],
   "source": [
    "X_train_3, X_test_3, Y_train_3, Y_test_3 = train_test_split(X_final_3, Y_final_3, test_size=0.30, shuffle=True, random_state=42)"
   ]
  },
  {
   "cell_type": "code",
   "execution_count": 138,
   "id": "8ed71d74",
   "metadata": {},
   "outputs": [
    {
     "name": "stdout",
     "output_type": "stream",
     "text": [
      "Epoch 1/10\n",
      "160/160 [==============================] - 5s 32ms/step - loss: 0.6018 - accuracy: 0.7879 - val_loss: 0.5082 - val_accuracy: 0.8171\n",
      "Epoch 2/10\n",
      "160/160 [==============================] - 4s 28ms/step - loss: 0.4277 - accuracy: 0.8335 - val_loss: 0.4878 - val_accuracy: 0.8075\n",
      "Epoch 3/10\n",
      "160/160 [==============================] - 5s 30ms/step - loss: 0.3234 - accuracy: 0.8748 - val_loss: 0.5063 - val_accuracy: 0.7947\n",
      "Epoch 4/10\n",
      "160/160 [==============================] - 5s 31ms/step - loss: 0.2450 - accuracy: 0.9053 - val_loss: 0.6079 - val_accuracy: 0.8038\n",
      "Epoch 5/10\n",
      "160/160 [==============================] - 5s 29ms/step - loss: 0.1931 - accuracy: 0.9227 - val_loss: 0.6821 - val_accuracy: 0.7965\n",
      "Epoch 6/10\n",
      "160/160 [==============================] - 5s 29ms/step - loss: 0.1538 - accuracy: 0.9427 - val_loss: 0.7640 - val_accuracy: 0.7924\n",
      "Epoch 7/10\n",
      "160/160 [==============================] - 5s 30ms/step - loss: 0.1319 - accuracy: 0.9536 - val_loss: 0.8087 - val_accuracy: 0.7856\n",
      "Epoch 8/10\n",
      "160/160 [==============================] - 5s 34ms/step - loss: 0.1164 - accuracy: 0.9576 - val_loss: 0.8232 - val_accuracy: 0.7728\n",
      "Epoch 9/10\n",
      "160/160 [==============================] - 5s 29ms/step - loss: 0.1046 - accuracy: 0.9611 - val_loss: 0.8816 - val_accuracy: 0.7819\n",
      "Epoch 10/10\n",
      "160/160 [==============================] - 4s 28ms/step - loss: 0.0973 - accuracy: 0.9634 - val_loss: 1.0048 - val_accuracy: 0.7746\n"
     ]
    }
   ],
   "source": [
    "#Training the model\n",
    "history_3 = model3.fit(X_train_3, Y_train_3, validation_data=(X_test_3, Y_test_3), epochs = 10, batch_size = 32)"
   ]
  },
  {
   "cell_type": "code",
   "execution_count": 139,
   "id": "f37b2567",
   "metadata": {},
   "outputs": [],
   "source": [
    "Ypred_3=np.argmax(model3.predict(X_test_3), axis=1)"
   ]
  },
  {
   "cell_type": "code",
   "execution_count": 140,
   "id": "f43996df",
   "metadata": {},
   "outputs": [
    {
     "data": {
      "text/plain": [
       "array([[1499,  211,   13],\n",
       "       [ 205,  169,   14],\n",
       "       [  33,   18,   30]], dtype=int64)"
      ]
     },
     "execution_count": 140,
     "metadata": {},
     "output_type": "execute_result"
    }
   ],
   "source": [
    "confusion_matrix(Y_test_3, Ypred_3)"
   ]
  },
  {
   "cell_type": "code",
   "execution_count": 141,
   "id": "2513a078",
   "metadata": {},
   "outputs": [
    {
     "name": "stdout",
     "output_type": "stream",
     "text": [
      "              precision    recall  f1-score   support\n",
      "\n",
      "           0       0.86      0.87      0.87      1723\n",
      "           1       0.42      0.44      0.43       388\n",
      "           2       0.53      0.37      0.43        81\n",
      "\n",
      "    accuracy                           0.77      2192\n",
      "   macro avg       0.60      0.56      0.58      2192\n",
      "weighted avg       0.77      0.77      0.77      2192\n",
      "\n"
     ]
    }
   ],
   "source": [
    "print(classification_report(Y_test_3, Ypred_3))"
   ]
  },
  {
   "cell_type": "code",
   "execution_count": 142,
   "id": "d0fefe63",
   "metadata": {},
   "outputs": [
    {
     "data": {
      "image/png": "[encoded data removed]",
      "text/plain": [
       "<Figure size 432x288 with 1 Axes>"
      ]
     },
     "metadata": {
      "needs_background": "light"
     },
     "output_type": "display_data"
    }
   ],
   "source": [
    "plt.plot(history_3.history['accuracy'])\n",
    "plt.plot(history_3.history['loss'])\n",
    "plt.title('Model Loss')\n",
    "plt.ylabel('accuracy')\n",
    "plt.xlabel('loss')\n",
    "plt.legend(['accuracy', 'loss'], loc='upper left')\n",
    "plt.show()"
   ]
  },
  {
   "cell_type": "code",
   "execution_count": 143,
   "id": "ac62ec60",
   "metadata": {},
   "outputs": [
    {
     "data": {
      "text/plain": [
       "<matplotlib.legend.Legend at 0x1ad10b07d90>"
      ]
     },
     "execution_count": 143,
     "metadata": {},
     "output_type": "execute_result"
    },
    {
     "data": {
      "image/png": "[encoded data removed]",
      "text/plain": [
       "<Figure size 432x288 with 1 Axes>"
      ]
     },
     "metadata": {
      "needs_background": "light"
     },
     "output_type": "display_data"
    }
   ],
   "source": [
    "plt.figure()\n",
    "plt.plot(history_3.history['accuracy'])\n",
    "plt.plot(history_3.history['val_accuracy'])\n",
    "plt.title('Model accuracy')\n",
    "plt.ylabel('Accuracy')\n",
    "plt.xlabel('Epoch')\n",
    "plt.legend(['Train', 'Test'], loc='upper left')"
   ]
  },
  {
   "cell_type": "markdown",
   "id": "42a655e1",
   "metadata": {},
   "source": [
    "# ============================================================="
   ]
  },
  {
   "cell_type": "markdown",
   "id": "aba1f8e3",
   "metadata": {},
   "source": [
    "# Hyperparametered Tuned BiLSTM"
   ]
  },
  {
   "cell_type": "markdown",
   "id": "db7bd18a",
   "metadata": {},
   "source": [
    "### Cluster 0"
   ]
  },
  {
   "cell_type": "code",
   "execution_count": 144,
   "id": "ff7a5210",
   "metadata": {},
   "outputs": [
    {
     "name": "stdout",
     "output_type": "stream",
     "text": [
      "Model: \"sequential_4\"\n",
      "_________________________________________________________________\n",
      "Layer (type)                 Output Shape              Param #   \n",
      "=================================================================\n",
      "embedding_4 (Embedding)      (None, 33, 33)            429000    \n",
      "_________________________________________________________________\n",
      "bidirectional_4 (Bidirection (None, 128)               50176     \n",
      "_________________________________________________________________\n",
      "dropout (Dropout)            (None, 128)               0         \n",
      "_________________________________________________________________\n",
      "dense_4 (Dense)              (None, 3)                 387       \n",
      "=================================================================\n",
      "Total params: 479,563\n",
      "Trainable params: 479,563\n",
      "Non-trainable params: 0\n",
      "_________________________________________________________________\n",
      "None\n"
     ]
    }
   ],
   "source": [
    "## Creating model\n",
    "\n",
    "#Key differences:\n",
    "#adam -> adamax\n",
    "#added epsilon value\n",
    "#increased decay value (beta_1)\n",
    "opt = Adamax(learning_rate = 0.001, epsilon = 1e-07, beta_1 = 0.9)\n",
    "\n",
    "embedding_vector_features = sent_length_0\n",
    "model0_ht=Sequential()\n",
    "model0_ht.add(Embedding(voc_size, embedding_vector_features, input_length=sent_length_0))\n",
    "model0_ht.add(Bidirectional(LSTM(64, use_bias = True, bias_initializer = \"zeros\")))\n",
    "model0_ht.add(Dropout(0.2))\n",
    "model0_ht.add(Dense(3, activation = 'softmax', use_bias = True, bias_initializer = \"zeros\"))\n",
    "model0_ht.compile(loss = 'sparse_categorical_crossentropy', optimizer = opt, metrics = ['accuracy'])\n",
    "print(model0_ht.summary())"
   ]
  },
  {
   "cell_type": "code",
   "execution_count": 145,
   "id": "91453fe7",
   "metadata": {},
   "outputs": [],
   "source": [
    "y_0_ht = cluster_0['Sentiment']\n",
    "X_final_0_ht=np.array(embedded_docs_0)\n",
    "Y_final_0_ht=np.array(y_0)"
   ]
  },
  {
   "cell_type": "code",
   "execution_count": 146,
   "id": "b6fc951e",
   "metadata": {},
   "outputs": [],
   "source": [
    "X_train_0_ht, X_test_0_ht, Y_train_0_ht, Y_test_0_ht = train_test_split(X_final_0_ht, Y_final_0_ht, test_size=0.30, shuffle=True, random_state=42)"
   ]
  },
  {
   "cell_type": "code",
   "execution_count": 147,
   "id": "d5fba499",
   "metadata": {},
   "outputs": [
    {
     "name": "stdout",
     "output_type": "stream",
     "text": [
      "Epoch 1/10\n",
      "10/10 [==============================] - 1s 92ms/step - loss: 1.0489 - accuracy: 0.6570 - val_loss: 0.9828 - val_accuracy: 0.6917\n",
      "Epoch 2/10\n",
      "10/10 [==============================] - 0s 21ms/step - loss: 0.8951 - accuracy: 0.7249 - val_loss: 0.8239 - val_accuracy: 0.6917\n",
      "Epoch 3/10\n",
      "10/10 [==============================] - 0s 21ms/step - loss: 0.7767 - accuracy: 0.7249 - val_loss: 0.8152 - val_accuracy: 0.6917\n",
      "Epoch 4/10\n",
      "10/10 [==============================] - 0s 23ms/step - loss: 0.7691 - accuracy: 0.7249 - val_loss: 0.7820 - val_accuracy: 0.6917\n",
      "Epoch 5/10\n",
      "10/10 [==============================] - 0s 22ms/step - loss: 0.7585 - accuracy: 0.7249 - val_loss: 0.7783 - val_accuracy: 0.6917\n",
      "Epoch 6/10\n",
      "10/10 [==============================] - 0s 24ms/step - loss: 0.7497 - accuracy: 0.7249 - val_loss: 0.7776 - val_accuracy: 0.6917\n",
      "Epoch 7/10\n",
      "10/10 [==============================] - 0s 23ms/step - loss: 0.7483 - accuracy: 0.7249 - val_loss: 0.7770 - val_accuracy: 0.6917\n",
      "Epoch 8/10\n",
      "10/10 [==============================] - 0s 21ms/step - loss: 0.7377 - accuracy: 0.7249 - val_loss: 0.7754 - val_accuracy: 0.6917\n",
      "Epoch 9/10\n",
      "10/10 [==============================] - 0s 22ms/step - loss: 0.7416 - accuracy: 0.7249 - val_loss: 0.7687 - val_accuracy: 0.6917\n",
      "Epoch 10/10\n",
      "10/10 [==============================] - 0s 21ms/step - loss: 0.7256 - accuracy: 0.7249 - val_loss: 0.7644 - val_accuracy: 0.6917\n"
     ]
    }
   ],
   "source": [
    "#Training the model\n",
    "history_0_ht = model0_ht.fit(X_train_0_ht, Y_train_0_ht, validation_data=(X_test_0_ht, Y_test_0_ht), epochs = 10, batch_size = 32)"
   ]
  },
  {
   "cell_type": "code",
   "execution_count": 148,
   "id": "8f0939eb",
   "metadata": {},
   "outputs": [],
   "source": [
    "Ypred_0_ht=np.argmax(model0_ht.predict(X_test_0_ht), axis=1)"
   ]
  },
  {
   "cell_type": "code",
   "execution_count": 149,
   "id": "c118882f",
   "metadata": {},
   "outputs": [
    {
     "data": {
      "text/plain": [
       "array([[92,  0,  0],\n",
       "       [31,  0,  0],\n",
       "       [10,  0,  0]], dtype=int64)"
      ]
     },
     "execution_count": 149,
     "metadata": {},
     "output_type": "execute_result"
    }
   ],
   "source": [
    "confusion_matrix(Y_test_0_ht, Ypred_0_ht)"
   ]
  },
  {
   "cell_type": "code",
   "execution_count": 150,
   "id": "f55282b9",
   "metadata": {},
   "outputs": [
    {
     "name": "stdout",
     "output_type": "stream",
     "text": [
      "              precision    recall  f1-score   support\n",
      "\n",
      "           0       0.69      1.00      0.82        92\n",
      "           1       0.00      0.00      0.00        31\n",
      "           2       0.00      0.00      0.00        10\n",
      "\n",
      "    accuracy                           0.69       133\n",
      "   macro avg       0.23      0.33      0.27       133\n",
      "weighted avg       0.48      0.69      0.57       133\n",
      "\n"
     ]
    },
    {
     "name": "stderr",
     "output_type": "stream",
     "text": [
      "C:\\Users\\Maria Juliana\\anaconda3\\lib\\site-packages\\sklearn\\metrics\\_classification.py:1334: UndefinedMetricWarning: Precision and F-score are ill-defined and being set to 0.0 in labels with no predicted samples. Use `zero_division` parameter to control this behavior.\n",
      "  _warn_prf(average, modifier, msg_start, len(result))\n",
      "C:\\Users\\Maria Juliana\\anaconda3\\lib\\site-packages\\sklearn\\metrics\\_classification.py:1334: UndefinedMetricWarning: Precision and F-score are ill-defined and being set to 0.0 in labels with no predicted samples. Use `zero_division` parameter to control this behavior.\n",
      "  _warn_prf(average, modifier, msg_start, len(result))\n",
      "C:\\Users\\Maria Juliana\\anaconda3\\lib\\site-packages\\sklearn\\metrics\\_classification.py:1334: UndefinedMetricWarning: Precision and F-score are ill-defined and being set to 0.0 in labels with no predicted samples. Use `zero_division` parameter to control this behavior.\n",
      "  _warn_prf(average, modifier, msg_start, len(result))\n"
     ]
    }
   ],
   "source": [
    "print(classification_report(Y_test_0_ht, Ypred_0_ht))"
   ]
  },
  {
   "cell_type": "code",
   "execution_count": 151,
   "id": "bd7290ce",
   "metadata": {},
   "outputs": [
    {
     "data": {
      "image/png": "[encoded data removed]",
      "text/plain": [
       "<Figure size 432x288 with 1 Axes>"
      ]
     },
     "metadata": {
      "needs_background": "light"
     },
     "output_type": "display_data"
    }
   ],
   "source": [
    "plt.plot(history_0_ht.history['accuracy'])\n",
    "plt.plot(history_0_ht.history['loss'])\n",
    "plt.title('Model Loss')\n",
    "plt.ylabel('accuracy')\n",
    "plt.xlabel('loss')\n",
    "plt.legend(['accuracy', 'loss'], loc='upper left')\n",
    "plt.show()"
   ]
  },
  {
   "cell_type": "code",
   "execution_count": 152,
   "id": "e6a90a68",
   "metadata": {},
   "outputs": [
    {
     "data": {
      "text/plain": [
       "<matplotlib.legend.Legend at 0x1ad217773d0>"
      ]
     },
     "execution_count": 152,
     "metadata": {},
     "output_type": "execute_result"
    },
    {
     "data": {
      "image/png": "[encoded data removed]",
      "text/plain": [
       "<Figure size 432x288 with 1 Axes>"
      ]
     },
     "metadata": {
      "needs_background": "light"
     },
     "output_type": "display_data"
    }
   ],
   "source": [
    "plt.figure()\n",
    "plt.plot(history_0_ht.history['accuracy'])\n",
    "plt.plot(history_0_ht.history['val_accuracy'])\n",
    "plt.title('Model accuracy')\n",
    "plt.ylabel('Accuracy')\n",
    "plt.xlabel('Epoch')\n",
    "plt.legend(['Train', 'Test'], loc='upper left')"
   ]
  },
  {
   "cell_type": "markdown",
   "id": "ff4b59ee",
   "metadata": {},
   "source": [
    "### Cluster 1"
   ]
  },
  {
   "cell_type": "code",
   "execution_count": 153,
   "id": "69d9b2ad",
   "metadata": {},
   "outputs": [
    {
     "name": "stdout",
     "output_type": "stream",
     "text": [
      "Model: \"sequential_5\"\n",
      "_________________________________________________________________\n",
      "Layer (type)                 Output Shape              Param #   \n",
      "=================================================================\n",
      "embedding_5 (Embedding)      (None, 35, 35)            455000    \n",
      "_________________________________________________________________\n",
      "bidirectional_5 (Bidirection (None, 128)               51200     \n",
      "_________________________________________________________________\n",
      "dropout_1 (Dropout)          (None, 128)               0         \n",
      "_________________________________________________________________\n",
      "dense_5 (Dense)              (None, 3)                 387       \n",
      "=================================================================\n",
      "Total params: 506,587\n",
      "Trainable params: 506,587\n",
      "Non-trainable params: 0\n",
      "_________________________________________________________________\n",
      "None\n"
     ]
    }
   ],
   "source": [
    "## Creating model\n",
    "\n",
    "#Key differences:\n",
    "#adam -> adamax\n",
    "#added epsilon value\n",
    "#increased decay value (beta_1)\n",
    "opt = Adamax(learning_rate = 0.001, epsilon = 1e-07, beta_1 = 0.9)\n",
    "\n",
    "embedding_vector_features = sent_length_1\n",
    "model1_ht=Sequential()\n",
    "model1_ht.add(Embedding(voc_size, embedding_vector_features, input_length=sent_length_1))\n",
    "model1_ht.add(Bidirectional(LSTM(64, use_bias = True, bias_initializer = \"zeros\")))\n",
    "model1_ht.add(Dropout(0.2))\n",
    "model1_ht.add(Dense(3, activation = 'softmax', use_bias = True, bias_initializer = \"zeros\"))\n",
    "model1_ht.compile(loss = 'sparse_categorical_crossentropy', optimizer = opt, metrics = ['accuracy'])\n",
    "print(model1_ht.summary())"
   ]
  },
  {
   "cell_type": "code",
   "execution_count": 154,
   "id": "cb171405",
   "metadata": {},
   "outputs": [],
   "source": [
    "y_1_ht = cluster_1['Sentiment']\n",
    "X_final_1_ht=np.array(embedded_docs_1)\n",
    "Y_final_1_ht=np.array(y_1_ht)"
   ]
  },
  {
   "cell_type": "code",
   "execution_count": 155,
   "id": "b8b1f3a2",
   "metadata": {},
   "outputs": [],
   "source": [
    "X_train_1_ht, X_test_1_ht, Y_train_1_ht, Y_test_1_ht = train_test_split(X_final_1_ht, Y_final_1_ht, test_size=0.30, shuffle=True, random_state=42)"
   ]
  },
  {
   "cell_type": "code",
   "execution_count": 156,
   "id": "505ca3ae",
   "metadata": {},
   "outputs": [
    {
     "name": "stdout",
     "output_type": "stream",
     "text": [
      "Epoch 1/10\n",
      "6/6 [==============================] - 1s 190ms/step - loss: 1.0821 - accuracy: 0.5215 - val_loss: 1.0263 - val_accuracy: 0.8169\n",
      "Epoch 2/10\n",
      "6/6 [==============================] - 0s 22ms/step - loss: 1.0356 - accuracy: 0.6503 - val_loss: 0.9502 - val_accuracy: 0.8169\n",
      "Epoch 3/10\n",
      "6/6 [==============================] - 0s 30ms/step - loss: 0.9856 - accuracy: 0.6503 - val_loss: 0.8650 - val_accuracy: 0.8169\n",
      "Epoch 4/10\n",
      "6/6 [==============================] - 0s 28ms/step - loss: 0.9310 - accuracy: 0.6503 - val_loss: 0.7387 - val_accuracy: 0.8169\n",
      "Epoch 5/10\n",
      "6/6 [==============================] - 0s 22ms/step - loss: 0.8872 - accuracy: 0.6503 - val_loss: 0.6444 - val_accuracy: 0.8169\n",
      "Epoch 6/10\n",
      "6/6 [==============================] - 0s 26ms/step - loss: 0.9245 - accuracy: 0.6503 - val_loss: 0.6383 - val_accuracy: 0.8169\n",
      "Epoch 7/10\n",
      "6/6 [==============================] - 0s 24ms/step - loss: 0.8854 - accuracy: 0.6503 - val_loss: 0.6731 - val_accuracy: 0.8169\n",
      "Epoch 8/10\n",
      "6/6 [==============================] - 0s 23ms/step - loss: 0.8781 - accuracy: 0.6503 - val_loss: 0.7059 - val_accuracy: 0.8169\n",
      "Epoch 9/10\n",
      "6/6 [==============================] - 0s 24ms/step - loss: 0.8872 - accuracy: 0.6503 - val_loss: 0.7313 - val_accuracy: 0.8169\n",
      "Epoch 10/10\n",
      "6/6 [==============================] - 0s 26ms/step - loss: 0.8900 - accuracy: 0.6503 - val_loss: 0.7398 - val_accuracy: 0.8169\n"
     ]
    }
   ],
   "source": [
    "#Training the model\n",
    "history_1_ht = model1_ht.fit(X_train_1_ht, Y_train_1_ht, validation_data=(X_test_1_ht, Y_test_1_ht), epochs = 10, batch_size = 32)"
   ]
  },
  {
   "cell_type": "code",
   "execution_count": 157,
   "id": "4f0c90e0",
   "metadata": {},
   "outputs": [],
   "source": [
    "Ypred_1_ht=np.argmax(model1_ht.predict(X_test_1_ht), axis=1)"
   ]
  },
  {
   "cell_type": "code",
   "execution_count": 158,
   "id": "814ea374",
   "metadata": {},
   "outputs": [
    {
     "data": {
      "text/plain": [
       "array([[58,  0,  0],\n",
       "       [ 8,  0,  0],\n",
       "       [ 5,  0,  0]], dtype=int64)"
      ]
     },
     "execution_count": 158,
     "metadata": {},
     "output_type": "execute_result"
    }
   ],
   "source": [
    "confusion_matrix(Y_test_1_ht, Ypred_1_ht)"
   ]
  },
  {
   "cell_type": "code",
   "execution_count": 159,
   "id": "44d1406f",
   "metadata": {},
   "outputs": [
    {
     "name": "stdout",
     "output_type": "stream",
     "text": [
      "              precision    recall  f1-score   support\n",
      "\n",
      "           0       0.82      1.00      0.90        58\n",
      "           1       0.00      0.00      0.00         8\n",
      "           2       0.00      0.00      0.00         5\n",
      "\n",
      "    accuracy                           0.82        71\n",
      "   macro avg       0.27      0.33      0.30        71\n",
      "weighted avg       0.67      0.82      0.73        71\n",
      "\n"
     ]
    },
    {
     "name": "stderr",
     "output_type": "stream",
     "text": [
      "C:\\Users\\Maria Juliana\\anaconda3\\lib\\site-packages\\sklearn\\metrics\\_classification.py:1334: UndefinedMetricWarning: Precision and F-score are ill-defined and being set to 0.0 in labels with no predicted samples. Use `zero_division` parameter to control this behavior.\n",
      "  _warn_prf(average, modifier, msg_start, len(result))\n",
      "C:\\Users\\Maria Juliana\\anaconda3\\lib\\site-packages\\sklearn\\metrics\\_classification.py:1334: UndefinedMetricWarning: Precision and F-score are ill-defined and being set to 0.0 in labels with no predicted samples. Use `zero_division` parameter to control this behavior.\n",
      "  _warn_prf(average, modifier, msg_start, len(result))\n",
      "C:\\Users\\Maria Juliana\\anaconda3\\lib\\site-packages\\sklearn\\metrics\\_classification.py:1334: UndefinedMetricWarning: Precision and F-score are ill-defined and being set to 0.0 in labels with no predicted samples. Use `zero_division` parameter to control this behavior.\n",
      "  _warn_prf(average, modifier, msg_start, len(result))\n"
     ]
    }
   ],
   "source": [
    "print(classification_report(Y_test_1_ht, Ypred_1_ht))"
   ]
  },
  {
   "cell_type": "code",
   "execution_count": 160,
   "id": "31487d13",
   "metadata": {},
   "outputs": [
    {
     "data": {
      "image/png": "[encoded data removed]",
      "text/plain": [
       "<Figure size 432x288 with 1 Axes>"
      ]
     },
     "metadata": {
      "needs_background": "light"
     },
     "output_type": "display_data"
    }
   ],
   "source": [
    "plt.plot(history_1_ht.history['accuracy'])\n",
    "plt.plot(history_1_ht.history['loss'])\n",
    "plt.title('Model Loss')\n",
    "plt.ylabel('accuracy')\n",
    "plt.xlabel('loss')\n",
    "plt.legend(['accuracy', 'loss'], loc='upper left')\n",
    "plt.show()"
   ]
  },
  {
   "cell_type": "code",
   "execution_count": 161,
   "id": "58187fa3",
   "metadata": {},
   "outputs": [
    {
     "data": {
      "text/plain": [
       "<matplotlib.legend.Legend at 0x1ad295595e0>"
      ]
     },
     "execution_count": 161,
     "metadata": {},
     "output_type": "execute_result"
    },
    {
     "data": {
      "image/png": "[encoded data removed]",
      "text/plain": [
       "<Figure size 432x288 with 1 Axes>"
      ]
     },
     "metadata": {
      "needs_background": "light"
     },
     "output_type": "display_data"
    }
   ],
   "source": [
    "plt.figure()\n",
    "plt.plot(history_1_ht.history['accuracy'])\n",
    "plt.plot(history_1_ht.history['val_accuracy'])\n",
    "plt.title('Model accuracy')\n",
    "plt.ylabel('Accuracy')\n",
    "plt.xlabel('Epoch')\n",
    "plt.legend(['Train', 'Test'], loc='upper left')"
   ]
  },
  {
   "cell_type": "markdown",
   "id": "5dad9889",
   "metadata": {},
   "source": [
    "### Cluster 2"
   ]
  },
  {
   "cell_type": "code",
   "execution_count": 162,
   "id": "446f6644",
   "metadata": {},
   "outputs": [
    {
     "name": "stdout",
     "output_type": "stream",
     "text": [
      "Model: \"sequential_6\"\n",
      "_________________________________________________________________\n",
      "Layer (type)                 Output Shape              Param #   \n",
      "=================================================================\n",
      "embedding_6 (Embedding)      (None, 40, 40)            520000    \n",
      "_________________________________________________________________\n",
      "bidirectional_6 (Bidirection (None, 128)               53760     \n",
      "_________________________________________________________________\n",
      "dropout_2 (Dropout)          (None, 128)               0         \n",
      "_________________________________________________________________\n",
      "dense_6 (Dense)              (None, 3)                 387       \n",
      "=================================================================\n",
      "Total params: 574,147\n",
      "Trainable params: 574,147\n",
      "Non-trainable params: 0\n",
      "_________________________________________________________________\n",
      "None\n"
     ]
    }
   ],
   "source": [
    "## Creating model\n",
    "\n",
    "#Key differences:\n",
    "#adam -> adamax\n",
    "#added epsilon value\n",
    "#increased decay value (beta_1)\n",
    "opt = Adamax(learning_rate = 0.001, epsilon = 1e-07, beta_1 = 0.9)\n",
    "\n",
    "embedding_vector_features = sent_length_2\n",
    "model2_ht=Sequential()\n",
    "model2_ht.add(Embedding(voc_size, embedding_vector_features, input_length=sent_length_2))\n",
    "model2_ht.add(Bidirectional(LSTM(64, use_bias = True, bias_initializer = \"zeros\")))\n",
    "model2_ht.add(Dropout(0.2))\n",
    "model2_ht.add(Dense(3, activation = 'softmax', use_bias = True, bias_initializer = \"zeros\"))\n",
    "model2_ht.compile(loss = 'sparse_categorical_crossentropy', optimizer = opt, metrics = ['accuracy'])\n",
    "print(model2_ht.summary())"
   ]
  },
  {
   "cell_type": "code",
   "execution_count": 163,
   "id": "d6b0698a",
   "metadata": {},
   "outputs": [],
   "source": [
    "y_2_ht = cluster_2['Sentiment']\n",
    "X_final_2_ht=np.array(embedded_docs_2)\n",
    "Y_final_2_ht=np.array(y_2_ht)"
   ]
  },
  {
   "cell_type": "code",
   "execution_count": 164,
   "id": "af7f1002",
   "metadata": {},
   "outputs": [],
   "source": [
    "X_train_2_ht, X_test_2_ht, Y_train_2_ht, Y_test_2_ht = train_test_split(X_final_2_ht, Y_final_2_ht, test_size=0.30, shuffle=True, random_state=42)"
   ]
  },
  {
   "cell_type": "code",
   "execution_count": 165,
   "id": "f5f359d2",
   "metadata": {},
   "outputs": [
    {
     "name": "stdout",
     "output_type": "stream",
     "text": [
      "Epoch 1/10\n",
      "19/19 [==============================] - 1s 62ms/step - loss: 0.9485 - accuracy: 0.7387 - val_loss: 0.7202 - val_accuracy: 0.7704\n",
      "Epoch 2/10\n",
      "19/19 [==============================] - 0s 25ms/step - loss: 0.7140 - accuracy: 0.7521 - val_loss: 0.6746 - val_accuracy: 0.7704\n",
      "Epoch 3/10\n",
      "19/19 [==============================] - 0s 25ms/step - loss: 0.7026 - accuracy: 0.7521 - val_loss: 0.6605 - val_accuracy: 0.7704\n",
      "Epoch 4/10\n",
      "19/19 [==============================] - 0s 25ms/step - loss: 0.7020 - accuracy: 0.7521 - val_loss: 0.6563 - val_accuracy: 0.7704\n",
      "Epoch 5/10\n",
      "19/19 [==============================] - 1s 32ms/step - loss: 0.6865 - accuracy: 0.7521 - val_loss: 0.6521 - val_accuracy: 0.7704\n",
      "Epoch 6/10\n",
      "19/19 [==============================] - 1s 27ms/step - loss: 0.6893 - accuracy: 0.7521 - val_loss: 0.6435 - val_accuracy: 0.7704\n",
      "Epoch 7/10\n",
      "19/19 [==============================] - 1s 27ms/step - loss: 0.6724 - accuracy: 0.7521 - val_loss: 0.6358 - val_accuracy: 0.7704\n",
      "Epoch 8/10\n",
      "19/19 [==============================] - 0s 25ms/step - loss: 0.6610 - accuracy: 0.7521 - val_loss: 0.6162 - val_accuracy: 0.7704\n",
      "Epoch 9/10\n",
      "19/19 [==============================] - 0s 25ms/step - loss: 0.6426 - accuracy: 0.7521 - val_loss: 0.6236 - val_accuracy: 0.7704\n",
      "Epoch 10/10\n",
      "19/19 [==============================] - 0s 25ms/step - loss: 0.6281 - accuracy: 0.7521 - val_loss: 0.6075 - val_accuracy: 0.7704\n"
     ]
    }
   ],
   "source": [
    "#Training the model\n",
    "history_2_ht = model2_ht.fit(X_train_2_ht, Y_train_2_ht, validation_data=(X_test_2_ht, Y_test_2_ht), epochs = 10, batch_size = 32)"
   ]
  },
  {
   "cell_type": "code",
   "execution_count": 166,
   "id": "7450263e",
   "metadata": {},
   "outputs": [],
   "source": [
    "Ypred_2_ht=np.argmax(model2_ht.predict(X_test_2_ht), axis=1)"
   ]
  },
  {
   "cell_type": "code",
   "execution_count": 167,
   "id": "1a490738",
   "metadata": {},
   "outputs": [
    {
     "data": {
      "text/plain": [
       "array([[198,   0,   0],\n",
       "       [ 47,   0,   0],\n",
       "       [ 12,   0,   0]], dtype=int64)"
      ]
     },
     "execution_count": 167,
     "metadata": {},
     "output_type": "execute_result"
    }
   ],
   "source": [
    "confusion_matrix(Y_test_2_ht, Ypred_2_ht)"
   ]
  },
  {
   "cell_type": "code",
   "execution_count": 168,
   "id": "2a36c2fd",
   "metadata": {},
   "outputs": [
    {
     "name": "stdout",
     "output_type": "stream",
     "text": [
      "              precision    recall  f1-score   support\n",
      "\n",
      "           0       0.77      1.00      0.87       198\n",
      "           1       0.00      0.00      0.00        47\n",
      "           2       0.00      0.00      0.00        12\n",
      "\n",
      "    accuracy                           0.77       257\n",
      "   macro avg       0.26      0.33      0.29       257\n",
      "weighted avg       0.59      0.77      0.67       257\n",
      "\n"
     ]
    },
    {
     "name": "stderr",
     "output_type": "stream",
     "text": [
      "C:\\Users\\Maria Juliana\\anaconda3\\lib\\site-packages\\sklearn\\metrics\\_classification.py:1334: UndefinedMetricWarning: Precision and F-score are ill-defined and being set to 0.0 in labels with no predicted samples. Use `zero_division` parameter to control this behavior.\n",
      "  _warn_prf(average, modifier, msg_start, len(result))\n",
      "C:\\Users\\Maria Juliana\\anaconda3\\lib\\site-packages\\sklearn\\metrics\\_classification.py:1334: UndefinedMetricWarning: Precision and F-score are ill-defined and being set to 0.0 in labels with no predicted samples. Use `zero_division` parameter to control this behavior.\n",
      "  _warn_prf(average, modifier, msg_start, len(result))\n",
      "C:\\Users\\Maria Juliana\\anaconda3\\lib\\site-packages\\sklearn\\metrics\\_classification.py:1334: UndefinedMetricWarning: Precision and F-score are ill-defined and being set to 0.0 in labels with no predicted samples. Use `zero_division` parameter to control this behavior.\n",
      "  _warn_prf(average, modifier, msg_start, len(result))\n"
     ]
    }
   ],
   "source": [
    "print(classification_report(Y_test_2_ht, Ypred_2_ht))"
   ]
  },
  {
   "cell_type": "code",
   "execution_count": 169,
   "id": "8f86e94f",
   "metadata": {},
   "outputs": [
    {
     "data": {
      "image/png": "[encoded data removed]",
      "text/plain": [
       "<Figure size 432x288 with 1 Axes>"
      ]
     },
     "metadata": {
      "needs_background": "light"
     },
     "output_type": "display_data"
    }
   ],
   "source": [
    "plt.plot(history_2_ht.history['accuracy'])\n",
    "plt.plot(history_2_ht.history['loss'])\n",
    "plt.title('Model Loss')\n",
    "plt.ylabel('accuracy')\n",
    "plt.xlabel('loss')\n",
    "plt.legend(['accuracy', 'loss'], loc='upper left')\n",
    "plt.show()"
   ]
  },
  {
   "cell_type": "code",
   "execution_count": 170,
   "id": "89cbdd8f",
   "metadata": {},
   "outputs": [
    {
     "data": {
      "text/plain": [
       "<matplotlib.legend.Legend at 0x1ad13eadb20>"
      ]
     },
     "execution_count": 170,
     "metadata": {},
     "output_type": "execute_result"
    },
    {
     "data": {
      "image/png": "[encoded data removed]",
      "text/plain": [
       "<Figure size 432x288 with 1 Axes>"
      ]
     },
     "metadata": {
      "needs_background": "light"
     },
     "output_type": "display_data"
    }
   ],
   "source": [
    "plt.figure()\n",
    "plt.plot(history_2_ht.history['accuracy'])\n",
    "plt.plot(history_2_ht.history['val_accuracy'])\n",
    "plt.title('Model accuracy')\n",
    "plt.ylabel('Accuracy')\n",
    "plt.xlabel('Epoch')\n",
    "plt.legend(['Train', 'Test'], loc='upper left')"
   ]
  },
  {
   "cell_type": "markdown",
   "id": "3250aca8",
   "metadata": {},
   "source": [
    "### Cluster 3"
   ]
  },
  {
   "cell_type": "code",
   "execution_count": 171,
   "id": "c3d26ebe",
   "metadata": {},
   "outputs": [
    {
     "name": "stdout",
     "output_type": "stream",
     "text": [
      "Model: \"sequential_7\"\n",
      "_________________________________________________________________\n",
      "Layer (type)                 Output Shape              Param #   \n",
      "=================================================================\n",
      "embedding_7 (Embedding)      (None, 39, 39)            507000    \n",
      "_________________________________________________________________\n",
      "bidirectional_7 (Bidirection (None, 128)               53248     \n",
      "_________________________________________________________________\n",
      "dropout_3 (Dropout)          (None, 128)               0         \n",
      "_________________________________________________________________\n",
      "dense_7 (Dense)              (None, 3)                 387       \n",
      "=================================================================\n",
      "Total params: 560,635\n",
      "Trainable params: 560,635\n",
      "Non-trainable params: 0\n",
      "_________________________________________________________________\n",
      "None\n"
     ]
    }
   ],
   "source": [
    "## Creating model\n",
    "\n",
    "#Key differences:\n",
    "#adam -> adamax\n",
    "#added epsilon value\n",
    "#increased decay value (beta_1)\n",
    "opt = Adamax(learning_rate = 0.001, epsilon = 1e-07, beta_1 = 0.9)\n",
    "\n",
    "embedding_vector_features = sent_length_3\n",
    "model3_ht=Sequential()\n",
    "model3_ht.add(Embedding(voc_size, embedding_vector_features, input_length=sent_length_3))\n",
    "model3_ht.add(Bidirectional(LSTM(64, use_bias = True, bias_initializer = \"zeros\")))\n",
    "model3_ht.add(Dropout(0.2))\n",
    "model3_ht.add(Dense(3, activation = 'softmax', use_bias = True, bias_initializer = \"zeros\"))\n",
    "model3_ht.compile(loss = 'sparse_categorical_crossentropy', optimizer = opt, metrics = ['accuracy'])\n",
    "print(model3_ht.summary())"
   ]
  },
  {
   "cell_type": "code",
   "execution_count": 172,
   "id": "bb568a94",
   "metadata": {},
   "outputs": [],
   "source": [
    "y_3_ht = cluster_3['Sentiment']\n",
    "X_final_3_ht=np.array(embedded_docs_3)\n",
    "Y_final_3_ht=np.array(y_3_ht)"
   ]
  },
  {
   "cell_type": "code",
   "execution_count": 173,
   "id": "30bdf049",
   "metadata": {},
   "outputs": [],
   "source": [
    "X_train_3_ht, X_test_3_ht, Y_train_3_ht, Y_test_3_ht = train_test_split(X_final_3_ht, Y_final_3_ht, test_size=0.30, shuffle=True, random_state=42)"
   ]
  },
  {
   "cell_type": "code",
   "execution_count": 174,
   "id": "0ff4adef",
   "metadata": {},
   "outputs": [
    {
     "name": "stdout",
     "output_type": "stream",
     "text": [
      "Epoch 1/10\n",
      "160/160 [==============================] - 5s 30ms/step - loss: 0.6520 - accuracy: 0.7860 - val_loss: 0.6062 - val_accuracy: 0.7860\n",
      "Epoch 2/10\n",
      "160/160 [==============================] - 4s 25ms/step - loss: 0.5688 - accuracy: 0.7870 - val_loss: 0.5600 - val_accuracy: 0.7860\n",
      "Epoch 3/10\n",
      "160/160 [==============================] - 4s 27ms/step - loss: 0.5277 - accuracy: 0.7936 - val_loss: 0.5319 - val_accuracy: 0.7993\n",
      "Epoch 4/10\n",
      "160/160 [==============================] - 5s 28ms/step - loss: 0.4989 - accuracy: 0.8144 - val_loss: 0.5141 - val_accuracy: 0.8171\n",
      "Epoch 5/10\n",
      "160/160 [==============================] - 5s 28ms/step - loss: 0.4713 - accuracy: 0.8204 - val_loss: 0.5244 - val_accuracy: 0.8093\n",
      "Epoch 6/10\n",
      "160/160 [==============================] - 5s 34ms/step - loss: 0.4571 - accuracy: 0.8251 - val_loss: 0.4969 - val_accuracy: 0.8193- ETA: 0s - loss: 0.4\n",
      "Epoch 7/10\n",
      "160/160 [==============================] - 5s 31ms/step - loss: 0.4392 - accuracy: 0.8318 - val_loss: 0.4969 - val_accuracy: 0.8139\n",
      "Epoch 8/10\n",
      "160/160 [==============================] - 4s 27ms/step - loss: 0.4269 - accuracy: 0.8359 - val_loss: 0.4941 - val_accuracy: 0.8152\n",
      "Epoch 9/10\n",
      "160/160 [==============================] - 4s 26ms/step - loss: 0.4086 - accuracy: 0.8447 - val_loss: 0.4921 - val_accuracy: 0.8139\n",
      "Epoch 10/10\n",
      "160/160 [==============================] - 5s 28ms/step - loss: 0.3947 - accuracy: 0.8505 - val_loss: 0.5002 - val_accuracy: 0.8193\n"
     ]
    }
   ],
   "source": [
    "#Training the model\n",
    "history_3_ht = model3_ht.fit(X_train_3_ht, Y_train_3_ht, validation_data=(X_test_3_ht, Y_test_3_ht), epochs = 10, batch_size = 32)"
   ]
  },
  {
   "cell_type": "code",
   "execution_count": 175,
   "id": "203c859e",
   "metadata": {},
   "outputs": [],
   "source": [
    "Ypred_3_ht=np.argmax(model3_ht.predict(X_test_3_ht), axis=1)"
   ]
  },
  {
   "cell_type": "code",
   "execution_count": 176,
   "id": "f4ec9381",
   "metadata": {},
   "outputs": [
    {
     "data": {
      "text/plain": [
       "array([[1648,   75,    0],\n",
       "       [ 240,  148,    0],\n",
       "       [  61,   20,    0]], dtype=int64)"
      ]
     },
     "execution_count": 176,
     "metadata": {},
     "output_type": "execute_result"
    }
   ],
   "source": [
    "confusion_matrix(Y_test_3_ht, Ypred_3_ht)"
   ]
  },
  {
   "cell_type": "code",
   "execution_count": 177,
   "id": "ff89795d",
   "metadata": {},
   "outputs": [
    {
     "name": "stdout",
     "output_type": "stream",
     "text": [
      "              precision    recall  f1-score   support\n",
      "\n",
      "           0       0.85      0.96      0.90      1723\n",
      "           1       0.61      0.38      0.47       388\n",
      "           2       0.00      0.00      0.00        81\n",
      "\n",
      "    accuracy                           0.82      2192\n",
      "   macro avg       0.48      0.45      0.46      2192\n",
      "weighted avg       0.77      0.82      0.79      2192\n",
      "\n"
     ]
    },
    {
     "name": "stderr",
     "output_type": "stream",
     "text": [
      "C:\\Users\\Maria Juliana\\anaconda3\\lib\\site-packages\\sklearn\\metrics\\_classification.py:1334: UndefinedMetricWarning: Precision and F-score are ill-defined and being set to 0.0 in labels with no predicted samples. Use `zero_division` parameter to control this behavior.\n",
      "  _warn_prf(average, modifier, msg_start, len(result))\n",
      "C:\\Users\\Maria Juliana\\anaconda3\\lib\\site-packages\\sklearn\\metrics\\_classification.py:1334: UndefinedMetricWarning: Precision and F-score are ill-defined and being set to 0.0 in labels with no predicted samples. Use `zero_division` parameter to control this behavior.\n",
      "  _warn_prf(average, modifier, msg_start, len(result))\n",
      "C:\\Users\\Maria Juliana\\anaconda3\\lib\\site-packages\\sklearn\\metrics\\_classification.py:1334: UndefinedMetricWarning: Precision and F-score are ill-defined and being set to 0.0 in labels with no predicted samples. Use `zero_division` parameter to control this behavior.\n",
      "  _warn_prf(average, modifier, msg_start, len(result))\n"
     ]
    }
   ],
   "source": [
    "print(classification_report(Y_test_3_ht, Ypred_3_ht))"
   ]
  },
  {
   "cell_type": "code",
   "execution_count": 178,
   "id": "63732445",
   "metadata": {},
   "outputs": [
    {
     "data": {
      "image/png": "[encoded data removed]",
      "text/plain": [
       "<Figure size 432x288 with 1 Axes>"
      ]
     },
     "metadata": {
      "needs_background": "light"
     },
     "output_type": "display_data"
    }
   ],
   "source": [
    "plt.plot(history_3_ht.history['accuracy'])\n",
    "plt.plot(history_3_ht.history['loss'])\n",
    "plt.title('Model Loss')\n",
    "plt.ylabel('accuracy')\n",
    "plt.xlabel('loss')\n",
    "plt.legend(['accuracy', 'loss'], loc='upper left')\n",
    "plt.show()"
   ]
  },
  {
   "cell_type": "code",
   "execution_count": 179,
   "id": "d657f74a",
   "metadata": {},
   "outputs": [
    {
     "data": {
      "text/plain": [
       "<matplotlib.legend.Legend at 0x1ad13eadbe0>"
      ]
     },
     "execution_count": 179,
     "metadata": {},
     "output_type": "execute_result"
    },
    {
     "data": {
      "image/png": "[encoded data removed]",
      "text/plain": [
       "<Figure size 432x288 with 1 Axes>"
      ]
     },
     "metadata": {
      "needs_background": "light"
     },
     "output_type": "display_data"
    }
   ],
   "source": [
    "plt.figure()\n",
    "plt.plot(history_3_ht.history['accuracy'])\n",
    "plt.plot(history_3_ht.history['val_accuracy'])\n",
    "plt.title('Model accuracy')\n",
    "plt.ylabel('Accuracy')\n",
    "plt.xlabel('Epoch')\n",
    "plt.legend(['Train', 'Test'], loc='upper left')"
   ]
  },
  {
   "cell_type": "markdown",
   "id": "b75a98ae",
   "metadata": {},
   "source": [
    "# ============================================================="
   ]
  },
  {
   "cell_type": "markdown",
   "id": "cf87c9e8",
   "metadata": {},
   "source": [
    "## Start of Test Cases"
   ]
  },
  {
   "cell_type": "code",
   "execution_count": 22,
   "id": "157aac02",
   "metadata": {},
   "outputs": [],
   "source": [
    "from sklearn.model_selection import train_test_split\n",
    "import pandas as pd\n",
    "import numpy as np\n",
    "\n",
    "from tensorflow.keras.layers import Embedding\n",
    "from tensorflow.keras.preprocessing.sequence import pad_sequences\n",
    "from tensorflow.keras.models import Sequential\n",
    "from tensorflow.keras.preprocessing.text import one_hot\n",
    "from tensorflow.keras.layers import LSTM\n",
    "from tensorflow.keras.layers import Dense\n",
    "from tensorflow.keras.layers import Bidirectional\n",
    "from tensorflow.keras.layers import Dropout\n",
    "from keras.optimizers import SGD, Adam\n",
    "from tensorflow.keras.optimizers import Adam\n",
    "from tensorflow.keras.optimizers import Adamax\n",
    "import tensorflow as tf\n",
    "from sklearn.metrics import confusion_matrix\n",
    "from sklearn.metrics import classification_report\n",
    "\n",
    "#Shapiro Wilk Test with Pingouin\n",
    "import pingouin as pg"
   ]
  },
  {
   "cell_type": "code",
   "execution_count": 2,
   "id": "2c3bc14e",
   "metadata": {},
   "outputs": [
    {
     "data": {
      "text/plain": [
       "'https://drive.google.com/uc?export=download&id=1XEoubR4GmzUYH2mcd913NwsREp_dYXGH'"
      ]
     },
     "execution_count": 2,
     "metadata": {},
     "output_type": "execute_result"
    }
   ],
   "source": [
    "#Load the dataset csv file coming from gdrive\n",
    "url = 'https://drive.google.com/file/d/1XEoubR4GmzUYH2mcd913NwsREp_dYXGH/view?usp=sharing'\n",
    "path = 'https://drive.google.com/uc?export=download&id=' + url.split('/')[-2]\n",
    "path"
   ]
  },
  {
   "cell_type": "code",
   "execution_count": 3,
   "id": "351ee1a9",
   "metadata": {},
   "outputs": [
    {
     "data": {
      "text/html": [
       "<div>\n",
       "<style scoped>\n",
       "    .dataframe tbody tr th:only-of-type {\n",
       "        vertical-align: middle;\n",
       "    }\n",
       "\n",
       "    .dataframe tbody tr th {\n",
       "        vertical-align: top;\n",
       "    }\n",
       "\n",
       "    .dataframe thead th {\n",
       "        text-align: right;\n",
       "    }\n",
       "</style>\n",
       "<table border=\"1\" class=\"dataframe\">\n",
       "  <thead>\n",
       "    <tr style=\"text-align: right;\">\n",
       "      <th></th>\n",
       "      <th>Unnamed: 0</th>\n",
       "      <th>Sentiment</th>\n",
       "      <th>Tweet</th>\n",
       "      <th>Tokenize</th>\n",
       "      <th>Lemmatize</th>\n",
       "      <th>Lang</th>\n",
       "      <th>Cluster</th>\n",
       "    </tr>\n",
       "  </thead>\n",
       "  <tbody>\n",
       "    <tr>\n",
       "      <th>0</th>\n",
       "      <td>0</td>\n",
       "      <td>0</td>\n",
       "      <td>meron akong concern wifi wala wifi days napo b...</td>\n",
       "      <td>['meron', 'akong', 'concern', 'wifi', 'wala', ...</td>\n",
       "      <td>['meron', 'akong', 'concern', 'wifi', 'wala', ...</td>\n",
       "      <td>Filipino</td>\n",
       "      <td>1</td>\n",
       "    </tr>\n",
       "    <tr>\n",
       "      <th>1</th>\n",
       "      <td>1</td>\n",
       "      <td>0</td>\n",
       "      <td>naman sisipagin mag post ig eh pucha di maayos...</td>\n",
       "      <td>['naman', 'sisipagin', 'mag', 'post', 'ig', 'e...</td>\n",
       "      <td>['naman', 'sisipagin', 'mag', 'post', 'ig', 'e...</td>\n",
       "      <td>Filipino</td>\n",
       "      <td>1</td>\n",
       "    </tr>\n",
       "    <tr>\n",
       "      <th>2</th>\n",
       "      <td>2</td>\n",
       "      <td>0</td>\n",
       "      <td>asap</td>\n",
       "      <td>['asap']</td>\n",
       "      <td>['asap']</td>\n",
       "      <td>Filipino</td>\n",
       "      <td>1</td>\n",
       "    </tr>\n",
       "    <tr>\n",
       "      <th>3</th>\n",
       "      <td>3</td>\n",
       "      <td>0</td>\n",
       "      <td>hoy di gumagana ig sainyo</td>\n",
       "      <td>['hoy', 'di', 'gumagana', 'ig', 'sainyo']</td>\n",
       "      <td>['hoy', 'di', 'gumagana', 'ig', 'sainyo']</td>\n",
       "      <td>Filipino</td>\n",
       "      <td>1</td>\n",
       "    </tr>\n",
       "    <tr>\n",
       "      <th>4</th>\n",
       "      <td>4</td>\n",
       "      <td>0</td>\n",
       "      <td>samaan ba nng loob n</td>\n",
       "      <td>['samaan', 'ba', 'nng', 'loob', 'n']</td>\n",
       "      <td>['samaan', 'ba', 'nng', 'loob', 'n']</td>\n",
       "      <td>Filipino</td>\n",
       "      <td>1</td>\n",
       "    </tr>\n",
       "    <tr>\n",
       "      <th>...</th>\n",
       "      <td>...</td>\n",
       "      <td>...</td>\n",
       "      <td>...</td>\n",
       "      <td>...</td>\n",
       "      <td>...</td>\n",
       "      <td>...</td>\n",
       "      <td>...</td>\n",
       "    </tr>\n",
       "    <tr>\n",
       "      <th>4411</th>\n",
       "      <td>4411</td>\n",
       "      <td>0</td>\n",
       "      <td>converge system upgrade lagi pag nag follow na...</td>\n",
       "      <td>['converge', 'system', 'upgrade', 'lagi', 'pag...</td>\n",
       "      <td>['converge', 'system', 'upgrade', 'lagi', 'pag...</td>\n",
       "      <td>English</td>\n",
       "      <td>3</td>\n",
       "    </tr>\n",
       "    <tr>\n",
       "      <th>4412</th>\n",
       "      <td>4412</td>\n",
       "      <td>0</td>\n",
       "      <td>ehold mins gi disconnect diay call yawa jud</td>\n",
       "      <td>['ehold', 'mins', 'gi', 'disconnect', 'diay', ...</td>\n",
       "      <td>['ehold', 'min', 'gi', 'disconnect', 'diay', '...</td>\n",
       "      <td>English</td>\n",
       "      <td>3</td>\n",
       "    </tr>\n",
       "    <tr>\n",
       "      <th>4413</th>\n",
       "      <td>4413</td>\n",
       "      <td>0</td>\n",
       "      <td>really read messages specific cocnerns templat...</td>\n",
       "      <td>['really', 'read', 'messages', 'specific', 'co...</td>\n",
       "      <td>['really', 'read', 'message', 'specific', 'coc...</td>\n",
       "      <td>English</td>\n",
       "      <td>3</td>\n",
       "    </tr>\n",
       "    <tr>\n",
       "      <th>4414</th>\n",
       "      <td>4414</td>\n",
       "      <td>0</td>\n",
       "      <td>days work lost already los p dm sent</td>\n",
       "      <td>['days', 'work', 'lost', 'already', 'los', 'p'...</td>\n",
       "      <td>['day', 'work', 'lost', 'already', 'los', 'p',...</td>\n",
       "      <td>English</td>\n",
       "      <td>3</td>\n",
       "    </tr>\n",
       "    <tr>\n",
       "      <th>4415</th>\n",
       "      <td>4415</td>\n",
       "      <td>2</td>\n",
       "      <td>internet back infairness thanks quick action</td>\n",
       "      <td>['internet', 'back', 'infairness', 'thanks', '...</td>\n",
       "      <td>['internet', 'back', 'infairness', 'thanks', '...</td>\n",
       "      <td>English</td>\n",
       "      <td>3</td>\n",
       "    </tr>\n",
       "  </tbody>\n",
       "</table>\n",
       "<p>4416 rows × 7 columns</p>\n",
       "</div>"
      ],
      "text/plain": [
       "      Unnamed: 0  Sentiment  \\\n",
       "0              0          0   \n",
       "1              1          0   \n",
       "2              2          0   \n",
       "3              3          0   \n",
       "4              4          0   \n",
       "...          ...        ...   \n",
       "4411        4411          0   \n",
       "4412        4412          0   \n",
       "4413        4413          0   \n",
       "4414        4414          0   \n",
       "4415        4415          2   \n",
       "\n",
       "                                                  Tweet  \\\n",
       "0     meron akong concern wifi wala wifi days napo b...   \n",
       "1     naman sisipagin mag post ig eh pucha di maayos...   \n",
       "2                                                  asap   \n",
       "3                             hoy di gumagana ig sainyo   \n",
       "4                                  samaan ba nng loob n   \n",
       "...                                                 ...   \n",
       "4411  converge system upgrade lagi pag nag follow na...   \n",
       "4412        ehold mins gi disconnect diay call yawa jud   \n",
       "4413  really read messages specific cocnerns templat...   \n",
       "4414               days work lost already los p dm sent   \n",
       "4415       internet back infairness thanks quick action   \n",
       "\n",
       "                                               Tokenize  \\\n",
       "0     ['meron', 'akong', 'concern', 'wifi', 'wala', ...   \n",
       "1     ['naman', 'sisipagin', 'mag', 'post', 'ig', 'e...   \n",
       "2                                              ['asap']   \n",
       "3             ['hoy', 'di', 'gumagana', 'ig', 'sainyo']   \n",
       "4                  ['samaan', 'ba', 'nng', 'loob', 'n']   \n",
       "...                                                 ...   \n",
       "4411  ['converge', 'system', 'upgrade', 'lagi', 'pag...   \n",
       "4412  ['ehold', 'mins', 'gi', 'disconnect', 'diay', ...   \n",
       "4413  ['really', 'read', 'messages', 'specific', 'co...   \n",
       "4414  ['days', 'work', 'lost', 'already', 'los', 'p'...   \n",
       "4415  ['internet', 'back', 'infairness', 'thanks', '...   \n",
       "\n",
       "                                              Lemmatize      Lang  Cluster  \n",
       "0     ['meron', 'akong', 'concern', 'wifi', 'wala', ...  Filipino        1  \n",
       "1     ['naman', 'sisipagin', 'mag', 'post', 'ig', 'e...  Filipino        1  \n",
       "2                                              ['asap']  Filipino        1  \n",
       "3             ['hoy', 'di', 'gumagana', 'ig', 'sainyo']  Filipino        1  \n",
       "4                  ['samaan', 'ba', 'nng', 'loob', 'n']  Filipino        1  \n",
       "...                                                 ...       ...      ...  \n",
       "4411  ['converge', 'system', 'upgrade', 'lagi', 'pag...   English        3  \n",
       "4412  ['ehold', 'min', 'gi', 'disconnect', 'diay', '...   English        3  \n",
       "4413  ['really', 'read', 'message', 'specific', 'coc...   English        3  \n",
       "4414  ['day', 'work', 'lost', 'already', 'los', 'p',...   English        3  \n",
       "4415  ['internet', 'back', 'infairness', 'thanks', '...   English        3  \n",
       "\n",
       "[4416 rows x 7 columns]"
      ]
     },
     "execution_count": 3,
     "metadata": {},
     "output_type": "execute_result"
    }
   ],
   "source": [
    "internet_dataset = pd.read_csv(path, index_col=False)\n",
    "internet_dataset"
   ]
  },
  {
   "cell_type": "markdown",
   "id": "3bee5b13",
   "metadata": {},
   "source": [
    "## Test Case 1: Whole Dataset"
   ]
  },
  {
   "cell_type": "code",
   "execution_count": 4,
   "id": "81b0e776",
   "metadata": {},
   "outputs": [],
   "source": [
    "corpus = internet_dataset['Lemmatize']\n",
    "voc_size = 13000"
   ]
  },
  {
   "cell_type": "code",
   "execution_count": 5,
   "id": "b06fe321",
   "metadata": {},
   "outputs": [],
   "source": [
    "onehot_repr=[one_hot (words, voc_size) for words in corpus] "
   ]
  },
  {
   "cell_type": "code",
   "execution_count": 6,
   "id": "6e6374a2",
   "metadata": {},
   "outputs": [
    {
     "name": "stdout",
     "output_type": "stream",
     "text": [
      "[[    0     0     0 ...  6573   809  6884]\n",
      " [    0     0     0 ...  3977 11638  2783]\n",
      " [    0     0     0 ...     0     0  5674]\n",
      " ...\n",
      " [    0     0     0 ...  6147  2063 10507]\n",
      " [    0     0     0 ...  1823 11168   799]\n",
      " [    0     0     0 ...  5762  1142  5541]]\n"
     ]
    }
   ],
   "source": [
    "sent_length=40\n",
    "embedded_docs=pad_sequences(onehot_repr, padding='pre', maxlen=sent_length)\n",
    "print(embedded_docs)"
   ]
  },
  {
   "cell_type": "code",
   "execution_count": 7,
   "id": "df60ba5e",
   "metadata": {},
   "outputs": [],
   "source": [
    "y = internet_dataset['Sentiment']"
   ]
  },
  {
   "cell_type": "code",
   "execution_count": 8,
   "id": "1ad1cad1",
   "metadata": {},
   "outputs": [],
   "source": [
    "X_final=np.array(embedded_docs)\n",
    "Y_final=np.array(y)"
   ]
  },
  {
   "cell_type": "code",
   "execution_count": 9,
   "id": "db8f5e7f",
   "metadata": {},
   "outputs": [],
   "source": [
    "X_train, X_test, Y_train, Y_test = train_test_split(X_final, Y_final, test_size=0.30, shuffle=True, random_state=42)"
   ]
  },
  {
   "cell_type": "markdown",
   "id": "eaeb9cbf",
   "metadata": {},
   "source": [
    "### Default BiLSTM"
   ]
  },
  {
   "cell_type": "code",
   "execution_count": 10,
   "id": "9bf5f413",
   "metadata": {},
   "outputs": [
    {
     "name": "stdout",
     "output_type": "stream",
     "text": [
      "Model: \"sequential\"\n",
      "_________________________________________________________________\n",
      "Layer (type)                 Output Shape              Param #   \n",
      "=================================================================\n",
      "embedding (Embedding)        (None, 40, 32)            416000    \n",
      "_________________________________________________________________\n",
      "bidirectional (Bidirectional (None, 128)               49664     \n",
      "_________________________________________________________________\n",
      "dense (Dense)                (None, 3)                 387       \n",
      "=================================================================\n",
      "Total params: 466,051\n",
      "Trainable params: 466,051\n",
      "Non-trainable params: 0\n",
      "_________________________________________________________________\n",
      "None\n"
     ]
    }
   ],
   "source": [
    "opt = Adam(learning_rate=0.001, decay=1e-6)\n",
    "embedding_vector_features=32\n",
    "defaultTestCase1=Sequential()\n",
    "defaultTestCase1.add(Embedding(voc_size, embedding_vector_features, input_length=sent_length))\n",
    "defaultTestCase1.add(Bidirectional(LSTM(64)))\n",
    "defaultTestCase1.add(Dense(3, activation='softmax'))\n",
    "defaultTestCase1.compile(loss='sparse_categorical_crossentropy', optimizer=opt, metrics=['accuracy'])\n",
    "print(defaultTestCase1.summary())"
   ]
  },
  {
   "cell_type": "code",
   "execution_count": 11,
   "id": "bb6b9c41",
   "metadata": {},
   "outputs": [
    {
     "name": "stdout",
     "output_type": "stream",
     "text": [
      "Epoch 1/10\n",
      "97/97 [==============================] - 4s 40ms/step - loss: 0.5678 - accuracy: 0.8382 - val_loss: 0.4608 - val_accuracy: 0.8634\n",
      "Epoch 2/10\n",
      "97/97 [==============================] - 3s 32ms/step - loss: 0.4324 - accuracy: 0.8467 - val_loss: 0.3763 - val_accuracy: 0.8664\n",
      "Epoch 3/10\n",
      "97/97 [==============================] - 3s 30ms/step - loss: 0.3135 - accuracy: 0.8771 - val_loss: 0.3677 - val_accuracy: 0.8725\n",
      "Epoch 4/10\n",
      "97/97 [==============================] - 4s 38ms/step - loss: 0.2321 - accuracy: 0.9130 - val_loss: 0.4017 - val_accuracy: 0.8657\n",
      "Epoch 5/10\n",
      "97/97 [==============================] - 4s 39ms/step - loss: 0.1878 - accuracy: 0.9363 - val_loss: 0.4183 - val_accuracy: 0.8551\n",
      "Epoch 6/10\n",
      "97/97 [==============================] - 4s 37ms/step - loss: 0.1264 - accuracy: 0.9566 - val_loss: 0.4623 - val_accuracy: 0.8551\n",
      "Epoch 7/10\n",
      "97/97 [==============================] - 3s 32ms/step - loss: 0.0923 - accuracy: 0.9706 - val_loss: 0.5247 - val_accuracy: 0.8423\n",
      "Epoch 8/10\n",
      "97/97 [==============================] - 3s 31ms/step - loss: 0.0724 - accuracy: 0.9780 - val_loss: 0.5275 - val_accuracy: 0.8483\n",
      "Epoch 9/10\n",
      "97/97 [==============================] - 3s 31ms/step - loss: 0.0590 - accuracy: 0.9793 - val_loss: 0.5976 - val_accuracy: 0.8528\n",
      "Epoch 10/10\n",
      "97/97 [==============================] - 4s 38ms/step - loss: 0.0449 - accuracy: 0.9867 - val_loss: 0.6670 - val_accuracy: 0.8491\n"
     ]
    },
    {
     "data": {
      "text/plain": [
       "<tensorflow.python.keras.callbacks.History at 0x2c0e5c1ad60>"
      ]
     },
     "execution_count": 11,
     "metadata": {},
     "output_type": "execute_result"
    }
   ],
   "source": [
    "defaultTestCase1.fit(X_train, Y_train, validation_data=(X_test, Y_test), epochs = 10, batch_size = 32)"
   ]
  },
  {
   "cell_type": "code",
   "execution_count": 12,
   "id": "3d43ff8e",
   "metadata": {},
   "outputs": [],
   "source": [
    "Ypred=np.argmax(defaultTestCase1.predict(X_test), axis=1)"
   ]
  },
  {
   "cell_type": "code",
   "execution_count": 13,
   "id": "0399cab3",
   "metadata": {},
   "outputs": [
    {
     "data": {
      "text/plain": [
       "array([[1062,   77,    5],\n",
       "       [  87,   53,    3],\n",
       "       [  19,    9,   10]], dtype=int64)"
      ]
     },
     "execution_count": 13,
     "metadata": {},
     "output_type": "execute_result"
    }
   ],
   "source": [
    "confusion_matrix(Y_test, Ypred)"
   ]
  },
  {
   "cell_type": "code",
   "execution_count": 14,
   "id": "d8cd8789",
   "metadata": {},
   "outputs": [
    {
     "name": "stdout",
     "output_type": "stream",
     "text": [
      "              precision    recall  f1-score   support\n",
      "\n",
      "           0       0.91      0.93      0.92      1144\n",
      "           1       0.38      0.37      0.38       143\n",
      "           2       0.56      0.26      0.36        38\n",
      "\n",
      "    accuracy                           0.85      1325\n",
      "   macro avg       0.62      0.52      0.55      1325\n",
      "weighted avg       0.84      0.85      0.84      1325\n",
      "\n"
     ]
    }
   ],
   "source": [
    "print(classification_report(Y_test, Ypred))"
   ]
  },
  {
   "cell_type": "markdown",
   "id": "4d2d9d57",
   "metadata": {},
   "source": [
    "### Tuned BiLSTM"
   ]
  },
  {
   "cell_type": "code",
   "execution_count": 15,
   "id": "bceaaae3",
   "metadata": {},
   "outputs": [
    {
     "name": "stdout",
     "output_type": "stream",
     "text": [
      "Model: \"sequential_1\"\n",
      "_________________________________________________________________\n",
      "Layer (type)                 Output Shape              Param #   \n",
      "=================================================================\n",
      "embedding_1 (Embedding)      (None, 40, 40)            520000    \n",
      "_________________________________________________________________\n",
      "bidirectional_1 (Bidirection (None, 128)               53760     \n",
      "_________________________________________________________________\n",
      "dropout (Dropout)            (None, 128)               0         \n",
      "_________________________________________________________________\n",
      "dense_1 (Dense)              (None, 3)                 387       \n",
      "=================================================================\n",
      "Total params: 574,147\n",
      "Trainable params: 574,147\n",
      "Non-trainable params: 0\n",
      "_________________________________________________________________\n",
      "None\n"
     ]
    }
   ],
   "source": [
    "## Creating model\n",
    "opt = Adamax(learning_rate = 0.001, epsilon = 1e-07, beta_1 = 0.9)\n",
    "embedding_vector_features = 40\n",
    "testCase1 = Sequential()\n",
    "testCase1.add(Embedding(voc_size, embedding_vector_features, input_length=sent_length))\n",
    "testCase1.add(Bidirectional(LSTM(64, use_bias = True, bias_initializer = \"zeros\")))\n",
    "testCase1.add(Dropout(0.2))\n",
    "testCase1.add(Dense(3, activation = 'softmax', use_bias = True, bias_initializer = \"zeros\"))\n",
    "testCase1.compile(loss = 'sparse_categorical_crossentropy', optimizer = opt, metrics = ['accuracy'])\n",
    "print(testCase1.summary())"
   ]
  },
  {
   "cell_type": "code",
   "execution_count": 16,
   "id": "1bb9c50e",
   "metadata": {},
   "outputs": [
    {
     "name": "stdout",
     "output_type": "stream",
     "text": [
      "Epoch 1/10\n",
      "97/97 [==============================] - 5s 49ms/step - loss: 0.6012 - accuracy: 0.8382 - val_loss: 0.4711 - val_accuracy: 0.8634\n",
      "Epoch 2/10\n",
      "97/97 [==============================] - 3s 36ms/step - loss: 0.5080 - accuracy: 0.8467 - val_loss: 0.4587 - val_accuracy: 0.8634\n",
      "Epoch 3/10\n",
      "97/97 [==============================] - 3s 33ms/step - loss: 0.4884 - accuracy: 0.8467 - val_loss: 0.4334 - val_accuracy: 0.8634\n",
      "Epoch 4/10\n",
      "97/97 [==============================] - 3s 30ms/step - loss: 0.4564 - accuracy: 0.8467 - val_loss: 0.4139 - val_accuracy: 0.8634\n",
      "Epoch 5/10\n",
      "97/97 [==============================] - 3s 33ms/step - loss: 0.4404 - accuracy: 0.8467 - val_loss: 0.4048 - val_accuracy: 0.8634\n",
      "Epoch 6/10\n",
      "97/97 [==============================] - 3s 34ms/step - loss: 0.4189 - accuracy: 0.8470 - val_loss: 0.4011 - val_accuracy: 0.8634\n",
      "Epoch 7/10\n",
      "97/97 [==============================] - 3s 35ms/step - loss: 0.3979 - accuracy: 0.8505 - val_loss: 0.3783 - val_accuracy: 0.8642\n",
      "Epoch 8/10\n",
      "97/97 [==============================] - 3s 34ms/step - loss: 0.3821 - accuracy: 0.8525 - val_loss: 0.3807 - val_accuracy: 0.8725\n",
      "Epoch 9/10\n",
      "97/97 [==============================] - 3s 31ms/step - loss: 0.3630 - accuracy: 0.8612 - val_loss: 0.3668 - val_accuracy: 0.8717\n",
      "Epoch 10/10\n",
      "97/97 [==============================] - 3s 33ms/step - loss: 0.3497 - accuracy: 0.8651 - val_loss: 0.3690 - val_accuracy: 0.8755\n"
     ]
    },
    {
     "data": {
      "text/plain": [
       "<tensorflow.python.keras.callbacks.History at 0x2c0e82d8ca0>"
      ]
     },
     "execution_count": 16,
     "metadata": {},
     "output_type": "execute_result"
    }
   ],
   "source": [
    "#Training the model\n",
    "testCase1.fit(X_train, Y_train, validation_data=(X_test, Y_test), epochs = 10, batch_size = 32)"
   ]
  },
  {
   "cell_type": "code",
   "execution_count": 17,
   "id": "63873a4c",
   "metadata": {},
   "outputs": [],
   "source": [
    "Ypred1=np.argmax(testCase1.predict(X_test), axis=1)"
   ]
  },
  {
   "cell_type": "code",
   "execution_count": 18,
   "id": "5e3ec320",
   "metadata": {},
   "outputs": [
    {
     "data": {
      "text/plain": [
       "array([[1117,   27,    0],\n",
       "       [ 100,   43,    0],\n",
       "       [  31,    7,    0]], dtype=int64)"
      ]
     },
     "execution_count": 18,
     "metadata": {},
     "output_type": "execute_result"
    }
   ],
   "source": [
    "confusion_matrix(Y_test, Ypred1)"
   ]
  },
  {
   "cell_type": "code",
   "execution_count": 19,
   "id": "eaf0d7c9",
   "metadata": {},
   "outputs": [
    {
     "name": "stdout",
     "output_type": "stream",
     "text": [
      "TEST CASE 1: TUNED BILSTM WITH WHOLE DATASET \n",
      "              precision    recall  f1-score   support\n",
      "\n",
      "           0       0.90      0.98      0.93      1144\n",
      "           1       0.56      0.30      0.39       143\n",
      "           2       0.00      0.00      0.00        38\n",
      "\n",
      "    accuracy                           0.88      1325\n",
      "   macro avg       0.48      0.43      0.44      1325\n",
      "weighted avg       0.83      0.88      0.85      1325\n",
      "\n"
     ]
    },
    {
     "name": "stderr",
     "output_type": "stream",
     "text": [
      "C:\\Users\\Maria Juliana\\anaconda3\\lib\\site-packages\\sklearn\\metrics\\_classification.py:1334: UndefinedMetricWarning: Precision and F-score are ill-defined and being set to 0.0 in labels with no predicted samples. Use `zero_division` parameter to control this behavior.\n",
      "  _warn_prf(average, modifier, msg_start, len(result))\n",
      "C:\\Users\\Maria Juliana\\anaconda3\\lib\\site-packages\\sklearn\\metrics\\_classification.py:1334: UndefinedMetricWarning: Precision and F-score are ill-defined and being set to 0.0 in labels with no predicted samples. Use `zero_division` parameter to control this behavior.\n",
      "  _warn_prf(average, modifier, msg_start, len(result))\n",
      "C:\\Users\\Maria Juliana\\anaconda3\\lib\\site-packages\\sklearn\\metrics\\_classification.py:1334: UndefinedMetricWarning: Precision and F-score are ill-defined and being set to 0.0 in labels with no predicted samples. Use `zero_division` parameter to control this behavior.\n",
      "  _warn_prf(average, modifier, msg_start, len(result))\n"
     ]
    }
   ],
   "source": [
    "print('TEST CASE 1: TUNED BILSTM WITH WHOLE DATASET \\n' + classification_report(Y_test, Ypred1))"
   ]
  },
  {
   "cell_type": "code",
   "execution_count": 20,
   "id": "cce46755",
   "metadata": {},
   "outputs": [],
   "source": [
    "def analyzeTestCase1(test):\n",
    "    onehot_repr_test = [one_hot (words, voc_size) for words in test] \n",
    "    print(onehot_repr_test)\n",
    "    sent_length = 40\n",
    "    embedded_docs_test = pad_sequences(onehot_repr_test, padding='pre', maxlen = sent_length)\n",
    "    #print(embedded_docs_test)\n",
    "    pred_test = np.argmax(testCase1.predict(embedded_docs_test), axis=1)\n",
    "\n",
    "    print(pred_test)\n",
    "    print('╔════════════════════════════════════════════╗')\n",
    "    if pred_test == 0:\n",
    "        print(' Input: ' + str(test[0]))\n",
    "        print(' Sentiment is Negative' )\n",
    "    elif pred_test == 1:\n",
    "        print(' Input: ' + str(test[0]))\n",
    "        print(' Sentiment is Neutral' )\n",
    "    else:\n",
    "        print(' Input: ' + str(test[0]))\n",
    "        print(' Sentiment is Positive' )\n",
    "    print('╚════════════════════════════════════════════╝')"
   ]
  },
  {
   "cell_type": "code",
   "execution_count": 21,
   "id": "87892840",
   "metadata": {},
   "outputs": [
    {
     "name": "stdout",
     "output_type": "stream",
     "text": [
      "[[11627, 2480, 9640, 10756, 397]]\n",
      "[0]\n",
      "╔════════════════════════════════════════════╗\n",
      " Input: slow internet. i am disappointed\n",
      " Sentiment is Negative\n",
      "╚════════════════════════════════════════════╝\n"
     ]
    }
   ],
   "source": [
    "analyzeTestCase1(['slow internet. i am disappointed'])"
   ]
  },
  {
   "cell_type": "code",
   "execution_count": 25,
   "id": "5ed429aa",
   "metadata": {},
   "outputs": [
    {
     "data": {
      "text/html": [
       "<div>\n",
       "<style scoped>\n",
       "    .dataframe tbody tr th:only-of-type {\n",
       "        vertical-align: middle;\n",
       "    }\n",
       "\n",
       "    .dataframe tbody tr th {\n",
       "        vertical-align: top;\n",
       "    }\n",
       "\n",
       "    .dataframe thead th {\n",
       "        text-align: right;\n",
       "    }\n",
       "</style>\n",
       "<table border=\"1\" class=\"dataframe\">\n",
       "  <thead>\n",
       "    <tr style=\"text-align: right;\">\n",
       "      <th></th>\n",
       "      <th>W</th>\n",
       "      <th>pval</th>\n",
       "      <th>normal</th>\n",
       "    </tr>\n",
       "  </thead>\n",
       "  <tbody>\n",
       "    <tr>\n",
       "      <th>Sentiment</th>\n",
       "      <td>0.4341</td>\n",
       "      <td>0.0</td>\n",
       "      <td>False</td>\n",
       "    </tr>\n",
       "  </tbody>\n",
       "</table>\n",
       "</div>"
      ],
      "text/plain": [
       "                W  pval  normal\n",
       "Sentiment  0.4341   0.0   False"
      ]
     },
     "execution_count": 25,
     "metadata": {},
     "output_type": "execute_result"
    },
    {
     "name": "stderr",
     "output_type": "stream",
     "text": [
      "C:\\Users\\Maria Juliana\\anaconda3\\lib\\site-packages\\outdated\\utils.py:14: OutdatedPackageWarning: The package outdated is out of date. Your version is 0.2.1, the latest is 0.2.2.\n",
      "Set the environment variable OUTDATED_IGNORE=1 to disable these warnings.\n",
      "  return warn(\n"
     ]
    }
   ],
   "source": [
    "pg.normality(y)"
   ]
  },
  {
   "cell_type": "markdown",
   "id": "3e299b6b",
   "metadata": {},
   "source": [
    "## Test Case 2: Balanced Dataset with Three Sentiment Classes"
   ]
  },
  {
   "cell_type": "code",
   "execution_count": 26,
   "id": "455f96f9",
   "metadata": {},
   "outputs": [],
   "source": [
    "#class 0 (negative)\n",
    "negative_complete = internet_dataset.query(\"Sentiment == 0\");\n",
    "#class 1 (neutral)\n",
    "neutral_complete = internet_dataset.query(\"Sentiment == 1\");\n",
    "#class 2 (positive)\n",
    "positive_complete = internet_dataset.query(\"Sentiment == 2\");"
   ]
  },
  {
   "cell_type": "code",
   "execution_count": 27,
   "id": "375a4a93",
   "metadata": {},
   "outputs": [],
   "source": [
    "negative_366 = negative_complete.iloc[:366]\n",
    "neutral_366 = neutral_complete.iloc[:366]\n",
    "positive_366 = positive_complete.iloc[:366]"
   ]
  },
  {
   "cell_type": "code",
   "execution_count": 28,
   "id": "2b6d8003",
   "metadata": {},
   "outputs": [],
   "source": [
    "internet_366 = pd.concat([negative_366, neutral_366, positive_366], axis=0)\n",
    "internet_366 = internet_366.reset_index()"
   ]
  },
  {
   "cell_type": "code",
   "execution_count": 29,
   "id": "586fc0b4",
   "metadata": {},
   "outputs": [],
   "source": [
    "internet_366['Length'] = [len(x.split()) for x in internet_366['Lemmatize'].tolist()]"
   ]
  },
  {
   "cell_type": "code",
   "execution_count": 30,
   "id": "9470932a",
   "metadata": {},
   "outputs": [],
   "source": [
    "corpus = internet_366['Lemmatize']"
   ]
  },
  {
   "cell_type": "code",
   "execution_count": 31,
   "id": "7092bf10",
   "metadata": {},
   "outputs": [],
   "source": [
    "onehot_repr=[one_hot (words, voc_size) for words in corpus]"
   ]
  },
  {
   "cell_type": "code",
   "execution_count": 32,
   "id": "acba538a",
   "metadata": {},
   "outputs": [],
   "source": [
    "sent_length = 32\n",
    "embedded_docs=pad_sequences(onehot_repr, padding='pre', maxlen=sent_length)"
   ]
  },
  {
   "cell_type": "code",
   "execution_count": 33,
   "id": "2130fef2",
   "metadata": {},
   "outputs": [],
   "source": [
    "y = internet_366['Sentiment']"
   ]
  },
  {
   "cell_type": "code",
   "execution_count": 34,
   "id": "97bf4af8",
   "metadata": {},
   "outputs": [],
   "source": [
    "X_final=np.array(embedded_docs)\n",
    "Y_final=np.array(y)"
   ]
  },
  {
   "cell_type": "code",
   "execution_count": 35,
   "id": "328633fd",
   "metadata": {},
   "outputs": [],
   "source": [
    "X_train, X_test, Y_train, Y_test = train_test_split(X_final, Y_final, test_size=0.30, shuffle=True, random_state=42)"
   ]
  },
  {
   "cell_type": "markdown",
   "id": "06dc9998",
   "metadata": {},
   "source": [
    "### Default BILSTM"
   ]
  },
  {
   "cell_type": "code",
   "execution_count": 36,
   "id": "c1fd37c9",
   "metadata": {},
   "outputs": [
    {
     "name": "stdout",
     "output_type": "stream",
     "text": [
      "Model: \"sequential_2\"\n",
      "_________________________________________________________________\n",
      "Layer (type)                 Output Shape              Param #   \n",
      "=================================================================\n",
      "embedding_2 (Embedding)      (None, 32, 32)            416000    \n",
      "_________________________________________________________________\n",
      "bidirectional_2 (Bidirection (None, 128)               49664     \n",
      "_________________________________________________________________\n",
      "dense_2 (Dense)              (None, 3)                 387       \n",
      "=================================================================\n",
      "Total params: 466,051\n",
      "Trainable params: 466,051\n",
      "Non-trainable params: 0\n",
      "_________________________________________________________________\n",
      "None\n"
     ]
    }
   ],
   "source": [
    "opt = Adam(learning_rate=0.001, decay=1e-6)\n",
    "embedding_vector_features=32\n",
    "defaultTestCase2=Sequential()\n",
    "defaultTestCase2.add(Embedding(voc_size, embedding_vector_features, input_length=sent_length))\n",
    "defaultTestCase2.add(Bidirectional(LSTM(64)))\n",
    "defaultTestCase2.add(Dense(3, activation='softmax'))\n",
    "defaultTestCase2.compile(loss='sparse_categorical_crossentropy', optimizer=opt, metrics=['accuracy'])\n",
    "print(defaultTestCase2.summary())"
   ]
  },
  {
   "cell_type": "code",
   "execution_count": 37,
   "id": "3e343ab7",
   "metadata": {},
   "outputs": [
    {
     "name": "stdout",
     "output_type": "stream",
     "text": [
      "Epoch 1/10\n",
      "19/19 [==============================] - 1s 71ms/step - loss: 1.0576 - accuracy: 0.4389 - val_loss: 1.0127 - val_accuracy: 0.4444\n",
      "Epoch 2/10\n",
      "19/19 [==============================] - 0s 22ms/step - loss: 0.9935 - accuracy: 0.5528 - val_loss: 0.9942 - val_accuracy: 0.5249\n",
      "Epoch 3/10\n",
      "19/19 [==============================] - 1s 30ms/step - loss: 0.9558 - accuracy: 0.5759 - val_loss: 0.9708 - val_accuracy: 0.5249\n",
      "Epoch 4/10\n",
      "19/19 [==============================] - 1s 38ms/step - loss: 0.8586 - accuracy: 0.6403 - val_loss: 0.9149 - val_accuracy: 0.5594\n",
      "Epoch 5/10\n",
      "19/19 [==============================] - 0s 26ms/step - loss: 0.7139 - accuracy: 0.6815 - val_loss: 0.8640 - val_accuracy: 0.5594\n",
      "Epoch 6/10\n",
      "19/19 [==============================] - 0s 26ms/step - loss: 0.5660 - accuracy: 0.7673 - val_loss: 0.8663 - val_accuracy: 0.5862\n",
      "Epoch 7/10\n",
      "19/19 [==============================] - 1s 29ms/step - loss: 0.4203 - accuracy: 0.8746 - val_loss: 0.8233 - val_accuracy: 0.6284\n",
      "Epoch 8/10\n",
      "19/19 [==============================] - 0s 23ms/step - loss: 0.2746 - accuracy: 0.9175 - val_loss: 0.8682 - val_accuracy: 0.6130\n",
      "Epoch 9/10\n",
      "19/19 [==============================] - 0s 26ms/step - loss: 0.1747 - accuracy: 0.9422 - val_loss: 1.0529 - val_accuracy: 0.6130\n",
      "Epoch 10/10\n",
      "19/19 [==============================] - 1s 29ms/step - loss: 0.1329 - accuracy: 0.9587 - val_loss: 1.0165 - val_accuracy: 0.6092\n"
     ]
    },
    {
     "data": {
      "text/plain": [
       "<tensorflow.python.keras.callbacks.History at 0x2c0e5822490>"
      ]
     },
     "execution_count": 37,
     "metadata": {},
     "output_type": "execute_result"
    }
   ],
   "source": [
    "defaultTestCase2.fit(X_train, Y_train, validation_data=(X_test, Y_test), epochs = 10, batch_size = 32)"
   ]
  },
  {
   "cell_type": "code",
   "execution_count": 38,
   "id": "a795e5c1",
   "metadata": {},
   "outputs": [],
   "source": [
    "Ypred=np.argmax(defaultTestCase2.predict(X_test), axis=1)"
   ]
  },
  {
   "cell_type": "code",
   "execution_count": 39,
   "id": "a90bb99b",
   "metadata": {},
   "outputs": [
    {
     "data": {
      "text/plain": [
       "array([[64, 47,  0],\n",
       "       [25, 81,  3],\n",
       "       [10, 17, 14]], dtype=int64)"
      ]
     },
     "execution_count": 39,
     "metadata": {},
     "output_type": "execute_result"
    }
   ],
   "source": [
    "confusion_matrix(Y_test, Ypred)"
   ]
  },
  {
   "cell_type": "code",
   "execution_count": 40,
   "id": "012f8cad",
   "metadata": {},
   "outputs": [
    {
     "name": "stdout",
     "output_type": "stream",
     "text": [
      "              precision    recall  f1-score   support\n",
      "\n",
      "           0       0.65      0.58      0.61       111\n",
      "           1       0.56      0.74      0.64       109\n",
      "           2       0.82      0.34      0.48        41\n",
      "\n",
      "    accuracy                           0.61       261\n",
      "   macro avg       0.68      0.55      0.58       261\n",
      "weighted avg       0.64      0.61      0.60       261\n",
      "\n"
     ]
    }
   ],
   "source": [
    "print(classification_report(Y_test, Ypred))"
   ]
  },
  {
   "cell_type": "markdown",
   "id": "768cf15e",
   "metadata": {},
   "source": [
    "### Tuned BILSTM"
   ]
  },
  {
   "cell_type": "code",
   "execution_count": 41,
   "id": "44ec2138",
   "metadata": {},
   "outputs": [
    {
     "name": "stdout",
     "output_type": "stream",
     "text": [
      "Model: \"sequential_3\"\n",
      "_________________________________________________________________\n",
      "Layer (type)                 Output Shape              Param #   \n",
      "=================================================================\n",
      "embedding_3 (Embedding)      (None, 32, 32)            416000    \n",
      "_________________________________________________________________\n",
      "bidirectional_3 (Bidirection (None, 128)               49664     \n",
      "_________________________________________________________________\n",
      "dropout_1 (Dropout)          (None, 128)               0         \n",
      "_________________________________________________________________\n",
      "dense_3 (Dense)              (None, 3)                 387       \n",
      "=================================================================\n",
      "Total params: 466,051\n",
      "Trainable params: 466,051\n",
      "Non-trainable params: 0\n",
      "_________________________________________________________________\n",
      "None\n"
     ]
    }
   ],
   "source": [
    "opt = Adamax(learning_rate = 0.001, epsilon = 1e-07, beta_1 = 0.9)\n",
    "embedding_vector_features = 32\n",
    "testCase2=Sequential()\n",
    "testCase2.add(Embedding(voc_size, embedding_vector_features, input_length=sent_length))\n",
    "testCase2.add(Bidirectional(LSTM(64, use_bias = True, bias_initializer = \"zeros\")))\n",
    "testCase2.add(Dropout(0.2))\n",
    "testCase2.add(Dense(3, activation = 'softmax', use_bias = True, bias_initializer = \"zeros\"))\n",
    "testCase2.compile(loss = 'sparse_categorical_crossentropy', optimizer = opt, metrics = ['accuracy'])\n",
    "print(testCase2.summary())"
   ]
  },
  {
   "cell_type": "code",
   "execution_count": 42,
   "id": "33698e9b",
   "metadata": {},
   "outputs": [
    {
     "name": "stdout",
     "output_type": "stream",
     "text": [
      "Epoch 1/10\n",
      "19/19 [==============================] - 1s 68ms/step - loss: 1.0526 - accuracy: 0.4571 - val_loss: 1.0166 - val_accuracy: 0.4330\n",
      "Epoch 2/10\n",
      "19/19 [==============================] - 0s 23ms/step - loss: 1.0090 - accuracy: 0.4439 - val_loss: 1.0068 - val_accuracy: 0.4521\n",
      "Epoch 3/10\n",
      "19/19 [==============================] - 0s 25ms/step - loss: 1.0007 - accuracy: 0.5264 - val_loss: 1.0003 - val_accuracy: 0.5364\n",
      "Epoch 4/10\n",
      "19/19 [==============================] - 1s 29ms/step - loss: 0.9924 - accuracy: 0.5396 - val_loss: 0.9922 - val_accuracy: 0.5134\n",
      "Epoch 5/10\n",
      "19/19 [==============================] - 0s 26ms/step - loss: 0.9773 - accuracy: 0.5281 - val_loss: 0.9829 - val_accuracy: 0.5364\n",
      "Epoch 6/10\n",
      "19/19 [==============================] - 0s 23ms/step - loss: 0.9594 - accuracy: 0.5644 - val_loss: 0.9713 - val_accuracy: 0.5441\n",
      "Epoch 7/10\n",
      "19/19 [==============================] - 0s 23ms/step - loss: 0.9439 - accuracy: 0.5611 - val_loss: 0.9630 - val_accuracy: 0.5211\n",
      "Epoch 8/10\n",
      "19/19 [==============================] - 0s 22ms/step - loss: 0.9259 - accuracy: 0.5743 - val_loss: 0.9500 - val_accuracy: 0.5402\n",
      "Epoch 9/10\n",
      "19/19 [==============================] - 0s 23ms/step - loss: 0.9019 - accuracy: 0.5842 - val_loss: 0.9569 - val_accuracy: 0.5249\n",
      "Epoch 10/10\n",
      "19/19 [==============================] - 0s 23ms/step - loss: 0.8936 - accuracy: 0.5842 - val_loss: 0.9385 - val_accuracy: 0.5364\n"
     ]
    },
    {
     "data": {
      "text/plain": [
       "<tensorflow.python.keras.callbacks.History at 0x2c0802c3f10>"
      ]
     },
     "execution_count": 42,
     "metadata": {},
     "output_type": "execute_result"
    }
   ],
   "source": [
    "testCase2.fit(X_train, Y_train, validation_data=(X_test, Y_test), epochs = 10, batch_size = 32)"
   ]
  },
  {
   "cell_type": "code",
   "execution_count": 43,
   "id": "1d903518",
   "metadata": {},
   "outputs": [],
   "source": [
    "Ypred1=np.argmax(testCase2.predict(X_test), axis=1)"
   ]
  },
  {
   "cell_type": "code",
   "execution_count": 44,
   "id": "1e117bd8",
   "metadata": {},
   "outputs": [
    {
     "name": "stdout",
     "output_type": "stream",
     "text": [
      "              precision    recall  f1-score   support\n",
      "\n",
      "           0       0.50      0.68      0.58       111\n",
      "           1       0.58      0.60      0.59       109\n",
      "           2       0.00      0.00      0.00        41\n",
      "\n",
      "    accuracy                           0.54       261\n",
      "   macro avg       0.36      0.42      0.39       261\n",
      "weighted avg       0.46      0.54      0.49       261\n",
      "\n"
     ]
    },
    {
     "name": "stderr",
     "output_type": "stream",
     "text": [
      "C:\\Users\\Maria Juliana\\anaconda3\\lib\\site-packages\\sklearn\\metrics\\_classification.py:1334: UndefinedMetricWarning: Precision and F-score are ill-defined and being set to 0.0 in labels with no predicted samples. Use `zero_division` parameter to control this behavior.\n",
      "  _warn_prf(average, modifier, msg_start, len(result))\n",
      "C:\\Users\\Maria Juliana\\anaconda3\\lib\\site-packages\\sklearn\\metrics\\_classification.py:1334: UndefinedMetricWarning: Precision and F-score are ill-defined and being set to 0.0 in labels with no predicted samples. Use `zero_division` parameter to control this behavior.\n",
      "  _warn_prf(average, modifier, msg_start, len(result))\n",
      "C:\\Users\\Maria Juliana\\anaconda3\\lib\\site-packages\\sklearn\\metrics\\_classification.py:1334: UndefinedMetricWarning: Precision and F-score are ill-defined and being set to 0.0 in labels with no predicted samples. Use `zero_division` parameter to control this behavior.\n",
      "  _warn_prf(average, modifier, msg_start, len(result))\n"
     ]
    }
   ],
   "source": [
    "print(classification_report(Y_test, Ypred1))"
   ]
  },
  {
   "cell_type": "code",
   "execution_count": 45,
   "id": "ceaf2e52",
   "metadata": {},
   "outputs": [],
   "source": [
    "def analyzeTestCase2(test):\n",
    "    onehot_repr_test = [one_hot (words, voc_size) for words in test] \n",
    "    print(onehot_repr_test)\n",
    "    sent_length = 40\n",
    "    embedded_docs_test = pad_sequences(onehot_repr_test, padding='pre', maxlen = sent_length)\n",
    "    #print(embedded_docs_test)\n",
    "    pred_test = np.argmax(testCase2.predict(embedded_docs_test), axis=1)\n",
    "\n",
    "    print(pred_test)\n",
    "    print('╔════════════════════════════════════════════╗')\n",
    "    if pred_test == 0:\n",
    "        print(' Input: ' + str(test[0]))\n",
    "        print(' Sentiment is Negative' )\n",
    "    elif pred_test == 1:\n",
    "        print(' Input: ' + str(test[0]))\n",
    "        print(' Sentiment is Neutral' )\n",
    "    else:\n",
    "        print(' Input: ' + str(test[0]))\n",
    "        print(' Sentiment is Positive' )\n",
    "    print('╚════════════════════════════════════════════╝')"
   ]
  },
  {
   "cell_type": "code",
   "execution_count": 46,
   "id": "8411b93a",
   "metadata": {},
   "outputs": [
    {
     "name": "stdout",
     "output_type": "stream",
     "text": [
      "[[11627, 2480, 9640, 10756, 397]]\n",
      "WARNING:tensorflow:Model was constructed with shape (None, 32) for input Tensor(\"embedding_3_input:0\", shape=(None, 32), dtype=float32), but it was called on an input with incompatible shape (None, 40).\n",
      "[0]\n",
      "╔════════════════════════════════════════════╗\n",
      " Input: slow internet. i am disappointed\n",
      " Sentiment is Negative\n",
      "╚════════════════════════════════════════════╝\n"
     ]
    }
   ],
   "source": [
    "analyzeTestCase2(['slow internet. i am disappointed'])"
   ]
  },
  {
   "cell_type": "code",
   "execution_count": 47,
   "id": "bc1660c9",
   "metadata": {},
   "outputs": [
    {
     "data": {
      "text/html": [
       "<div>\n",
       "<style scoped>\n",
       "    .dataframe tbody tr th:only-of-type {\n",
       "        vertical-align: middle;\n",
       "    }\n",
       "\n",
       "    .dataframe tbody tr th {\n",
       "        vertical-align: top;\n",
       "    }\n",
       "\n",
       "    .dataframe thead th {\n",
       "        text-align: right;\n",
       "    }\n",
       "</style>\n",
       "<table border=\"1\" class=\"dataframe\">\n",
       "  <thead>\n",
       "    <tr style=\"text-align: right;\">\n",
       "      <th></th>\n",
       "      <th>W</th>\n",
       "      <th>pval</th>\n",
       "      <th>normal</th>\n",
       "    </tr>\n",
       "  </thead>\n",
       "  <tbody>\n",
       "    <tr>\n",
       "      <th>Sentiment</th>\n",
       "      <td>0.783752</td>\n",
       "      <td>2.430401e-32</td>\n",
       "      <td>False</td>\n",
       "    </tr>\n",
       "  </tbody>\n",
       "</table>\n",
       "</div>"
      ],
      "text/plain": [
       "                  W          pval  normal\n",
       "Sentiment  0.783752  2.430401e-32   False"
      ]
     },
     "execution_count": 47,
     "metadata": {},
     "output_type": "execute_result"
    }
   ],
   "source": [
    "pg.normality(y)"
   ]
  },
  {
   "cell_type": "markdown",
   "id": "995057b6",
   "metadata": {},
   "source": [
    "## Test Case 3: Balanced Dataset with Two Sentiment Classes (Neutral & Negative)"
   ]
  },
  {
   "cell_type": "code",
   "execution_count": 48,
   "id": "71bbf0fd",
   "metadata": {},
   "outputs": [],
   "source": [
    "negative_50 = negative_complete.iloc[:1593]\n",
    "neutral_50 = neutral_complete.iloc[:1593]\n",
    "internet_50 = pd.concat([negative_50, neutral_50], axis=0).reset_index()"
   ]
  },
  {
   "cell_type": "code",
   "execution_count": 49,
   "id": "71001712",
   "metadata": {},
   "outputs": [],
   "source": [
    "internet_50['Length'] = [len(x.split()) for x in internet_50['Lemmatize'].tolist()]"
   ]
  },
  {
   "cell_type": "code",
   "execution_count": 50,
   "id": "aedf93b8",
   "metadata": {},
   "outputs": [],
   "source": [
    "corpus = internet_50['Lemmatize']"
   ]
  },
  {
   "cell_type": "code",
   "execution_count": 51,
   "id": "d889fcc0",
   "metadata": {},
   "outputs": [],
   "source": [
    "onehot_repr=[one_hot (words, voc_size) for words in corpus] "
   ]
  },
  {
   "cell_type": "code",
   "execution_count": 52,
   "id": "ed8f4c18",
   "metadata": {},
   "outputs": [],
   "source": [
    "sent_length = 36\n",
    "embedded_docs=pad_sequences(onehot_repr, padding='pre', maxlen=sent_length)"
   ]
  },
  {
   "cell_type": "code",
   "execution_count": 53,
   "id": "cafd7d28",
   "metadata": {},
   "outputs": [],
   "source": [
    "y = internet_50['Sentiment']"
   ]
  },
  {
   "cell_type": "code",
   "execution_count": 54,
   "id": "4bd13268",
   "metadata": {},
   "outputs": [],
   "source": [
    "X_final=np.array(embedded_docs)\n",
    "Y_final=np.array(y)"
   ]
  },
  {
   "cell_type": "code",
   "execution_count": 55,
   "id": "e773cc92",
   "metadata": {},
   "outputs": [],
   "source": [
    "X_train, X_test, Y_train, Y_test = train_test_split(X_final, Y_final, test_size=0.30, shuffle=True, random_state=42)"
   ]
  },
  {
   "cell_type": "markdown",
   "id": "911fbcc0",
   "metadata": {},
   "source": [
    "### Default BILSTM"
   ]
  },
  {
   "cell_type": "code",
   "execution_count": 56,
   "id": "3a797d03",
   "metadata": {},
   "outputs": [
    {
     "name": "stdout",
     "output_type": "stream",
     "text": [
      "Model: \"sequential_4\"\n",
      "_________________________________________________________________\n",
      "Layer (type)                 Output Shape              Param #   \n",
      "=================================================================\n",
      "embedding_4 (Embedding)      (None, 36, 36)            468000    \n",
      "_________________________________________________________________\n",
      "bidirectional_4 (Bidirection (None, 256)               168960    \n",
      "_________________________________________________________________\n",
      "dense_4 (Dense)              (None, 2)                 514       \n",
      "=================================================================\n",
      "Total params: 637,474\n",
      "Trainable params: 637,474\n",
      "Non-trainable params: 0\n",
      "_________________________________________________________________\n",
      "None\n"
     ]
    }
   ],
   "source": [
    "opt = Adam(learning_rate=0.001, decay=1e-6)\n",
    "embedding_vector_features=36\n",
    "defaultTestCase3=Sequential()\n",
    "defaultTestCase3.add(Embedding(voc_size, embedding_vector_features, input_length=sent_length))\n",
    "defaultTestCase3.add(Bidirectional(LSTM(128)))\n",
    "defaultTestCase3.add(Dense(2, activation='sigmoid'))\n",
    "defaultTestCase3.compile(loss='sparse_categorical_crossentropy', optimizer='adam', metrics=['accuracy'])\n",
    "print(defaultTestCase3.summary())"
   ]
  },
  {
   "cell_type": "code",
   "execution_count": 57,
   "id": "d4ca00d7",
   "metadata": {},
   "outputs": [
    {
     "name": "stdout",
     "output_type": "stream",
     "text": [
      "Epoch 1/10\n",
      "47/47 [==============================] - 3s 72ms/step - loss: 0.5828 - accuracy: 0.7546 - val_loss: 0.5595 - val_accuracy: 0.7476\n",
      "Epoch 2/10\n",
      "47/47 [==============================] - 2s 52ms/step - loss: 0.5122 - accuracy: 0.7566 - val_loss: 0.4693 - val_accuracy: 0.7713\n",
      "Epoch 3/10\n",
      "47/47 [==============================] - 2s 50ms/step - loss: 0.3726 - accuracy: 0.8296 - val_loss: 0.4055 - val_accuracy: 0.8139\n",
      "Epoch 4/10\n",
      "47/47 [==============================] - 2s 48ms/step - loss: 0.2384 - accuracy: 0.9080 - val_loss: 0.4293 - val_accuracy: 0.8091\n",
      "Epoch 5/10\n",
      "47/47 [==============================] - 2s 48ms/step - loss: 0.1643 - accuracy: 0.9331 - val_loss: 0.4759 - val_accuracy: 0.7902\n",
      "Epoch 6/10\n",
      "47/47 [==============================] - 3s 57ms/step - loss: 0.1074 - accuracy: 0.9635 - val_loss: 0.5545 - val_accuracy: 0.8013\n",
      "Epoch 7/10\n",
      "47/47 [==============================] - 3s 54ms/step - loss: 0.0735 - accuracy: 0.9770 - val_loss: 0.6296 - val_accuracy: 0.8028\n",
      "Epoch 8/10\n",
      "47/47 [==============================] - 2s 53ms/step - loss: 0.0651 - accuracy: 0.9811 - val_loss: 0.6126 - val_accuracy: 0.8013\n",
      "Epoch 9/10\n",
      "47/47 [==============================] - 3s 53ms/step - loss: 0.0454 - accuracy: 0.9865 - val_loss: 0.6893 - val_accuracy: 0.7886\n",
      "Epoch 10/10\n",
      "47/47 [==============================] - 3s 63ms/step - loss: 0.0553 - accuracy: 0.9784 - val_loss: 0.6771 - val_accuracy: 0.7950\n"
     ]
    },
    {
     "data": {
      "text/plain": [
       "<tensorflow.python.keras.callbacks.History at 0x2c0886d26d0>"
      ]
     },
     "execution_count": 57,
     "metadata": {},
     "output_type": "execute_result"
    }
   ],
   "source": [
    "defaultTestCase3.fit(X_train, Y_train, validation_data=(X_test, Y_test), epochs = 10, batch_size = 32)"
   ]
  },
  {
   "cell_type": "code",
   "execution_count": 58,
   "id": "625668a1",
   "metadata": {},
   "outputs": [],
   "source": [
    "Ypred=np.argmax(defaultTestCase3.predict(X_test), axis=1)"
   ]
  },
  {
   "cell_type": "code",
   "execution_count": 59,
   "id": "f7fb52c7",
   "metadata": {},
   "outputs": [
    {
     "data": {
      "text/plain": [
       "array([[419,  55],\n",
       "       [ 75,  85]], dtype=int64)"
      ]
     },
     "execution_count": 59,
     "metadata": {},
     "output_type": "execute_result"
    }
   ],
   "source": [
    "confusion_matrix(Y_test, Ypred)"
   ]
  },
  {
   "cell_type": "code",
   "execution_count": 60,
   "id": "47443e36",
   "metadata": {},
   "outputs": [
    {
     "name": "stdout",
     "output_type": "stream",
     "text": [
      "              precision    recall  f1-score   support\n",
      "\n",
      "           0       0.85      0.88      0.87       474\n",
      "           1       0.61      0.53      0.57       160\n",
      "\n",
      "    accuracy                           0.79       634\n",
      "   macro avg       0.73      0.71      0.72       634\n",
      "weighted avg       0.79      0.79      0.79       634\n",
      "\n"
     ]
    }
   ],
   "source": [
    "print(classification_report(Y_test, Ypred))"
   ]
  },
  {
   "cell_type": "markdown",
   "id": "b440770a",
   "metadata": {},
   "source": [
    "### Tuned BILSTM"
   ]
  },
  {
   "cell_type": "code",
   "execution_count": 61,
   "id": "b97fb072",
   "metadata": {},
   "outputs": [
    {
     "name": "stdout",
     "output_type": "stream",
     "text": [
      "Model: \"sequential_5\"\n",
      "_________________________________________________________________\n",
      "Layer (type)                 Output Shape              Param #   \n",
      "=================================================================\n",
      "embedding_5 (Embedding)      (None, 36, 36)            468000    \n",
      "_________________________________________________________________\n",
      "bidirectional_5 (Bidirection (None, 128)               51712     \n",
      "_________________________________________________________________\n",
      "dropout_2 (Dropout)          (None, 128)               0         \n",
      "_________________________________________________________________\n",
      "dense_5 (Dense)              (None, 2)                 258       \n",
      "=================================================================\n",
      "Total params: 519,970\n",
      "Trainable params: 519,970\n",
      "Non-trainable params: 0\n",
      "_________________________________________________________________\n",
      "None\n"
     ]
    }
   ],
   "source": [
    "opt = Adamax(learning_rate = 0.001, epsilon = 1e-07, beta_1 = 0.9)\n",
    "embedding_vector_features = 36\n",
    "testCase3=Sequential()\n",
    "testCase3.add(Embedding(voc_size, embedding_vector_features, input_length=sent_length))\n",
    "testCase3.add(Bidirectional(LSTM(64, use_bias = True, bias_initializer = \"zeros\")))\n",
    "testCase3.add(Dropout(0.2))\n",
    "testCase3.add(Dense(2, activation = 'softmax', use_bias = True, bias_initializer = \"zeros\"))\n",
    "testCase3.compile(loss = 'sparse_categorical_crossentropy', optimizer = opt, metrics = ['accuracy'])\n",
    "print(testCase3.summary())"
   ]
  },
  {
   "cell_type": "code",
   "execution_count": 62,
   "id": "9be9844a",
   "metadata": {},
   "outputs": [
    {
     "name": "stdout",
     "output_type": "stream",
     "text": [
      "Epoch 1/10\n",
      "47/47 [==============================] - 2s 42ms/step - loss: 0.5922 - accuracy: 0.7485 - val_loss: 0.5675 - val_accuracy: 0.7476\n",
      "Epoch 2/10\n",
      "47/47 [==============================] - 1s 24ms/step - loss: 0.5505 - accuracy: 0.7566 - val_loss: 0.5497 - val_accuracy: 0.7476\n",
      "Epoch 3/10\n",
      "47/47 [==============================] - 1s 28ms/step - loss: 0.5148 - accuracy: 0.7566 - val_loss: 0.5100 - val_accuracy: 0.7476\n",
      "Epoch 4/10\n",
      "47/47 [==============================] - 1s 28ms/step - loss: 0.4871 - accuracy: 0.7566 - val_loss: 0.4985 - val_accuracy: 0.7476\n",
      "Epoch 5/10\n",
      "47/47 [==============================] - 1s 26ms/step - loss: 0.4720 - accuracy: 0.7566 - val_loss: 0.4836 - val_accuracy: 0.7476\n",
      "Epoch 6/10\n",
      "47/47 [==============================] - 1s 28ms/step - loss: 0.4534 - accuracy: 0.7681 - val_loss: 0.4778 - val_accuracy: 0.7855\n",
      "Epoch 7/10\n",
      "47/47 [==============================] - 1s 26ms/step - loss: 0.4366 - accuracy: 0.7667 - val_loss: 0.4555 - val_accuracy: 0.7744\n",
      "Epoch 8/10\n",
      "47/47 [==============================] - 1s 27ms/step - loss: 0.4117 - accuracy: 0.7782 - val_loss: 0.4433 - val_accuracy: 0.7950\n",
      "Epoch 9/10\n",
      "47/47 [==============================] - 1s 28ms/step - loss: 0.3943 - accuracy: 0.8161 - val_loss: 0.4323 - val_accuracy: 0.7950\n",
      "Epoch 10/10\n",
      "47/47 [==============================] - 1s 26ms/step - loss: 0.3720 - accuracy: 0.8316 - val_loss: 0.4373 - val_accuracy: 0.8044\n"
     ]
    },
    {
     "data": {
      "text/plain": [
       "<tensorflow.python.keras.callbacks.History at 0x2c089186e20>"
      ]
     },
     "execution_count": 62,
     "metadata": {},
     "output_type": "execute_result"
    }
   ],
   "source": [
    "testCase3.fit(X_train, Y_train, validation_data=(X_test, Y_test), epochs = 10, batch_size = 32)"
   ]
  },
  {
   "cell_type": "code",
   "execution_count": 63,
   "id": "4b8bfb8e",
   "metadata": {},
   "outputs": [],
   "source": [
    "Ypred1=np.argmax(testCase3.predict(X_test), axis=1)"
   ]
  },
  {
   "cell_type": "code",
   "execution_count": 64,
   "id": "52ff4cbe",
   "metadata": {},
   "outputs": [
    {
     "data": {
      "text/plain": [
       "array([[468,   6],\n",
       "       [118,  42]], dtype=int64)"
      ]
     },
     "execution_count": 64,
     "metadata": {},
     "output_type": "execute_result"
    }
   ],
   "source": [
    "confusion_matrix(Y_test, Ypred1)"
   ]
  },
  {
   "cell_type": "code",
   "execution_count": 65,
   "id": "56458dc9",
   "metadata": {},
   "outputs": [
    {
     "name": "stdout",
     "output_type": "stream",
     "text": [
      "              precision    recall  f1-score   support\n",
      "\n",
      "           0       0.80      0.99      0.88       474\n",
      "           1       0.88      0.26      0.40       160\n",
      "\n",
      "    accuracy                           0.80       634\n",
      "   macro avg       0.84      0.62      0.64       634\n",
      "weighted avg       0.82      0.80      0.76       634\n",
      "\n"
     ]
    }
   ],
   "source": [
    "print(classification_report(Y_test, Ypred1))"
   ]
  },
  {
   "cell_type": "code",
   "execution_count": 66,
   "id": "80774fae",
   "metadata": {},
   "outputs": [],
   "source": [
    "def analyzeTestCase3(test):\n",
    "    onehot_repr_test = [one_hot (words, voc_size) for words in test] \n",
    "    print(onehot_repr_test)\n",
    "    sent_length = 40\n",
    "    embedded_docs_test = pad_sequences(onehot_repr_test, padding='pre', maxlen = sent_length)\n",
    "    #print(embedded_docs_test)\n",
    "    pred_test = np.argmax(testCase3.predict(embedded_docs_test), axis=1)\n",
    "\n",
    "    print(pred_test)\n",
    "    print('╔════════════════════════════════════════════╗')\n",
    "    if pred_test == 0:\n",
    "        print(' Input: ' + str(test[0]))\n",
    "        print(' Sentiment is Negative' )\n",
    "    elif pred_test == 1:\n",
    "        print(' Input: ' + str(test[0]))\n",
    "        print(' Sentiment is Neutral' )\n",
    "    else:\n",
    "        print(' Input: ' + str(test[0]))\n",
    "        print(' Sentiment is Positive' )\n",
    "    print('╚════════════════════════════════════════════╝')"
   ]
  },
  {
   "cell_type": "code",
   "execution_count": 67,
   "id": "67dc6834",
   "metadata": {},
   "outputs": [
    {
     "name": "stdout",
     "output_type": "stream",
     "text": [
      "[[11627, 2480, 9640, 10756, 397]]\n",
      "WARNING:tensorflow:Model was constructed with shape (None, 36) for input Tensor(\"embedding_5_input:0\", shape=(None, 36), dtype=float32), but it was called on an input with incompatible shape (None, 40).\n",
      "[0]\n",
      "╔════════════════════════════════════════════╗\n",
      " Input: slow internet. i am disappointed\n",
      " Sentiment is Negative\n",
      "╚════════════════════════════════════════════╝\n"
     ]
    }
   ],
   "source": [
    "analyzeTestCase3(['slow internet. i am disappointed'])"
   ]
  },
  {
   "cell_type": "code",
   "execution_count": 72,
   "id": "476cdf6b",
   "metadata": {},
   "outputs": [
    {
     "data": {
      "text/html": [
       "<div>\n",
       "<style scoped>\n",
       "    .dataframe tbody tr th:only-of-type {\n",
       "        vertical-align: middle;\n",
       "    }\n",
       "\n",
       "    .dataframe tbody tr th {\n",
       "        vertical-align: top;\n",
       "    }\n",
       "\n",
       "    .dataframe thead th {\n",
       "        text-align: right;\n",
       "    }\n",
       "</style>\n",
       "<table border=\"1\" class=\"dataframe\">\n",
       "  <thead>\n",
       "    <tr style=\"text-align: right;\">\n",
       "      <th></th>\n",
       "      <th>W</th>\n",
       "      <th>pval</th>\n",
       "      <th>normal</th>\n",
       "    </tr>\n",
       "  </thead>\n",
       "  <tbody>\n",
       "    <tr>\n",
       "      <th>Sentiment</th>\n",
       "      <td>0.535187</td>\n",
       "      <td>0.0</td>\n",
       "      <td>False</td>\n",
       "    </tr>\n",
       "  </tbody>\n",
       "</table>\n",
       "</div>"
      ],
      "text/plain": [
       "                  W  pval  normal\n",
       "Sentiment  0.535187   0.0   False"
      ]
     },
     "execution_count": 72,
     "metadata": {},
     "output_type": "execute_result"
    }
   ],
   "source": [
    "pg.normality(y)"
   ]
  }
 ],
 "metadata": {
  "kernelspec": {
   "display_name": "Python 3",
   "language": "python",
   "name": "python3"
  },
  "language_info": {
   "codemirror_mode": {
    "name": "ipython",
    "version": 3
   },
   "file_extension": ".py",
   "mimetype": "text/x-python",
   "name": "python",
   "nbconvert_exporter": "python",
   "pygments_lexer": "ipython3",
   "version": "3.8.8"
  }
 },
 "nbformat": 4,
 "nbformat_minor": 5
}
