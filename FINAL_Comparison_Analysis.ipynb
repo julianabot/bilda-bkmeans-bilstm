{
 "cells": [
  {
   "cell_type": "code",
   "execution_count": 1,
   "id": "02d87793",
   "metadata": {},
   "outputs": [],
   "source": [
    "import pandas as pd\n",
    "import numpy as np\n",
    "import scipy\n",
    "import seaborn as sns"
   ]
  },
  {
   "cell_type": "markdown",
   "id": "1e4d63e9",
   "metadata": {},
   "source": [
    "# Dataset for All Data and Clusters"
   ]
  },
  {
   "cell_type": "code",
   "execution_count": 42,
   "id": "ed173d3b",
   "metadata": {
    "scrolled": true
   },
   "outputs": [],
   "source": [
    "accuracy = pd.read_csv(\"./CSV/ACCURACY - Test Case 1.csv\")"
   ]
  },
  {
   "cell_type": "code",
   "execution_count": 43,
   "id": "4843d6b3",
   "metadata": {},
   "outputs": [],
   "source": [
    "f1score = pd.read_csv(\"./CSV/F1-SCORE - Test Case 1.csv\")"
   ]
  },
  {
   "cell_type": "code",
   "execution_count": 44,
   "id": "6ef68596",
   "metadata": {},
   "outputs": [],
   "source": [
    "precision = pd.read_csv(\"./CSV/PRECISION - Test Case 1.csv\")"
   ]
  },
  {
   "cell_type": "code",
   "execution_count": 45,
   "id": "80ce88d5",
   "metadata": {},
   "outputs": [],
   "source": [
    "recall = pd.read_csv(\"./CSV/RECALL - Test Case 1.csv\")"
   ]
  },
  {
   "cell_type": "code",
   "execution_count": 46,
   "id": "69c025ac",
   "metadata": {},
   "outputs": [],
   "source": [
    "accuracy_0 = accuracy.query(\"cluster == 0\").reset_index()\n",
    "accuracy_1 = accuracy.query(\"cluster == 1\").reset_index()\n",
    "accuracy_2 = accuracy.query(\"cluster == 2\").reset_index()\n",
    "accuracy_3 = accuracy.query(\"cluster == 3\").reset_index()\n",
    "\n",
    "\n",
    "f1score_0 = f1score.query(\"cluster == 0\").reset_index()\n",
    "f1score_1 = f1score.query(\"cluster == 1\").reset_index()\n",
    "f1score_2 = f1score.query(\"cluster == 2\").reset_index()\n",
    "f1score_3 = f1score.query(\"cluster == 3\").reset_index()\n",
    "\n",
    "\n",
    "precision_0 = precision.query(\"cluster == 0\").reset_index()\n",
    "precision_1 = precision.query(\"cluster == 1\").reset_index()\n",
    "precision_2 = precision.query(\"cluster == 2\").reset_index()\n",
    "precision_3 = precision.query(\"cluster == 3\").reset_index()\n",
    "\n",
    "recall_0 = recall.query(\"cluster == 0\").reset_index()\n",
    "recall_1 = recall.query(\"cluster == 1\").reset_index()\n",
    "recall_2 = recall.query(\"cluster == 2\").reset_index()\n",
    "recall_3 = recall.query(\"cluster == 3\").reset_index()"
   ]
  },
  {
   "cell_type": "markdown",
   "id": "f33a5150",
   "metadata": {},
   "source": [
    "# Dataset for Test Case 2 and 3"
   ]
  },
  {
   "cell_type": "code",
   "execution_count": 33,
   "id": "85992926",
   "metadata": {},
   "outputs": [],
   "source": [
    "#Test Case 2\n",
    "accuracy_tc2 = pd.read_csv(\"./CSV/ACCURACY - Test Case 2.csv\")\n",
    "f1score_tc2 = pd.read_csv(\"./CSV/F1-SCORE - Test Case 2.csv\")\n",
    "precision_tc2 = pd.read_csv(\"./CSV/PRECISION - Test Case 2.csv\")\n",
    "recall_tc2 = pd.read_csv(\"./CSV/RECALL - Test Case 2.csv\")\n",
    "\n",
    "#Test Case 3\n",
    "accuracy_tc3 = pd.read_csv(\"./CSV/ACCURACY - Test Case 3.csv\")\n",
    "f1score_tc3 = pd.read_csv(\"./CSV/F1-SCORE - Test Case 3.csv\")\n",
    "precision_tc3 = pd.read_csv(\"./CSV/PRECISION - Test Case 3.csv\")\n",
    "recall_tc3 = pd.read_csv(\"./CSV/RECALL - Test Case 3.csv\")"
   ]
  },
  {
   "cell_type": "markdown",
   "id": "30606cbf",
   "metadata": {},
   "source": [
    "#### significance level = 0.05\n",
    "#### The lower the p-value, the greater the statistical significance of the observed difference. \n",
    "#### A p-value of 0.05 or lower is generally considered statistically significant. "
   ]
  },
  {
   "cell_type": "markdown",
   "id": "4cfaf75f",
   "metadata": {},
   "source": [
    "# Analysis for All Clusters"
   ]
  },
  {
   "cell_type": "markdown",
   "id": "11411ffc",
   "metadata": {},
   "source": [
    "## Accuracy"
   ]
  },
  {
   "cell_type": "code",
   "execution_count": 47,
   "id": "4bef2658",
   "metadata": {},
   "outputs": [
    {
     "data": {
      "text/plain": [
       "WilcoxonResult(statistic=0.0, pvalue=0.0625)"
      ]
     },
     "execution_count": 47,
     "metadata": {},
     "output_type": "execute_result"
    }
   ],
   "source": [
    "scipy.stats.wilcoxon(accuracy_0['default'], accuracy_0['tuned'])"
   ]
  },
  {
   "cell_type": "code",
   "execution_count": 48,
   "id": "73e4b701",
   "metadata": {},
   "outputs": [],
   "source": [
    "# scipy.stats.wilcoxon(accuracy_1['default'], accuracy_1['tuned'])"
   ]
  },
  {
   "cell_type": "code",
   "execution_count": 49,
   "id": "c53da77b",
   "metadata": {},
   "outputs": [
    {
     "data": {
      "text/plain": [
       "WilcoxonResult(statistic=0.0, pvalue=0.05878172135535886)"
      ]
     },
     "execution_count": 49,
     "metadata": {},
     "output_type": "execute_result"
    }
   ],
   "source": [
    "scipy.stats.wilcoxon(accuracy_2['default'], accuracy_2['tuned'])"
   ]
  },
  {
   "cell_type": "code",
   "execution_count": 50,
   "id": "29ff61e2",
   "metadata": {},
   "outputs": [
    {
     "data": {
      "text/plain": [
       "WilcoxonResult(statistic=0.0, pvalue=0.0625)"
      ]
     },
     "execution_count": 50,
     "metadata": {},
     "output_type": "execute_result"
    }
   ],
   "source": [
    "scipy.stats.wilcoxon(accuracy_3['default'], accuracy_3['tuned'])"
   ]
  },
  {
   "cell_type": "markdown",
   "id": "24c8077c",
   "metadata": {},
   "source": [
    "## Precision"
   ]
  },
  {
   "cell_type": "code",
   "execution_count": 51,
   "id": "b26a63a0",
   "metadata": {},
   "outputs": [
    {
     "data": {
      "text/plain": [
       "WilcoxonResult(statistic=0.0, pvalue=0.003314452996697005)"
      ]
     },
     "execution_count": 51,
     "metadata": {},
     "output_type": "execute_result"
    }
   ],
   "source": [
    "scipy.stats.wilcoxon(precision_0['default'], precision_0['tuned'])"
   ]
  },
  {
   "cell_type": "code",
   "execution_count": 52,
   "id": "6d0edb95",
   "metadata": {},
   "outputs": [],
   "source": [
    "# scipy.stats.wilcoxon(precision_1['default'], precision_1['tuned'])"
   ]
  },
  {
   "cell_type": "code",
   "execution_count": 14,
   "id": "3b7b52a5",
   "metadata": {},
   "outputs": [
    {
     "data": {
      "text/plain": [
       "WilcoxonResult(statistic=0.0, pvalue=6.103515625e-05)"
      ]
     },
     "execution_count": 14,
     "metadata": {},
     "output_type": "execute_result"
    }
   ],
   "source": [
    "scipy.stats.wilcoxon(precision_2['default'], precision_2['tuned'])"
   ]
  },
  {
   "cell_type": "code",
   "execution_count": 53,
   "id": "43c5c115",
   "metadata": {},
   "outputs": [
    {
     "data": {
      "text/plain": [
       "WilcoxonResult(statistic=40.5, pvalue=0.7265272954412638)"
      ]
     },
     "execution_count": 53,
     "metadata": {},
     "output_type": "execute_result"
    }
   ],
   "source": [
    "scipy.stats.wilcoxon(precision_3['default'], precision_3['tuned'])"
   ]
  },
  {
   "cell_type": "markdown",
   "id": "161e23af",
   "metadata": {},
   "source": [
    "## Recall"
   ]
  },
  {
   "cell_type": "code",
   "execution_count": 54,
   "id": "54b5f1b1",
   "metadata": {},
   "outputs": [
    {
     "data": {
      "text/plain": [
       "WilcoxonResult(statistic=14.0, pvalue=0.1685302345363282)"
      ]
     },
     "execution_count": 54,
     "metadata": {},
     "output_type": "execute_result"
    }
   ],
   "source": [
    "scipy.stats.wilcoxon(recall_0['default'], recall_0['tuned'])"
   ]
  },
  {
   "cell_type": "code",
   "execution_count": 55,
   "id": "74ab0485",
   "metadata": {},
   "outputs": [
    {
     "data": {
      "text/plain": [
       "WilcoxonResult(statistic=1.0, pvalue=0.6547208460185769)"
      ]
     },
     "execution_count": 55,
     "metadata": {},
     "output_type": "execute_result"
    }
   ],
   "source": [
    "scipy.stats.wilcoxon(recall_1['default'], recall_1['tuned'])"
   ]
  },
  {
   "cell_type": "code",
   "execution_count": 56,
   "id": "12503af8",
   "metadata": {},
   "outputs": [
    {
     "data": {
      "text/plain": [
       "WilcoxonResult(statistic=15.0, pvalue=0.018508823031333697)"
      ]
     },
     "execution_count": 56,
     "metadata": {},
     "output_type": "execute_result"
    }
   ],
   "source": [
    "scipy.stats.wilcoxon(recall_2['default'], recall_2['tuned'])"
   ]
  },
  {
   "cell_type": "code",
   "execution_count": 57,
   "id": "1942c15f",
   "metadata": {},
   "outputs": [
    {
     "data": {
      "text/plain": [
       "WilcoxonResult(statistic=48.0, pvalue=0.52447509765625)"
      ]
     },
     "execution_count": 57,
     "metadata": {},
     "output_type": "execute_result"
    }
   ],
   "source": [
    "scipy.stats.wilcoxon(recall_3['default'], recall_3['tuned'])"
   ]
  },
  {
   "cell_type": "markdown",
   "id": "f7f16c95",
   "metadata": {},
   "source": [
    "## F-Measure"
   ]
  },
  {
   "cell_type": "code",
   "execution_count": 58,
   "id": "118be424",
   "metadata": {},
   "outputs": [
    {
     "data": {
      "text/plain": [
       "WilcoxonResult(statistic=1.0, pvalue=0.006765464581453006)"
      ]
     },
     "execution_count": 58,
     "metadata": {},
     "output_type": "execute_result"
    }
   ],
   "source": [
    "scipy.stats.wilcoxon(f1score_0['default'], f1score_0['tuned'])"
   ]
  },
  {
   "cell_type": "code",
   "execution_count": 23,
   "id": "263d295d",
   "metadata": {},
   "outputs": [],
   "source": [
    "# scipy.stats.wilcoxon(f1score_1['default'], f1score_1['tuned'])"
   ]
  },
  {
   "cell_type": "code",
   "execution_count": 59,
   "id": "3846f47f",
   "metadata": {},
   "outputs": [
    {
     "data": {
      "text/plain": [
       "WilcoxonResult(statistic=0.0, pvalue=0.0014346332139310062)"
      ]
     },
     "execution_count": 59,
     "metadata": {},
     "output_type": "execute_result"
    }
   ],
   "source": [
    "scipy.stats.wilcoxon(f1score_2['default'], f1score_2['tuned'])"
   ]
  },
  {
   "cell_type": "code",
   "execution_count": 60,
   "id": "57b58931",
   "metadata": {},
   "outputs": [
    {
     "data": {
      "text/plain": [
       "WilcoxonResult(statistic=52.0, pvalue=0.9749042443571188)"
      ]
     },
     "execution_count": 60,
     "metadata": {},
     "output_type": "execute_result"
    }
   ],
   "source": [
    "scipy.stats.wilcoxon(f1score_3['default'], f1score_3['tuned'])"
   ]
  },
  {
   "cell_type": "markdown",
   "id": "f6db50b6",
   "metadata": {},
   "source": [
    "# Analysis for Test Case 1"
   ]
  },
  {
   "cell_type": "code",
   "execution_count": 61,
   "id": "db9cd4ad",
   "metadata": {},
   "outputs": [
    {
     "data": {
      "text/plain": [
       "WilcoxonResult(statistic=46.5, pvalue=0.7054569861112734)"
      ]
     },
     "execution_count": 61,
     "metadata": {},
     "output_type": "execute_result"
    }
   ],
   "source": [
    "scipy.stats.wilcoxon(accuracy['default'], accuracy['tuned'])"
   ]
  },
  {
   "cell_type": "code",
   "execution_count": 62,
   "id": "dfcda472",
   "metadata": {},
   "outputs": [
    {
     "data": {
      "text/plain": [
       "WilcoxonResult(statistic=87.5, pvalue=2.4169872395290663e-05)"
      ]
     },
     "execution_count": 62,
     "metadata": {},
     "output_type": "execute_result"
    }
   ],
   "source": [
    "scipy.stats.wilcoxon(precision['default'], precision['tuned'])"
   ]
  },
  {
   "cell_type": "code",
   "execution_count": 63,
   "id": "646d33b2",
   "metadata": {},
   "outputs": [
    {
     "data": {
      "text/plain": [
       "WilcoxonResult(statistic=210.0, pvalue=0.004266321465524578)"
      ]
     },
     "execution_count": 63,
     "metadata": {},
     "output_type": "execute_result"
    }
   ],
   "source": [
    "scipy.stats.wilcoxon(recall['default'], recall['tuned'])"
   ]
  },
  {
   "cell_type": "code",
   "execution_count": 64,
   "id": "7c78ca9a",
   "metadata": {},
   "outputs": [
    {
     "data": {
      "text/plain": [
       "WilcoxonResult(statistic=108.5, pvalue=0.000243405583421208)"
      ]
     },
     "execution_count": 64,
     "metadata": {},
     "output_type": "execute_result"
    }
   ],
   "source": [
    "scipy.stats.wilcoxon(f1score['default'], f1score['tuned'])"
   ]
  },
  {
   "cell_type": "markdown",
   "id": "515be1b6",
   "metadata": {},
   "source": [
    "# Analysis for Test Case 2"
   ]
  },
  {
   "cell_type": "code",
   "execution_count": 65,
   "id": "2d949032",
   "metadata": {},
   "outputs": [
    {
     "data": {
      "text/plain": [
       "WilcoxonResult(statistic=2.0, pvalue=0.1875)"
      ]
     },
     "execution_count": 65,
     "metadata": {},
     "output_type": "execute_result"
    }
   ],
   "source": [
    "scipy.stats.wilcoxon(accuracy_tc2['default'], accuracy_tc2['tuned'])"
   ]
  },
  {
   "cell_type": "code",
   "execution_count": 66,
   "id": "7c69a493",
   "metadata": {},
   "outputs": [
    {
     "data": {
      "text/plain": [
       "WilcoxonResult(statistic=30.5, pvalue=0.16704434667033385)"
      ]
     },
     "execution_count": 66,
     "metadata": {},
     "output_type": "execute_result"
    }
   ],
   "source": [
    "scipy.stats.wilcoxon(precision_tc2['default'], precision_tc2['tuned'])"
   ]
  },
  {
   "cell_type": "code",
   "execution_count": 67,
   "id": "a2bd4dbe",
   "metadata": {},
   "outputs": [
    {
     "data": {
      "text/plain": [
       "WilcoxonResult(statistic=39.0, pvalue=0.39602724765685593)"
      ]
     },
     "execution_count": 67,
     "metadata": {},
     "output_type": "execute_result"
    }
   ],
   "source": [
    "scipy.stats.wilcoxon(recall_tc2['default'], recall_tc2['tuned'])"
   ]
  },
  {
   "cell_type": "code",
   "execution_count": 68,
   "id": "7bf57735",
   "metadata": {},
   "outputs": [
    {
     "data": {
      "text/plain": [
       "WilcoxonResult(statistic=24.0, pvalue=0.041259765625)"
      ]
     },
     "execution_count": 68,
     "metadata": {},
     "output_type": "execute_result"
    }
   ],
   "source": [
    "scipy.stats.wilcoxon(f1score_tc2['default'], f1score_tc2['tuned'])"
   ]
  },
  {
   "cell_type": "markdown",
   "id": "336a2512",
   "metadata": {},
   "source": [
    "# Analysis for Test Case 3"
   ]
  },
  {
   "cell_type": "code",
   "execution_count": 69,
   "id": "4449bd8d",
   "metadata": {},
   "outputs": [
    {
     "data": {
      "text/plain": [
       "WilcoxonResult(statistic=0.0, pvalue=0.0625)"
      ]
     },
     "execution_count": 69,
     "metadata": {},
     "output_type": "execute_result"
    }
   ],
   "source": [
    "scipy.stats.wilcoxon(accuracy_tc3['default'], accuracy_tc3['tuned'])"
   ]
  },
  {
   "cell_type": "code",
   "execution_count": 70,
   "id": "b08f8684",
   "metadata": {},
   "outputs": [
    {
     "data": {
      "text/plain": [
       "WilcoxonResult(statistic=20.5, pvalue=0.4921875)"
      ]
     },
     "execution_count": 70,
     "metadata": {},
     "output_type": "execute_result"
    }
   ],
   "source": [
    "scipy.stats.wilcoxon(precision_tc3['default'], precision_tc3['tuned'])"
   ]
  },
  {
   "cell_type": "code",
   "execution_count": 71,
   "id": "5d92b240",
   "metadata": {},
   "outputs": [
    {
     "data": {
      "text/plain": [
       "WilcoxonResult(statistic=22.0, pvalue=0.625)"
      ]
     },
     "execution_count": 71,
     "metadata": {},
     "output_type": "execute_result"
    }
   ],
   "source": [
    "scipy.stats.wilcoxon(recall_tc3['default'], recall_tc3['tuned'])"
   ]
  },
  {
   "cell_type": "code",
   "execution_count": 72,
   "id": "80418449",
   "metadata": {},
   "outputs": [
    {
     "data": {
      "text/plain": [
       "WilcoxonResult(statistic=10.0, pvalue=0.24135638605449417)"
      ]
     },
     "execution_count": 72,
     "metadata": {},
     "output_type": "execute_result"
    }
   ],
   "source": [
    "scipy.stats.wilcoxon(f1score_tc3['default'], f1score_tc3['tuned'])"
   ]
  }
 ],
 "metadata": {
  "kernelspec": {
   "display_name": "Python 3",
   "language": "python",
   "name": "python3"
  },
  "language_info": {
   "codemirror_mode": {
    "name": "ipython",
    "version": 3
   },
   "file_extension": ".py",
   "mimetype": "text/x-python",
   "name": "python",
   "nbconvert_exporter": "python",
   "pygments_lexer": "ipython3",
   "version": "3.8.8"
  }
 },
 "nbformat": 4,
 "nbformat_minor": 5
}
